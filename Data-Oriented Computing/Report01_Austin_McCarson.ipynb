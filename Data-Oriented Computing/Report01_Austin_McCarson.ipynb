{
 "cells": [
  {
   "cell_type": "markdown",
   "metadata": {},
   "source": [
    "# Introduction"
   ]
  },
  {
   "cell_type": "markdown",
   "metadata": {},
   "source": [
    "In this lab report I examined a dataset containing names of children in the United States from 1880 - 2018. For this project, I was required to discover a trend in the dataset. The trend that I discovered was that as more names were accounted for, the ratio of male names to female names converged to about 1:1.7. I dissected the data to determine how the names were distributed and I searched for anomalies in the data. "
   ]
  },
  {
   "cell_type": "code",
   "execution_count": null,
   "metadata": {},
   "outputs": [],
   "source": []
  },
  {
   "cell_type": "code",
   "execution_count": 1,
   "metadata": {},
   "outputs": [
    {
     "data": {
      "text/plain": [
       "['names/yob1880.txt', 'names/yob1881.txt', 'names/yob1882.txt']"
      ]
     },
     "execution_count": 1,
     "metadata": {},
     "output_type": "execute_result"
    }
   ],
   "source": [
    "from glob import glob\n",
    "files = sorted( glob('names/yob*.txt') )\n",
    "files[:3]"
   ]
  },
  {
   "cell_type": "code",
   "execution_count": 3,
   "metadata": {},
   "outputs": [
    {
     "name": "stdout",
     "output_type": "stream",
     "text": [
      "139\n"
     ]
    }
   ],
   "source": [
    "import numpy as np\n",
    "d = {}\n",
    "firstyear = 1880\n",
    "lastyear  = 2018\n",
    "nyears = lastyear - firstyear + 1\n",
    "print(nyears)\n",
    "for file in files: #[:3]:\n",
    "    year = int( file[-8:-4] )\n",
    "    with open(file) as f:\n",
    "        lines = f.read().split('\\n') \n",
    "    lines = [line for line in lines if len(line)>2] # exclude blank lines\n",
    "    for line in lines:\n",
    "        name, gender, count = line.split(',') \n",
    "        #print(name,gender,count)\n",
    "        if name not in d: \n",
    "            # create a new default entry in d for name\n",
    "            d[name] = {'F': np.zeros(nyears,dtype=int)  , \n",
    "                       'M': np.zeros(nyears,dtype=int)  }\n",
    "        d[name][gender][year-firstyear] = int( count ) # because count is a string\n",
    "        #break"
   ]
  },
  {
   "cell_type": "code",
   "execution_count": 22,
   "metadata": {},
   "outputs": [],
   "source": [
    "totals = {}\n",
    "sums = {}\n",
    "\n",
    "for key in d.keys():\n",
    "    sums[key] = {'F': 0, 'M': 0}\n",
    "    totals[key] = sum(d[key]['F']) + sum(d[key]['M'])\n",
    "    sums[key]['F'] = sum(d[key]['F'])\n",
    "    sums[key]['M'] = sum(d[key]['M'])"
   ]
  },
  {
   "cell_type": "code",
   "execution_count": 23,
   "metadata": {},
   "outputs": [
    {
     "data": {
      "text/plain": [
       "['James',\n",
       " 'John',\n",
       " 'Robert',\n",
       " 'Michael',\n",
       " 'Mary',\n",
       " 'William',\n",
       " 'David',\n",
       " 'Joseph',\n",
       " 'Richard',\n",
       " 'Charles',\n",
       " 'Thomas',\n",
       " 'Christopher',\n",
       " 'Daniel',\n",
       " 'Elizabeth',\n",
       " 'Matthew',\n",
       " 'Patricia',\n",
       " 'George',\n",
       " 'Jennifer',\n",
       " 'Linda',\n",
       " 'Anthony',\n",
       " 'Barbara',\n",
       " 'Donald',\n",
       " 'Paul',\n",
       " 'Mark',\n",
       " 'Edward',\n",
       " 'Andrew',\n",
       " 'Steven',\n",
       " 'Kenneth',\n",
       " 'Margaret',\n",
       " 'Joshua']"
      ]
     },
     "execution_count": 23,
     "metadata": {},
     "output_type": "execute_result"
    }
   ],
   "source": [
    "totals = sorted(totals, key=totals.get, reverse=True)\n",
    "totals[:30]"
   ]
  },
  {
   "cell_type": "code",
   "execution_count": 29,
   "metadata": {},
   "outputs": [
    {
     "name": "stdout",
     "output_type": "stream",
     "text": [
      "The population for boys:girls within the first one-thousand names\n",
      "M  54\n",
      "F  46   ratio:  0.8518518518518519\n",
      "M  93\n",
      "F  107   ratio:  1.1505376344086022\n",
      "M  140\n",
      "F  160   ratio:  1.1428571428571428\n",
      "M  189\n",
      "F  211   ratio:  1.1164021164021165\n",
      "M  231\n",
      "F  269   ratio:  1.1645021645021645\n",
      "M  276\n",
      "F  324   ratio:  1.173913043478261\n",
      "M  317\n",
      "F  383   ratio:  1.2082018927444795\n",
      "M  360\n",
      "F  440   ratio:  1.2222222222222223\n",
      "M  411\n",
      "F  489   ratio:  1.1897810218978102\n",
      "\n",
      "The population for boys:girls the rest of the data\n",
      "M  3038\n",
      "F  4462   ratio:  1.4687294272547728\n",
      "M  5927\n",
      "F  9073   ratio:  1.5307912940779485\n",
      "M  8732\n",
      "F  13768   ratio:  1.5767292716445258\n",
      "M  11561\n",
      "F  18439   ratio:  1.5949312343222906\n",
      "M  14202\n",
      "F  23298   ratio:  1.6404731727925643\n",
      "M  16915\n",
      "F  28085   ratio:  1.6603606266627253\n",
      "M  19586\n",
      "F  32914   ratio:  1.6804860614724804\n",
      "M  22294\n",
      "F  37706   ratio:  1.6913070781376156\n",
      "M  25082\n",
      "F  42418   ratio:  1.6911729527150945\n",
      "M  27835\n",
      "F  47165   ratio:  1.6944494341656189\n",
      "M  30460\n",
      "F  52040   ratio:  1.7084701247537755\n",
      "M  32972\n",
      "F  57028   ratio:  1.7295887419628775\n",
      "M  35908\n",
      "F  61592   ratio:  1.7152723627046897\n"
     ]
    }
   ],
   "source": [
    "genders = {'F': [], 'M': []}\n",
    "lengths = {'F': [], 'M': []}\n",
    "ratio = []\n",
    "i = 0\n",
    "for item in totals:\n",
    "    \n",
    "    if i == 0:\n",
    "        print('The population for boys:girls within the first one-thousand names')\n",
    "    if i < 1000 and i%100 == 0 and i != 0:\n",
    "        print('M ', len(genders['M']))\n",
    "        print('F ', len(genders['F']), '  ratio: ', len(genders['F'])/len(genders['M']))\n",
    "        \n",
    "    if i == 1000:\n",
    "        print('\\nThe population for boys:girls the rest of the data')\n",
    "    if i%7500 == 0 and i != 0:\n",
    "        print('M ', len(genders['M']))\n",
    "        print('F ', len(genders['F']), '  ratio: ', len(genders['F'])/len(genders['M']))\n",
    "    if sums[item]['F'] > sums[item]['M']:\n",
    "        genders['F'].append(item)\n",
    "    else:\n",
    "        genders['M'].append(item)\n",
    "    lengths['F'].append(len(genders['F']))\n",
    "    lengths['M'].append(len(genders['M']))\n",
    "    ratio.append(len(genders['F'])/len(genders['M']))\n",
    "    i += 1"
   ]
  },
  {
   "cell_type": "code",
   "execution_count": null,
   "metadata": {},
   "outputs": [],
   "source": []
  },
  {
   "cell_type": "markdown",
   "metadata": {},
   "source": [
    "The trend that I notice is that the gap between the amount of female names compared to male names grows along with the total amount of names. The proportionality converges to approximately 1:1.7, male:female. However in the most common names, it seems to be that the difference in the ratio of names is smaller and that the names in the male population have become much more saturated meaning that there are more common male names than female names. For instance, a group study is more likely to have more males sharing a name than females. As a matter of fact, 12 of the 13 most popular names happen to be masculine names."
   ]
  },
  {
   "cell_type": "code",
   "execution_count": 12,
   "metadata": {},
   "outputs": [
    {
     "data": {
      "text/plain": [
       "[<matplotlib.lines.Line2D at 0x11dd39898>]"
      ]
     },
     "execution_count": 12,
     "metadata": {},
     "output_type": "execute_result"
    },
    {
     "data": {
      "image/png": "[encoded data removed]",
      "text/plain": [
       "<Figure size 432x288 with 1 Axes>"
      ]
     },
     "metadata": {
      "needs_background": "light"
     },
     "output_type": "display_data"
    }
   ],
   "source": [
    "import matplotlib.pyplot as plt\n",
    "lm = np.array(lengths['M'])\n",
    "lf = np.array(lengths['F'])\n",
    "plt.plot(range(len(lf)), lf, color='pink')\n",
    "plt.plot(range(len(lm)), lm, color='skyblue')"
   ]
  },
  {
   "cell_type": "markdown",
   "metadata": {},
   "source": [
    "Taking rise over run, we can see that the slope of the number of male names is 35908/100000 = .35908. This shows us that the commonality of male names can be expressed as \n",
    "                    <br><center>Y = .35908x + b, where b = 0. \n",
    "\n",
    "We can also fit the commonality of female names to a line. The slope is 61592/100000 = .61592 which can be expressed as\n",
    "                    <br><center> Y = .61592x + b, where b = 0."
   ]
  },
  {
   "cell_type": "code",
   "execution_count": 30,
   "metadata": {},
   "outputs": [
    {
     "data": {
      "text/plain": [
       "[<matplotlib.lines.Line2D at 0x11d615eb8>]"
      ]
     },
     "execution_count": 30,
     "metadata": {},
     "output_type": "execute_result"
    },
    {
     "data": {
      "image/png": "[encoded data removed]",
      "text/plain": [
       "<Figure size 432x288 with 1 Axes>"
      ]
     },
     "metadata": {
      "needs_background": "light"
     },
     "output_type": "display_data"
    }
   ],
   "source": [
    "plt.plot(range(len(ratio)), ratio, color='green')"
   ]
  },
  {
   "cell_type": "code",
   "execution_count": null,
   "metadata": {},
   "outputs": [],
   "source": []
  }
 ],
 "metadata": {
  "kernelspec": {
   "display_name": "Python 3",
   "language": "python",
   "name": "python3"
  },
  "language_info": {
   "codemirror_mode": {
    "name": "ipython",
    "version": 3
   },
   "file_extension": ".py",
   "mimetype": "text/x-python",
   "name": "python",
   "nbconvert_exporter": "python",
   "pygments_lexer": "ipython3",
   "version": "3.6.9"
  }
 },
 "nbformat": 4,
 "nbformat_minor": 2
}
