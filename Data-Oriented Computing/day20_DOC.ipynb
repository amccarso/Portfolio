{
 "cells": [
  {
   "cell_type": "code",
   "execution_count": 2,
   "metadata": {},
   "outputs": [
    {
     "name": "stdout",
     "output_type": "stream",
     "text": [
      "Populating the interactive namespace from numpy and matplotlib\n",
      "pngs/000_20191024_ringland__1.png\n"
     ]
    },
    {
     "data": {
      "image/png": "[encoded data removed]",
      "text/plain": [
       "<Figure size 432x288 with 1 Axes>"
      ]
     },
     "metadata": {
      "needs_background": "light"
     },
     "output_type": "display_data"
    }
   ],
   "source": [
    "from PIL import Image\n",
    "import glob\n",
    "%pylab inline\n",
    "\n",
    "pngs = sorted(glob.glob('pngs/*.png'))\n",
    "for png in pngs:\n",
    "    print(png)\n",
    "    img = Image.open(png)\n",
    "    imshow(img)\n",
    "    break"
   ]
  },
  {
   "cell_type": "markdown",
   "metadata": {},
   "source": [
    "Features:\n",
    "\n",
    "amount of ink\n",
    "\n",
    "something derived from 'slope' (not easy)\n",
    "\n",
    "asymmetry - maybe difference in left&right-of-center ink\n",
    "\n",
    "height and/or width or their ratio (aspect)\n",
    "\n",
    "number of connected components of black or white\n",
    "\n",
    "number of transitions on some special lines (horizontal or vertical center lines)"
   ]
  },
  {
   "cell_type": "code",
   "execution_count": 3,
   "metadata": {},
   "outputs": [],
   "source": [
    "import numpy as np"
   ]
  },
  {
   "cell_type": "code",
   "execution_count": 4,
   "metadata": {},
   "outputs": [
    {
     "data": {
      "text/plain": [
       "(numpy.ndarray, (125, 100, 4))"
      ]
     },
     "execution_count": 4,
     "metadata": {},
     "output_type": "execute_result"
    }
   ],
   "source": [
    "a = np.array(img)\n",
    "type(a), a.shape"
   ]
  },
  {
   "cell_type": "code",
   "execution_count": 5,
   "metadata": {},
   "outputs": [
    {
     "data": {
      "text/plain": [
       "(125, 100)"
      ]
     },
     "execution_count": 5,
     "metadata": {},
     "output_type": "execute_result"
    }
   ],
   "source": [
    "a = a[:,:,0] # use just the red layer\n",
    "a.shape"
   ]
  },
  {
   "cell_type": "code",
   "execution_count": 6,
   "metadata": {},
   "outputs": [
    {
     "data": {
      "text/plain": [
       "dtype('uint8')"
      ]
     },
     "execution_count": 6,
     "metadata": {},
     "output_type": "execute_result"
    }
   ],
   "source": [
    "a.dtype"
   ]
  },
  {
   "cell_type": "code",
   "execution_count": 7,
   "metadata": {},
   "outputs": [
    {
     "data": {
      "text/plain": [
       "array([[0, 0, 0, ..., 0, 0, 0],\n",
       "       [0, 0, 0, ..., 0, 0, 0],\n",
       "       [0, 0, 0, ..., 0, 0, 0],\n",
       "       ...,\n",
       "       [0, 0, 0, ..., 0, 0, 0],\n",
       "       [0, 0, 0, ..., 0, 0, 0],\n",
       "       [0, 0, 0, ..., 0, 0, 0]], dtype=uint8)"
      ]
     },
     "execution_count": 7,
     "metadata": {},
     "output_type": "execute_result"
    }
   ],
   "source": [
    "a = 255-a\n",
    "a"
   ]
  },
  {
   "cell_type": "code",
   "execution_count": 8,
   "metadata": {},
   "outputs": [
    {
     "ename": "NameError",
     "evalue": "name 'w' is not defined",
     "output_type": "error",
     "traceback": [
      "\u001b[0;31m---------------------------------------------------------------------------\u001b[0m",
      "\u001b[0;31mNameError\u001b[0m                                 Traceback (most recent call last)",
      "\u001b[0;32m<ipython-input-8-e74f67413d78>\u001b[0m in \u001b[0;36m<module>\u001b[0;34m\u001b[0m\n\u001b[1;32m      4\u001b[0m \u001b[0md\u001b[0m \u001b[0;34m=\u001b[0m \u001b[0mlen\u001b[0m\u001b[0;34m(\u001b[0m\u001b[0mfeatures\u001b[0m\u001b[0;34m)\u001b[0m\u001b[0;34m\u001b[0m\u001b[0;34m\u001b[0m\u001b[0m\n\u001b[1;32m      5\u001b[0m \u001b[0mF\u001b[0m \u001b[0;34m=\u001b[0m \u001b[0mnp\u001b[0m\u001b[0;34m.\u001b[0m\u001b[0mempty\u001b[0m\u001b[0;34m(\u001b[0m\u001b[0;34m(\u001b[0m\u001b[0md\u001b[0m\u001b[0;34m,\u001b[0m\u001b[0mn\u001b[0m\u001b[0;34m)\u001b[0m\u001b[0;34m)\u001b[0m\u001b[0;34m\u001b[0m\u001b[0;34m\u001b[0m\u001b[0m\n\u001b[0;32m----> 6\u001b[0;31m \u001b[0mx\u001b[0m \u001b[0;34m=\u001b[0m \u001b[0mlinspace\u001b[0m\u001b[0;34m(\u001b[0m\u001b[0;36m0\u001b[0m\u001b[0;34m,\u001b[0m\u001b[0mw\u001b[0m\u001b[0;34m,\u001b[0m\u001b[0mw\u001b[0m\u001b[0;34m,\u001b[0m\u001b[0mendpoint\u001b[0m\u001b[0;34m=\u001b[0m\u001b[0;32mFalse\u001b[0m\u001b[0;34m)\u001b[0m\u001b[0;34m\u001b[0m\u001b[0;34m\u001b[0m\u001b[0m\n\u001b[0m\u001b[1;32m      7\u001b[0m \u001b[0my\u001b[0m \u001b[0;34m=\u001b[0m \u001b[0mlinspace\u001b[0m\u001b[0;34m(\u001b[0m\u001b[0;36m0\u001b[0m\u001b[0;34m,\u001b[0m\u001b[0mh\u001b[0m\u001b[0;34m,\u001b[0m\u001b[0mh\u001b[0m\u001b[0;34m,\u001b[0m\u001b[0mendpoint\u001b[0m\u001b[0;34m=\u001b[0m\u001b[0;32mFalse\u001b[0m\u001b[0;34m)\u001b[0m\u001b[0;34m\u001b[0m\u001b[0;34m\u001b[0m\u001b[0m\n\u001b[1;32m      8\u001b[0m \u001b[0mX\u001b[0m\u001b[0;34m,\u001b[0m\u001b[0mY\u001b[0m \u001b[0;34m=\u001b[0m \u001b[0mnp\u001b[0m\u001b[0;34m.\u001b[0m\u001b[0mmeshgrid\u001b[0m\u001b[0;34m(\u001b[0m\u001b[0mx\u001b[0m\u001b[0;34m,\u001b[0m\u001b[0my\u001b[0m\u001b[0;34m)\u001b[0m\u001b[0;34m\u001b[0m\u001b[0;34m\u001b[0m\u001b[0m\n",
      "\u001b[0;31mNameError\u001b[0m: name 'w' is not defined"
     ]
    }
   ],
   "source": [
    "pngs = sorted(glob.glob('pngs/*.png'))\n",
    "n = len(pngs)\n",
    "features = ['ink', 'logaspect', 'lrassym']\n",
    "d = len(features)\n",
    "F = np.empty((d,n))\n",
    "x = linspace(0,w,w,endpoint=False)\n",
    "y = linspace(0,h,h,endpoint=False)\n",
    "X,Y = np.meshgrid(x,y)\n",
    "\n",
    "for k, png in enumerate( pngs ):\n",
    "    #print(png)\n",
    "    img = Image.open(png)\n",
    "    #imshow(img)\n",
    "    a = np.array(img)\n",
    "    a = a[:,:,0]   # get just one layer- all the same\n",
    "    a = 255-a      # invert values\n",
    "    ink = a.sum()/(h*w*255)  # scaled to [0,1]  # maybe too extreme?  # better alternatives\n",
    "    if ink == 0: continue\n",
    "    F[0, k] = ink\n",
    "    \n",
    "    #next - height and width of character\n",
    "    #width\n",
    "    colsums = a.sum(axis=0)\n",
    "    #want first column where sum is positive\n",
    "    #xmin = np.argmin(colsums>0)\n",
    "    \n",
    "    xmin = X[ a>0 ].min()\n",
    "    xmax = X[ a>0 ].max()\n",
    "    ymin = Y[ a>0 ].min()\n",
    "    ymax = Y[ a>0 ].max()\n",
    "    logaspect = np.log10((ymax - ymin)/(xmax - xmin))\n",
    "    F[1,k] = logaspect\n",
    "    \n",
    "    #left-right assymetry\n",
    "    cbbx = (xmin+xmax)/2\n",
    "    cogx = (X*a).sum() / a.sum()\n",
    "    lrassym = (cogx - cbbx) / (xmax - xmin)\n",
    "    F[2, k] = lrassym\n",
    "    \n",
    "    #break\n",
    "    \n",
    "#F"
   ]
  },
  {
   "cell_type": "code",
   "execution_count": null,
   "metadata": {},
   "outputs": [],
   "source": [
    "x = linspace(0,w,w,endpoint=False)\n",
    "x"
   ]
  },
  {
   "cell_type": "code",
   "execution_count": null,
   "metadata": {},
   "outputs": [],
   "source": [
    "y = linspace(0,h,h,endpoint=False)\n",
    "y"
   ]
  },
  {
   "cell_type": "code",
   "execution_count": null,
   "metadata": {},
   "outputs": [],
   "source": [
    "X,Y = np.meshgrid(x,y)"
   ]
  },
  {
   "cell_type": "code",
   "execution_count": null,
   "metadata": {},
   "outputs": [],
   "source": [
    "X, Y"
   ]
  },
  {
   "cell_type": "code",
   "execution_count": null,
   "metadata": {
    "scrolled": true
   },
   "outputs": [],
   "source": [
    "import matplotlib.pyplot as plt\n",
    "%matplotlib inline\n",
    "figure(figsize=(10,10))\n",
    "for i in range(d):\n",
    "    for j in range(d):\n",
    "        plt.subplot(d,d,i*d+j+1)\n",
    "        if i == j :\n",
    "            plt.text(.5,.5,features[i], ha = 'center')\n",
    "        else:\n",
    "            plt.plot( F[j,:], F[i,:], 'o', alpha=0.5 )"
   ]
  },
  {
   "cell_type": "code",
   "execution_count": null,
   "metadata": {},
   "outputs": [],
   "source": [
    "pngs = sorted(glob.glob('handwriting_f19/pngs/*.png'))#[:5]  # new cleaned pngs folder after class\n",
    "\n",
    "n = len(pngs)\n",
    "features = ['ink','log aspect','lr-asymmetry']\n",
    "d = len(features)\n",
    "F = np.empty((d,n))\n",
    "x = arange(0,w) # linspace(0,w,w,endpoint=False)\n",
    "y = arange(0,h) # linspace(0,h,h,endpoint=False)\n",
    "X,Y = np.meshgrid(x,y)\n",
    "\n",
    "\n",
    "for k,png in enumerate( pngs ):\n",
    "        #print(png)\n",
    "        img = Image.open(png)\n",
    "        #imshow(img)\n",
    "        a = np.array(img)\n",
    "        a = a[:,:,0]  # get just one layer- they are all the same\n",
    "        a = 255 - a   # invert so character is high values\n",
    "        ink  = a.sum() / (h*w*255)   # scaled to [0,1]  # maybe too extreme?  # better alternatives\n",
    "        if ink == 0:\n",
    "            print('Blank image:',png)\n",
    "            assert ink>0\n",
    "        F[0 ,k] = ink\n",
    "\n",
    "        # height and width of character\n",
    "        xmin = X[ a>0 ].min()\n",
    "        xmax = X[ a>0 ].max()\n",
    "        ymin = Y[ a>0 ].min()\n",
    "        ymax = Y[ a>0 ].max()\n",
    "        logaspect = np.log10((ymax-ymin)/(xmax-xmin))\n",
    "        F[1 ,k] = logaspect\n",
    "\n",
    "        # left-right asymmetry\n",
    "        cbbx = (xmin+xmax)/2   # center of bounding box\n",
    "        cogx = (X*a).sum() / a.sum() # x-coordinate of center of mass of ink\n",
    "        lrasymmetry = (cogx-cbbx) / (xmax-xmin)\n",
    "        F[2 ,k] = lrasymmetry\n",
    "\n",
    "#print(F)\n",
    "plt.figure(figsize=(12,12))\n",
    "for i in range(d):\n",
    "        for j in range(d):\n",
    "            plt.subplot(d,d,i*d+j+1)\n",
    "            if i==j:\n",
    "                plt.text(.5,.5,features[i],ha='center')\n",
    "                plt.xticks([])\n",
    "                plt.yticks([])\n",
    "            else:\n",
    "                plt.scatter( F[j,:], F[i,:] , s=2, alpha=0.4 )"
   ]
  },
  {
   "cell_type": "code",
   "execution_count": null,
   "metadata": {},
   "outputs": [],
   "source": []
  }
 ],
 "metadata": {
  "kernelspec": {
   "display_name": "Python 3",
   "language": "python",
   "name": "python3"
  },
  "language_info": {
   "codemirror_mode": {
    "name": "ipython",
    "version": 3
   },
   "file_extension": ".py",
   "mimetype": "text/x-python",
   "name": "python",
   "nbconvert_exporter": "python",
   "pygments_lexer": "ipython3",
   "version": "3.6.9"
  }
 },
 "nbformat": 4,
 "nbformat_minor": 2
}
