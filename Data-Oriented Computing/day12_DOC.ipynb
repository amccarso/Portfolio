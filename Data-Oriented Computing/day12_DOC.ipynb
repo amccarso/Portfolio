{
 "cells": [
  {
   "cell_type": "code",
   "execution_count": 1,
   "metadata": {},
   "outputs": [
    {
     "data": {
      "text/plain": [
       "'0.25.1'"
      ]
     },
     "execution_count": 1,
     "metadata": {},
     "output_type": "execute_result"
    }
   ],
   "source": [
    "import pandas as pd\n",
    "pd.__version__"
   ]
  },
  {
   "cell_type": "code",
   "execution_count": 2,
   "metadata": {},
   "outputs": [
    {
     "name": "stderr",
     "output_type": "stream",
     "text": [
      "/Users/austinmccarson/anaconda3/lib/python3.6/site-packages/IPython/core/interactiveshell.py:3058: DtypeWarning: Columns (10) have mixed types. Specify dtype option on import or set low_memory=False.\n",
      "  interactivity=interactivity, compiler=compiler, result=result)\n"
     ]
    }
   ],
   "source": [
    "s = pd.read_csv('Hospital_Inpatient_Discharges__SPARCS_De-Identified___2016.csv')"
   ]
  },
  {
   "cell_type": "code",
   "execution_count": 3,
   "metadata": {},
   "outputs": [],
   "source": [
    "s = pd.read_csv('Hospital_Inpatient_Discharges__SPARCS_De-Identified___2016.csv',\n",
    "               converters={'Total Charges':lambda x:float(x.replace(',',''))})"
   ]
  },
  {
   "cell_type": "code",
   "execution_count": 4,
   "metadata": {},
   "outputs": [
    {
     "data": {
      "text/plain": [
       "2343429"
      ]
     },
     "execution_count": 4,
     "metadata": {},
     "output_type": "execute_result"
    }
   ],
   "source": [
    "len(s)"
   ]
  },
  {
   "cell_type": "code",
   "execution_count": 5,
   "metadata": {},
   "outputs": [
    {
     "data": {
      "text/plain": [
       "Index(['Health Service Area', 'Hospital County',\n",
       "       'Operating Certificate Number', 'Facility Id', 'Facility Name',\n",
       "       'Age Group', 'Zip Code - 3 digits', 'Gender', 'Race', 'Ethnicity',\n",
       "       'Length of Stay', 'Type of Admission', 'Patient Disposition',\n",
       "       'Discharge Year', 'CCS Diagnosis Code', 'CCS Diagnosis Description',\n",
       "       'CCS Procedure Code', 'CCS Procedure Description', 'APR DRG Code',\n",
       "       'APR DRG Description', 'APR MDC Code', 'APR MDC Description',\n",
       "       'APR Severity of Illness Code', 'APR Severity of Illness Description',\n",
       "       'APR Risk of Mortality', 'APR Medical Surgical Description',\n",
       "       'Payment Typology 1', 'Payment Typology 2', 'Payment Typology 3',\n",
       "       'Attending Provider License Number',\n",
       "       'Operating Provider License Number', 'Other Provider License Number',\n",
       "       'Birth Weight', 'Abortion Edit Indicator',\n",
       "       'Emergency Department Indicator', 'Total Charges', 'Total Costs'],\n",
       "      dtype='object')"
      ]
     },
     "execution_count": 5,
     "metadata": {},
     "output_type": "execute_result"
    }
   ],
   "source": [
    "s.columns"
   ]
  },
  {
   "cell_type": "code",
   "execution_count": 6,
   "metadata": {},
   "outputs": [
    {
     "data": {
      "text/plain": [
       "107807177917.20009"
      ]
     },
     "execution_count": 6,
     "metadata": {},
     "output_type": "execute_result"
    }
   ],
   "source": [
    "s['Total Charges'].sum()"
   ]
  },
  {
   "cell_type": "code",
   "execution_count": 7,
   "metadata": {},
   "outputs": [],
   "source": [
    "nypop = 19.54e6"
   ]
  },
  {
   "cell_type": "code",
   "execution_count": 8,
   "metadata": {},
   "outputs": [
    {
     "data": {
      "text/plain": [
       "107807177917.20009"
      ]
     },
     "execution_count": 8,
     "metadata": {},
     "output_type": "execute_result"
    }
   ],
   "source": [
    "s['Total Charges'].sum()"
   ]
  },
  {
   "cell_type": "code",
   "execution_count": 9,
   "metadata": {},
   "outputs": [],
   "source": [
    "import numpy as np\n",
    "#np.array(['hi',' ','there!'],dtype=str).sum()"
   ]
  },
  {
   "cell_type": "code",
   "execution_count": 10,
   "metadata": {},
   "outputs": [],
   "source": [
    "c = s['Total Charges']"
   ]
  },
  {
   "cell_type": "code",
   "execution_count": 11,
   "metadata": {},
   "outputs": [
    {
     "data": {
      "text/plain": [
       "0.01"
      ]
     },
     "execution_count": 11,
     "metadata": {},
     "output_type": "execute_result"
    }
   ],
   "source": [
    "c.min()"
   ]
  },
  {
   "cell_type": "code",
   "execution_count": 12,
   "metadata": {},
   "outputs": [
    {
     "data": {
      "text/plain": [
       "10477499.5"
      ]
     },
     "execution_count": 12,
     "metadata": {},
     "output_type": "execute_result"
    }
   ],
   "source": [
    "c.max()"
   ]
  },
  {
   "cell_type": "code",
   "execution_count": 13,
   "metadata": {},
   "outputs": [
    {
     "data": {
      "text/plain": [
       "Health Service Area                                                        New York City\n",
       "Hospital County                                                                Manhattan\n",
       "Operating Certificate Number                                                 7.00205e+06\n",
       "Facility Id                                                                         1463\n",
       "Facility Name                                                       NYU Hospitals Center\n",
       "Age Group                                                                        0 to 17\n",
       "Zip Code - 3 digits                                                                  100\n",
       "Gender                                                                                 M\n",
       "Race                                                                          Other Race\n",
       "Ethnicity                                                              Not Span/Hispanic\n",
       "Length of Stay                                                                     120 +\n",
       "Type of Admission                                                                 Urgent\n",
       "Patient Disposition                                Medicare Cert Long Term Care Hospital\n",
       "Discharge Year                                                                      2016\n",
       "CCS Diagnosis Code                                                                   131\n",
       "CCS Diagnosis Description              Respiratory failure; insufficiency; arrest (ad...\n",
       "CCS Procedure Code                                                                    34\n",
       "CCS Procedure Description                                        TRACHEOSTOMY; TEMP/PERM\n",
       "APR DRG Code                                                                         121\n",
       "APR DRG Description                                 Other respiratory & chest procedures\n",
       "APR MDC Code                                                                           4\n",
       "APR MDC Description                     Diseases and Disorders of the Respiratory System\n",
       "APR Severity of Illness Code                                                           1\n",
       "APR Severity of Illness Description                                                Minor\n",
       "APR Risk of Mortality                                                              Major\n",
       "APR Medical Surgical Description                                                Surgical\n",
       "Payment Typology 1                                                              Self-Pay\n",
       "Payment Typology 2                                                                   NaN\n",
       "Payment Typology 3                                                                   NaN\n",
       "Attending Provider License Number                                                 273701\n",
       "Operating Provider License Number                                                 242274\n",
       "Other Provider License Number                                                        NaN\n",
       "Birth Weight                                                                           0\n",
       "Abortion Edit Indicator                                                                N\n",
       "Emergency Department Indicator                                                         N\n",
       "Total Charges                                                                1.04775e+07\n",
       "Total Costs                                                                  3.85336e+06\n",
       "Name: 1617184, dtype: object"
      ]
     },
     "execution_count": 13,
     "metadata": {},
     "output_type": "execute_result"
    }
   ],
   "source": [
    "s.loc[ c.idxmax() ]"
   ]
  },
  {
   "cell_type": "code",
   "execution_count": 14,
   "metadata": {},
   "outputs": [
    {
     "data": {
      "text/plain": [
       "46004.0299566149"
      ]
     },
     "execution_count": 14,
     "metadata": {},
     "output_type": "execute_result"
    }
   ],
   "source": [
    "c.mean()"
   ]
  },
  {
   "cell_type": "code",
   "execution_count": 15,
   "metadata": {},
   "outputs": [
    {
     "data": {
      "text/plain": [
       "24889.0"
      ]
     },
     "execution_count": 15,
     "metadata": {},
     "output_type": "execute_result"
    }
   ],
   "source": [
    "c.median()"
   ]
  },
  {
   "cell_type": "markdown",
   "metadata": {},
   "source": [
    "# Make Our Own Histograms"
   ]
  },
  {
   "cell_type": "code",
   "execution_count": 17,
   "metadata": {},
   "outputs": [
    {
     "data": {
      "image/png": "[encoded data removed]",
      "text/plain": [
       "<Figure size 432x288 with 1 Axes>"
      ]
     },
     "metadata": {
      "image/png": {
       "height": 248,
       "width": 388
      },
      "needs_background": "light"
     },
     "output_type": "display_data"
    }
   ],
   "source": [
    "import numpy as np\n",
    "import matplotlib.pyplot as plt\n",
    "%matplotlib inline\n",
    "%config InlineBackend.figure_format = 'retina'\n",
    "\n",
    "x = np.array([0,23,15,5,7,29])\n",
    "\n",
    "plt.plot(x,0*x,'o');"
   ]
  },
  {
   "cell_type": "code",
   "execution_count": 18,
   "metadata": {},
   "outputs": [
    {
     "data": {
      "text/plain": [
       "[<matplotlib.lines.Line2D at 0x130afd048>,\n",
       " <matplotlib.lines.Line2D at 0x140ca4eb8>,\n",
       " <matplotlib.lines.Line2D at 0x140ca4828>,\n",
       " <matplotlib.lines.Line2D at 0x140ca4128>]"
      ]
     },
     "execution_count": 18,
     "metadata": {},
     "output_type": "execute_result"
    },
    {
     "data": {
      "image/png": "[encoded data removed]",
      "text/plain": [
       "<Figure size 432x288 with 1 Axes>"
      ]
     },
     "metadata": {
      "image/png": {
       "height": 248,
       "width": 388
      },
      "needs_background": "light"
     },
     "output_type": "display_data"
    }
   ],
   "source": [
    "plt.plot(x,0*x,'o')\n",
    "[plt.axvline(x) for x in [0,10,20,30]]"
   ]
  },
  {
   "cell_type": "code",
   "execution_count": 19,
   "metadata": {},
   "outputs": [
    {
     "data": {
      "text/plain": [
       "array([0, 2, 1, 0, 0, 2])"
      ]
     },
     "execution_count": 19,
     "metadata": {},
     "output_type": "execute_result"
    }
   ],
   "source": [
    "(x/10).astype(int)"
   ]
  },
  {
   "cell_type": "code",
   "execution_count": 20,
   "metadata": {},
   "outputs": [
    {
     "data": {
      "text/plain": [
       "array([0, 2, 1, 0, 0, 2])"
      ]
     },
     "execution_count": 20,
     "metadata": {},
     "output_type": "execute_result"
    }
   ],
   "source": [
    "x//10"
   ]
  },
  {
   "cell_type": "code",
   "execution_count": 22,
   "metadata": {},
   "outputs": [
    {
     "data": {
      "text/plain": [
       "array([0, 2, 1, 0, 0, 2])"
      ]
     },
     "execution_count": 22,
     "metadata": {},
     "output_type": "execute_result"
    }
   ],
   "source": [
    "xmin = 0\n",
    "binwidth = 10\n",
    "((x-xmin)/binwidth).astype(int)"
   ]
  },
  {
   "cell_type": "code",
   "execution_count": 23,
   "metadata": {},
   "outputs": [
    {
     "data": {
      "text/plain": [
       "array([3, 1, 2])"
      ]
     },
     "execution_count": 23,
     "metadata": {},
     "output_type": "execute_result"
    }
   ],
   "source": [
    "nbins = 3\n",
    "bincounts = np.zeros(nbins, dtype=int)\n",
    "binlocations = ((x-xmin)/binwidth).astype(int)\n",
    "binlocations\n",
    "np.add.at( bincounts, binlocations, 1 )\n",
    "bincounts"
   ]
  },
  {
   "cell_type": "code",
   "execution_count": 26,
   "metadata": {},
   "outputs": [
    {
     "data": {
      "text/plain": [
       "array([ 5., 15., 25.])"
      ]
     },
     "execution_count": 26,
     "metadata": {},
     "output_type": "execute_result"
    }
   ],
   "source": [
    "bincenters = np.linspace(xmin, xmin+binwidth*nbins, nbins, endpoint=False) + binwidth/2\n",
    "bincenters"
   ]
  },
  {
   "cell_type": "code",
   "execution_count": 27,
   "metadata": {},
   "outputs": [
    {
     "data": {
      "text/plain": [
       "<BarContainer object of 3 artists>"
      ]
     },
     "execution_count": 27,
     "metadata": {},
     "output_type": "execute_result"
    },
    {
     "data": {
      "image/png": "[encoded data removed]",
      "text/plain": [
       "<Figure size 432x288 with 1 Axes>"
      ]
     },
     "metadata": {
      "image/png": {
       "height": 248,
       "width": 372
      },
      "needs_background": "light"
     },
     "output_type": "display_data"
    }
   ],
   "source": [
    "plt.bar( bincenters, bincounts, binwidth, edgecolor='w' )"
   ]
  },
  {
   "cell_type": "code",
   "execution_count": 36,
   "metadata": {},
   "outputs": [],
   "source": [
    "from histogram import histogram"
   ]
  },
  {
   "cell_type": "code",
   "execution_count": 37,
   "metadata": {},
   "outputs": [
    {
     "data": {
      "text/plain": [
       "<BarContainer object of 3 artists>"
      ]
     },
     "execution_count": 37,
     "metadata": {},
     "output_type": "execute_result"
    },
    {
     "data": {
      "image/png": "[encoded data removed]",
      "text/plain": [
       "<Figure size 432x288 with 1 Axes>"
      ]
     },
     "metadata": {
      "image/png": {
       "height": 248,
       "width": 378
      },
      "needs_background": "light"
     },
     "output_type": "display_data"
    }
   ],
   "source": [
    "bincenters, bincounts = histogram( x, 0, 30, 3, rawcounts=False )\n",
    "plt.bar( bincenters, bincounts, binwidth )"
   ]
  },
  {
   "cell_type": "code",
   "execution_count": 39,
   "metadata": {},
   "outputs": [
    {
     "data": {
      "text/plain": [
       "<BarContainer object of 3 artists>"
      ]
     },
     "execution_count": 39,
     "metadata": {},
     "output_type": "execute_result"
    },
    {
     "data": {
      "image/png": "[encoded data removed]",
      "text/plain": [
       "<Figure size 432x288 with 1 Axes>"
      ]
     },
     "metadata": {
      "image/png": {
       "height": 248,
       "width": 378
      },
      "needs_background": "light"
     },
     "output_type": "display_data"
    }
   ],
   "source": [
    "bincenters, bincounts = histogram( x, 0, 30, 3, rawcounts=False )\n",
    "binwidth = bincenters[1] - bincenters[0]\n",
    "plt.bar( bincenters, bincounts, binwidth )"
   ]
  },
  {
   "cell_type": "code",
   "execution_count": 40,
   "metadata": {},
   "outputs": [
    {
     "data": {
      "text/plain": [
       "<BarContainer object of 10 artists>"
      ]
     },
     "execution_count": 40,
     "metadata": {},
     "output_type": "execute_result"
    },
    {
     "data": {
      "image/png": "[encoded data removed]",
      "text/plain": [
       "<Figure size 432x288 with 1 Axes>"
      ]
     },
     "metadata": {
      "image/png": {
       "height": 271,
       "width": 362
      },
      "needs_background": "light"
     },
     "output_type": "display_data"
    }
   ],
   "source": [
    "bincenters, bincounts = histogram( c, 0, 1.5e7, rawcounts=False )\n",
    "binwidth = bincenters[1] - bincenters[0]\n",
    "plt.bar( bincenters, bincounts, binwidth )"
   ]
  },
  {
   "cell_type": "code",
   "execution_count": 43,
   "metadata": {},
   "outputs": [
    {
     "data": {
      "text/plain": [
       "<BarContainer object of 20 artists>"
      ]
     },
     "execution_count": 43,
     "metadata": {},
     "output_type": "execute_result"
    },
    {
     "data": {
      "image/png": "[encoded data removed]",
      "text/plain": [
       "<Figure size 432x288 with 1 Axes>"
      ]
     },
     "metadata": {
      "image/png": {
       "height": 248,
       "width": 415
      },
      "needs_background": "light"
     },
     "output_type": "display_data"
    }
   ],
   "source": [
    "bincenters, bincounts = histogram( c, 0, 1e5, 20, rawcounts = False )\n",
    "binwidth = bincenters[1] - bincenters[0]\n",
    "plt.bar( bincenters, bincounts, binwidth, edgecolor = 'w' )"
   ]
  },
  {
   "cell_type": "code",
   "execution_count": 44,
   "metadata": {},
   "outputs": [
    {
     "data": {
      "text/plain": [
       "<BarContainer object of 100 artists>"
      ]
     },
     "execution_count": 44,
     "metadata": {},
     "output_type": "execute_result"
    },
    {
     "data": {
      "image/png": "[encoded data removed]",
      "text/plain": [
       "<Figure size 432x288 with 1 Axes>"
      ]
     },
     "metadata": {
      "image/png": {
       "height": 248,
       "width": 409
      },
      "needs_background": "light"
     },
     "output_type": "display_data"
    }
   ],
   "source": [
    "bincenters, bincounts = histogram( c, 0, 1e5, 100, rawcounts=False )\n",
    "binwidth = bincenters[1] - bincenters[0]\n",
    "plt.bar( bincenters, bincounts, binwidth, edgecolor='w' )"
   ]
  },
  {
   "cell_type": "code",
   "execution_count": 46,
   "metadata": {},
   "outputs": [
    {
     "data": {
      "text/plain": [
       "<BarContainer object of 2 artists>"
      ]
     },
     "execution_count": 46,
     "metadata": {},
     "output_type": "execute_result"
    },
    {
     "data": {
      "image/png": "[encoded data removed]",
      "text/plain": [
       "<Figure size 432x288 with 1 Axes>"
      ]
     },
     "metadata": {
      "image/png": {
       "height": 248,
       "width": 419
      },
      "needs_background": "light"
     },
     "output_type": "display_data"
    }
   ],
   "source": [
    "bincenters, bincounts = histogram( c, 0, 1e5, 2, rawcounts=False )\n",
    "binwidth = bincenters[1] - bincenters[0]\n",
    "plt.bar( bincenters, bincounts, binwidth, edgecolor='w' )"
   ]
  },
  {
   "cell_type": "code",
   "execution_count": null,
   "metadata": {},
   "outputs": [],
   "source": []
  },
  {
   "cell_type": "markdown",
   "metadata": {},
   "source": [
    "Expect fluctuations of size relative to mean"
   ]
  },
  {
   "cell_type": "code",
   "execution_count": 47,
   "metadata": {
    "scrolled": true
   },
   "outputs": [
    {
     "data": {
      "text/plain": [
       "<BarContainer object of 10 artists>"
      ]
     },
     "execution_count": 47,
     "metadata": {},
     "output_type": "execute_result"
    },
    {
     "data": {
      "image/png": "[encoded data removed]",
      "text/plain": [
       "<Figure size 432x288 with 1 Axes>"
      ]
     },
     "metadata": {
      "image/png": {
       "height": 250,
       "width": 383
      },
      "needs_background": "light"
     },
     "output_type": "display_data"
    }
   ],
   "source": [
    "N = 1000\n",
    "nbins = 10\n",
    "u = np.random.rand(N)\n",
    "bincenters, bincounts = histogram( u, 0, 1, nbins, rawcounts = True )\n",
    "binwidth = bincenters[1] - bincenters[0]\n",
    "plt.bar( bincenters, bincounts, binwidth, edgecolor='w')"
   ]
  },
  {
   "cell_type": "code",
   "execution_count": 48,
   "metadata": {},
   "outputs": [
    {
     "data": {
      "text/plain": [
       "<BarContainer object of 10 artists>"
      ]
     },
     "execution_count": 48,
     "metadata": {},
     "output_type": "execute_result"
    },
    {
     "data": {
      "image/png": "[encoded data removed]",
      "text/plain": [
       "<Figure size 432x288 with 1 Axes>"
      ]
     },
     "metadata": {
      "image/png": {
       "height": 248,
       "width": 396
      },
      "needs_background": "light"
     },
     "output_type": "display_data"
    }
   ],
   "source": [
    "N = 100000\n",
    "nbins = 10\n",
    "u = np.random.rand(N)\n",
    "bincenters, bincounts = histogram( u, 0, 1, nbins, rawcounts=True )\n",
    "binwidth = bincenters[1] - bincenters[0]\n",
    "plt.bar( bincenters, bincounts, binwidth, edgecolor='w')"
   ]
  },
  {
   "cell_type": "markdown",
   "metadata": {},
   "source": [
    "An underlying distribution that does actually vary (slowly): exponential"
   ]
  },
  {
   "cell_type": "code",
   "execution_count": 49,
   "metadata": {},
   "outputs": [
    {
     "data": {
      "image/png": "[encoded data removed]",
      "text/plain": [
       "<Figure size 432x288 with 1 Axes>"
      ]
     },
     "metadata": {
      "image/png": {
       "height": 248,
       "width": 399
      },
      "needs_background": "light"
     },
     "output_type": "display_data"
    }
   ],
   "source": [
    "N = 100000\n",
    "nbins = 10\n",
    "u = np.random.rand(N)\n",
    "bincenters,bincounts = histogram( -np.log(u), 0, 2, nbins, rawcounts=True )\n",
    "binwidth = bincenters[1] - bincenters[0]\n",
    "plt.bar( bincenters, bincounts, binwidth, edgecolor='w' ) ;"
   ]
  },
  {
   "cell_type": "code",
   "execution_count": 51,
   "metadata": {},
   "outputs": [
    {
     "data": {
      "image/png": "[encoded data removed]",
      "text/plain": [
       "<Figure size 432x288 with 1 Axes>"
      ]
     },
     "metadata": {
      "image/png": {
       "height": 248,
       "width": 381
      },
      "needs_background": "light"
     },
     "output_type": "display_data"
    }
   ],
   "source": [
    "nbins = 100\n",
    "u = np.random.rand(N)\n",
    "bincenters,bincounts = histogram( -np.log(u), 0, 2, nbins, rawcounts=True )\n",
    "binwidth = bincenters[1] - bincenters[0]\n",
    "plt.bar( bincenters, bincounts, binwidth, edgecolor='w' ) ;"
   ]
  },
  {
   "cell_type": "markdown",
   "metadata": {},
   "source": [
    "The fine-scale structure we see above is just random noise"
   ]
  },
  {
   "cell_type": "markdown",
   "metadata": {},
   "source": [
    "# In contrast, here is a case where the underlying distribution has true very-fine-scale structure:"
   ]
  },
  {
   "cell_type": "code",
   "execution_count": 53,
   "metadata": {},
   "outputs": [],
   "source": [
    "dd = 'CCS Diagnosis Description'\n",
    "fn = 'Facility Name'\n",
    "mmc = s[ (s[dd]=='Liveborn') & (s[fn]=='Maimonides Medical Center')]"
   ]
  },
  {
   "cell_type": "code",
   "execution_count": 54,
   "metadata": {},
   "outputs": [
    {
     "data": {
      "text/plain": [
       "<BarContainer object of 100 artists>"
      ]
     },
     "execution_count": 54,
     "metadata": {},
     "output_type": "execute_result"
    },
    {
     "data": {
      "image/png": "[encoded data removed]",
      "text/plain": [
       "<Figure size 432x288 with 1 Axes>"
      ]
     },
     "metadata": {
      "image/png": {
       "height": 248,
       "width": 387
      },
      "needs_background": "light"
     },
     "output_type": "display_data"
    }
   ],
   "source": [
    "nbins = 100\n",
    "u = np.random.rand(N)\n",
    "bincenters, bincounts = histogram( mmc['Total Charges'], 0, 1e5, nbins, rawcounts=True )\n",
    "binwidth = bincenters[1] - bincenters[0]\n",
    "plt.bar( bincenters, bincounts, binwidth, edgecolor='w' )"
   ]
  },
  {
   "cell_type": "code",
   "execution_count": 55,
   "metadata": {},
   "outputs": [
    {
     "data": {
      "text/plain": [
       "<BarContainer object of 500 artists>"
      ]
     },
     "execution_count": 55,
     "metadata": {},
     "output_type": "execute_result"
    },
    {
     "data": {
      "image/png": "[encoded data removed]",
      "text/plain": [
       "<Figure size 432x288 with 1 Axes>"
      ]
     },
     "metadata": {
      "image/png": {
       "height": 248,
       "width": 385
      },
      "needs_background": "light"
     },
     "output_type": "display_data"
    }
   ],
   "source": [
    "nbins = 500\n",
    "u = np.random.rand(N)\n",
    "bincenters, bincounts = histogram( mmc['Total Charges'], 0, 1e5, nbins, rawcounts=True )\n",
    "binwidth = bincenters[1] - bincenters[0]\n",
    "plt.bar( bincenters, bincounts, binwidth )"
   ]
  },
  {
   "cell_type": "code",
   "execution_count": 57,
   "metadata": {},
   "outputs": [
    {
     "data": {
      "text/plain": [
       "<BarContainer object of 500 artists>"
      ]
     },
     "execution_count": 57,
     "metadata": {},
     "output_type": "execute_result"
    },
    {
     "data": {
      "image/png": "[encoded data removed]",
      "text/plain": [
       "<Figure size 432x288 with 1 Axes>"
      ]
     },
     "metadata": {
      "image/png": {
       "height": 248,
       "width": 382
      },
      "needs_background": "light"
     },
     "output_type": "display_data"
    }
   ],
   "source": [
    "nbins = 500\n",
    "u = np.random.rand(N)\n",
    "bincenters, bincounts = histogram( mmc['Total Charges'], 0, 2e4, nbins, rawcounts=True )\n",
    "binwidth = bincenters[1] - bincenters[0]\n",
    "plt.bar( bincenters, bincounts, binwidth )"
   ]
  },
  {
   "cell_type": "markdown",
   "metadata": {},
   "source": [
    "# Back to all the charges"
   ]
  },
  {
   "cell_type": "markdown",
   "metadata": {},
   "source": [
    "Consider instead the distribution of the logarithms of the charges:"
   ]
  },
  {
   "cell_type": "code",
   "execution_count": 58,
   "metadata": {},
   "outputs": [
    {
     "data": {
      "text/plain": [
       "<BarContainer object of 100 artists>"
      ]
     },
     "execution_count": 58,
     "metadata": {},
     "output_type": "execute_result"
    },
    {
     "data": {
      "image/png": "[encoded data removed]",
      "text/plain": [
       "<Figure size 432x288 with 1 Axes>"
      ]
     },
     "metadata": {
      "image/png": {
       "height": 248,
       "width": 372
      },
      "needs_background": "light"
     },
     "output_type": "display_data"
    }
   ],
   "source": [
    "logc = np.log10(c)\n",
    "bincenters, bincounts = histogram( logc, -2, 8, 100, rawcounts=False)\n",
    "binwidth = bincenters[1] - bincenters[0]\n",
    "plt.bar( bincenters, bincounts, binwidth, edgecolor='w' )"
   ]
  },
  {
   "cell_type": "markdown",
   "metadata": {},
   "source": [
    "Zoom in a bit:"
   ]
  },
  {
   "cell_type": "code",
   "execution_count": 60,
   "metadata": {},
   "outputs": [
    {
     "data": {
      "text/plain": [
       "<BarContainer object of 50 artists>"
      ]
     },
     "execution_count": 60,
     "metadata": {},
     "output_type": "execute_result"
    },
    {
     "data": {
      "image/png": "[encoded data removed]",
      "text/plain": [
       "<Figure size 432x288 with 1 Axes>"
      ]
     },
     "metadata": {
      "image/png": {
       "height": 248,
       "width": 372
      },
      "needs_background": "light"
     },
     "output_type": "display_data"
    }
   ],
   "source": [
    "logc = np.log10(c)\n",
    "bincenters, bincounts = histogram( logc, 3, 6, 50, rawcounts=False )\n",
    "binwidth = bincenters[1] - bincenters[0]\n",
    "plt.bar( bincenters, bincounts, binwidth, edgecolor='w' )"
   ]
  },
  {
   "cell_type": "markdown",
   "metadata": {},
   "source": [
    "Compare with normal distribution:"
   ]
  },
  {
   "cell_type": "code",
   "execution_count": 61,
   "metadata": {},
   "outputs": [],
   "source": [
    "def normal(x,mu,sigma): \n",
    "    return (1/np.sqrt(2*np.pi*sigma**2)*np.exp(-(x-mu)**2/2/sigma**2))"
   ]
  },
  {
   "cell_type": "code",
   "execution_count": 64,
   "metadata": {},
   "outputs": [
    {
     "data": {
      "text/plain": [
       "[<matplotlib.lines.Line2D at 0x12084eef0>]"
      ]
     },
     "execution_count": 64,
     "metadata": {},
     "output_type": "execute_result"
    },
    {
     "data": {
      "image/png": "[encoded data removed]",
      "text/plain": [
       "<Figure size 432x288 with 1 Axes>"
      ]
     },
     "metadata": {
      "image/png": {
       "height": 248,
       "width": 372
      },
      "needs_background": "light"
     },
     "output_type": "display_data"
    }
   ],
   "source": [
    "x = np.linspace(3,6,100)\n",
    "y = normal( x, logc.mean(), logc.std() )\n",
    "plt.bar( bincenters, bincounts, binwidth, edgecolor='w' )\n",
    "plt.plot(x,y)"
   ]
  },
  {
   "cell_type": "code",
   "execution_count": 68,
   "metadata": {},
   "outputs": [],
   "source": [
    "dd = 'CCS Diagnosis Description'\n",
    "b = s[ (s[dd]=='Liveborn') ]"
   ]
  },
  {
   "cell_type": "code",
   "execution_count": 75,
   "metadata": {},
   "outputs": [
    {
     "data": {
      "text/plain": [
       "<BarContainer object of 49 artists>"
      ]
     },
     "execution_count": 75,
     "metadata": {},
     "output_type": "execute_result"
    },
    {
     "data": {
      "image/png": "[encoded data removed]",
      "text/plain": [
       "<Figure size 432x288 with 1 Axes>"
      ]
     },
     "metadata": {
      "image/png": {
       "height": 248,
       "width": 388
      },
      "needs_background": "light"
     },
     "output_type": "display_data"
    }
   ],
   "source": [
    "bincenters, bincounts = histogram( b['Birth Weight'], 0,5000, 49, rawcounts=True )\n",
    "binwidth = bincenters[1] - bincenters[0]\n",
    "plt.bar( bincenters, bincounts, binwidth )"
   ]
  },
  {
   "cell_type": "code",
   "execution_count": 78,
   "metadata": {},
   "outputs": [
    {
     "data": {
      "text/plain": [
       "3200    18479\n",
       "3300    18291\n",
       "3400    18084\n",
       "3100    17243\n",
       "3500    16141\n",
       "        ...  \n",
       "6300       19\n",
       "8200       18\n",
       "5900       16\n",
       "9900       16\n",
       "6900       15\n",
       "Name: Birth Weight, Length: 90, dtype: int64"
      ]
     },
     "execution_count": 78,
     "metadata": {},
     "output_type": "execute_result"
    }
   ],
   "source": [
    "b['Birth Weight'].value_counts()"
   ]
  },
  {
   "cell_type": "code",
   "execution_count": 99,
   "metadata": {},
   "outputs": [
    {
     "data": {
      "text/html": [
       "<div>\n",
       "<style scoped>\n",
       "    .dataframe tbody tr th:only-of-type {\n",
       "        vertical-align: middle;\n",
       "    }\n",
       "\n",
       "    .dataframe tbody tr th {\n",
       "        vertical-align: top;\n",
       "    }\n",
       "\n",
       "    .dataframe thead th {\n",
       "        text-align: right;\n",
       "    }\n",
       "</style>\n",
       "<table border=\"1\" class=\"dataframe\">\n",
       "  <thead>\n",
       "    <tr style=\"text-align: right;\">\n",
       "      <th></th>\n",
       "      <th>kind</th>\n",
       "      <th>name</th>\n",
       "      <th>number sold</th>\n",
       "    </tr>\n",
       "  </thead>\n",
       "  <tbody>\n",
       "    <tr>\n",
       "      <td>0</td>\n",
       "      <td>fruit</td>\n",
       "      <td>apple</td>\n",
       "      <td>24</td>\n",
       "    </tr>\n",
       "    <tr>\n",
       "      <td>1</td>\n",
       "      <td>fruit</td>\n",
       "      <td>orange</td>\n",
       "      <td>67</td>\n",
       "    </tr>\n",
       "    <tr>\n",
       "      <td>2</td>\n",
       "      <td>fruit</td>\n",
       "      <td>banana</td>\n",
       "      <td>113</td>\n",
       "    </tr>\n",
       "    <tr>\n",
       "      <td>3</td>\n",
       "      <td>veg</td>\n",
       "      <td>broccoli</td>\n",
       "      <td>5</td>\n",
       "    </tr>\n",
       "    <tr>\n",
       "      <td>4</td>\n",
       "      <td>veg</td>\n",
       "      <td>carrot</td>\n",
       "      <td>15</td>\n",
       "    </tr>\n",
       "  </tbody>\n",
       "</table>\n",
       "</div>"
      ],
      "text/plain": [
       "    kind      name  number sold\n",
       "0  fruit     apple           24\n",
       "1  fruit    orange           67\n",
       "2  fruit    banana          113\n",
       "3    veg  broccoli            5\n",
       "4    veg    carrot           15"
      ]
     },
     "metadata": {},
     "output_type": "display_data"
    }
   ],
   "source": [
    "df = pd.DataFrame([['fruit','apple',24],\n",
    "                  ['fruit','orange',67],\n",
    "                  ['fruit','banana',113],\n",
    "                  ['veg','broccoli',5],\n",
    "                  ['veg','carrot',15]], columns=['kind','name','number sold'])\n",
    "\n",
    "display(df)"
   ]
  },
  {
   "cell_type": "code",
   "execution_count": 100,
   "metadata": {},
   "outputs": [],
   "source": [
    "g = df.groupby('kind')"
   ]
  },
  {
   "cell_type": "code",
   "execution_count": 101,
   "metadata": {},
   "outputs": [
    {
     "name": "stdout",
     "output_type": "stream",
     "text": [
      "<class 'tuple'>\n",
      "<class 'tuple'>\n"
     ]
    }
   ],
   "source": [
    "for item in g:\n",
    "    print(type(item))"
   ]
  },
  {
   "cell_type": "code",
   "execution_count": 102,
   "metadata": {},
   "outputs": [
    {
     "name": "stdout",
     "output_type": "stream",
     "text": [
      "2\n",
      "2\n"
     ]
    }
   ],
   "source": [
    "for item in g:\n",
    "    print(len(item))"
   ]
  },
  {
   "cell_type": "code",
   "execution_count": 107,
   "metadata": {},
   "outputs": [
    {
     "name": "stdout",
     "output_type": "stream",
     "text": [
      "fruit\n"
     ]
    },
    {
     "data": {
      "text/html": [
       "<div>\n",
       "<style scoped>\n",
       "    .dataframe tbody tr th:only-of-type {\n",
       "        vertical-align: middle;\n",
       "    }\n",
       "\n",
       "    .dataframe tbody tr th {\n",
       "        vertical-align: top;\n",
       "    }\n",
       "\n",
       "    .dataframe thead th {\n",
       "        text-align: right;\n",
       "    }\n",
       "</style>\n",
       "<table border=\"1\" class=\"dataframe\">\n",
       "  <thead>\n",
       "    <tr style=\"text-align: right;\">\n",
       "      <th></th>\n",
       "      <th>kind</th>\n",
       "      <th>name</th>\n",
       "      <th>number sold</th>\n",
       "    </tr>\n",
       "  </thead>\n",
       "  <tbody>\n",
       "    <tr>\n",
       "      <td>0</td>\n",
       "      <td>fruit</td>\n",
       "      <td>apple</td>\n",
       "      <td>24</td>\n",
       "    </tr>\n",
       "    <tr>\n",
       "      <td>1</td>\n",
       "      <td>fruit</td>\n",
       "      <td>orange</td>\n",
       "      <td>67</td>\n",
       "    </tr>\n",
       "    <tr>\n",
       "      <td>2</td>\n",
       "      <td>fruit</td>\n",
       "      <td>banana</td>\n",
       "      <td>113</td>\n",
       "    </tr>\n",
       "  </tbody>\n",
       "</table>\n",
       "</div>"
      ],
      "text/plain": [
       "    kind    name  number sold\n",
       "0  fruit   apple           24\n",
       "1  fruit  orange           67\n",
       "2  fruit  banana          113"
      ]
     },
     "metadata": {},
     "output_type": "display_data"
    },
    {
     "name": "stdout",
     "output_type": "stream",
     "text": [
      "veg\n"
     ]
    },
    {
     "data": {
      "text/html": [
       "<div>\n",
       "<style scoped>\n",
       "    .dataframe tbody tr th:only-of-type {\n",
       "        vertical-align: middle;\n",
       "    }\n",
       "\n",
       "    .dataframe tbody tr th {\n",
       "        vertical-align: top;\n",
       "    }\n",
       "\n",
       "    .dataframe thead th {\n",
       "        text-align: right;\n",
       "    }\n",
       "</style>\n",
       "<table border=\"1\" class=\"dataframe\">\n",
       "  <thead>\n",
       "    <tr style=\"text-align: right;\">\n",
       "      <th></th>\n",
       "      <th>kind</th>\n",
       "      <th>name</th>\n",
       "      <th>number sold</th>\n",
       "    </tr>\n",
       "  </thead>\n",
       "  <tbody>\n",
       "    <tr>\n",
       "      <td>3</td>\n",
       "      <td>veg</td>\n",
       "      <td>broccoli</td>\n",
       "      <td>5</td>\n",
       "    </tr>\n",
       "    <tr>\n",
       "      <td>4</td>\n",
       "      <td>veg</td>\n",
       "      <td>carrot</td>\n",
       "      <td>15</td>\n",
       "    </tr>\n",
       "  </tbody>\n",
       "</table>\n",
       "</div>"
      ],
      "text/plain": [
       "  kind      name  number sold\n",
       "3  veg  broccoli            5\n",
       "4  veg    carrot           15"
      ]
     },
     "metadata": {},
     "output_type": "display_data"
    }
   ],
   "source": [
    "for x,y in g:\n",
    "    print(x)\n",
    "    display(y)"
   ]
  },
  {
   "cell_type": "code",
   "execution_count": 104,
   "metadata": {},
   "outputs": [
    {
     "data": {
      "text/html": [
       "<div>\n",
       "<style scoped>\n",
       "    .dataframe tbody tr th:only-of-type {\n",
       "        vertical-align: middle;\n",
       "    }\n",
       "\n",
       "    .dataframe tbody tr th {\n",
       "        vertical-align: top;\n",
       "    }\n",
       "\n",
       "    .dataframe thead th {\n",
       "        text-align: right;\n",
       "    }\n",
       "</style>\n",
       "<table border=\"1\" class=\"dataframe\">\n",
       "  <thead>\n",
       "    <tr style=\"text-align: right;\">\n",
       "      <th></th>\n",
       "      <th>number sold</th>\n",
       "    </tr>\n",
       "    <tr>\n",
       "      <th>kind</th>\n",
       "      <th></th>\n",
       "    </tr>\n",
       "  </thead>\n",
       "  <tbody>\n",
       "    <tr>\n",
       "      <td>fruit</td>\n",
       "      <td>67</td>\n",
       "    </tr>\n",
       "    <tr>\n",
       "      <td>veg</td>\n",
       "      <td>10</td>\n",
       "    </tr>\n",
       "  </tbody>\n",
       "</table>\n",
       "</div>"
      ],
      "text/plain": [
       "       number sold\n",
       "kind              \n",
       "fruit           67\n",
       "veg             10"
      ]
     },
     "execution_count": 104,
     "metadata": {},
     "output_type": "execute_result"
    }
   ],
   "source": [
    "g.agg({'number sold': 'median' })"
   ]
  },
  {
   "cell_type": "code",
   "execution_count": 105,
   "metadata": {},
   "outputs": [
    {
     "data": {
      "text/html": [
       "<div>\n",
       "<style scoped>\n",
       "    .dataframe tbody tr th:only-of-type {\n",
       "        vertical-align: middle;\n",
       "    }\n",
       "\n",
       "    .dataframe tbody tr th {\n",
       "        vertical-align: top;\n",
       "    }\n",
       "\n",
       "    .dataframe thead th {\n",
       "        text-align: right;\n",
       "    }\n",
       "</style>\n",
       "<table border=\"1\" class=\"dataframe\">\n",
       "  <thead>\n",
       "    <tr style=\"text-align: right;\">\n",
       "      <th></th>\n",
       "      <th>median number sold</th>\n",
       "    </tr>\n",
       "    <tr>\n",
       "      <th>kind</th>\n",
       "      <th></th>\n",
       "    </tr>\n",
       "  </thead>\n",
       "  <tbody>\n",
       "    <tr>\n",
       "      <td>fruit</td>\n",
       "      <td>67</td>\n",
       "    </tr>\n",
       "    <tr>\n",
       "      <td>veg</td>\n",
       "      <td>10</td>\n",
       "    </tr>\n",
       "  </tbody>\n",
       "</table>\n",
       "</div>"
      ],
      "text/plain": [
       "       median number sold\n",
       "kind                     \n",
       "fruit                  67\n",
       "veg                    10"
      ]
     },
     "execution_count": 105,
     "metadata": {},
     "output_type": "execute_result"
    }
   ],
   "source": [
    "g.agg({ 'number sold': 'median' }).rename(columns={'number sold':'median number sold'})"
   ]
  },
  {
   "cell_type": "code",
   "execution_count": 106,
   "metadata": {},
   "outputs": [
    {
     "data": {
      "text/html": [
       "<div>\n",
       "<style scoped>\n",
       "    .dataframe tbody tr th:only-of-type {\n",
       "        vertical-align: middle;\n",
       "    }\n",
       "\n",
       "    .dataframe tbody tr th {\n",
       "        vertical-align: top;\n",
       "    }\n",
       "\n",
       "    .dataframe thead th {\n",
       "        text-align: right;\n",
       "    }\n",
       "</style>\n",
       "<table border=\"1\" class=\"dataframe\">\n",
       "  <thead>\n",
       "    <tr style=\"text-align: right;\">\n",
       "      <th></th>\n",
       "      <th>kind</th>\n",
       "      <th>median number sold</th>\n",
       "    </tr>\n",
       "  </thead>\n",
       "  <tbody>\n",
       "    <tr>\n",
       "      <td>0</td>\n",
       "      <td>fruit</td>\n",
       "      <td>67</td>\n",
       "    </tr>\n",
       "    <tr>\n",
       "      <td>1</td>\n",
       "      <td>veg</td>\n",
       "      <td>10</td>\n",
       "    </tr>\n",
       "  </tbody>\n",
       "</table>\n",
       "</div>"
      ],
      "text/plain": [
       "    kind  median number sold\n",
       "0  fruit                  67\n",
       "1    veg                  10"
      ]
     },
     "execution_count": 106,
     "metadata": {},
     "output_type": "execute_result"
    }
   ],
   "source": [
    "g.agg({ 'number sold': 'median' }).rename(columns={'number sold':'median number sold'}).reset_index()"
   ]
  },
  {
   "cell_type": "markdown",
   "metadata": {},
   "source": [
    "Use the above methods (groupby and agg) to find the most common diagnoses"
   ]
  },
  {
   "cell_type": "code",
   "execution_count": 108,
   "metadata": {},
   "outputs": [
    {
     "data": {
      "text/plain": [
       "Index(['Health Service Area', 'Hospital County',\n",
       "       'Operating Certificate Number', 'Facility Id', 'Facility Name',\n",
       "       'Age Group', 'Zip Code - 3 digits', 'Gender', 'Race', 'Ethnicity',\n",
       "       'Length of Stay', 'Type of Admission', 'Patient Disposition',\n",
       "       'Discharge Year', 'CCS Diagnosis Code', 'CCS Diagnosis Description',\n",
       "       'CCS Procedure Code', 'CCS Procedure Description', 'APR DRG Code',\n",
       "       'APR DRG Description', 'APR MDC Code', 'APR MDC Description',\n",
       "       'APR Severity of Illness Code', 'APR Severity of Illness Description',\n",
       "       'APR Risk of Mortality', 'APR Medical Surgical Description',\n",
       "       'Payment Typology 1', 'Payment Typology 2', 'Payment Typology 3',\n",
       "       'Attending Provider License Number',\n",
       "       'Operating Provider License Number', 'Other Provider License Number',\n",
       "       'Birth Weight', 'Abortion Edit Indicator',\n",
       "       'Emergency Department Indicator', 'Total Charges', 'Total Costs'],\n",
       "      dtype='object')"
      ]
     },
     "execution_count": 108,
     "metadata": {},
     "output_type": "execute_result"
    }
   ],
   "source": [
    "s.columns"
   ]
  },
  {
   "cell_type": "code",
   "execution_count": 117,
   "metadata": {},
   "outputs": [],
   "source": [
    "admissions = {}\n",
    "for x in s['CCS Diagnosis Description']:\n",
    "    if x not in admissions:\n",
    "        admissions[x] = 0\n",
    "    else: admissions[x] = admissions[x]+1"
   ]
  },
  {
   "cell_type": "code",
   "execution_count": 123,
   "metadata": {},
   "outputs": [
    {
     "data": {
      "text/html": [
       "<div>\n",
       "<style scoped>\n",
       "    .dataframe tbody tr th:only-of-type {\n",
       "        vertical-align: middle;\n",
       "    }\n",
       "\n",
       "    .dataframe tbody tr th {\n",
       "        vertical-align: top;\n",
       "    }\n",
       "\n",
       "    .dataframe thead th {\n",
       "        text-align: right;\n",
       "    }\n",
       "</style>\n",
       "<table border=\"1\" class=\"dataframe\">\n",
       "  <thead>\n",
       "    <tr style=\"text-align: right;\">\n",
       "      <th></th>\n",
       "      <th>count</th>\n",
       "    </tr>\n",
       "    <tr>\n",
       "      <th>CCS Diagnosis Description</th>\n",
       "      <th></th>\n",
       "    </tr>\n",
       "  </thead>\n",
       "  <tbody>\n",
       "    <tr>\n",
       "      <td>Liveborn</td>\n",
       "      <td>224615</td>\n",
       "    </tr>\n",
       "    <tr>\n",
       "      <td>Septicemia (except in labor)</td>\n",
       "      <td>111075</td>\n",
       "    </tr>\n",
       "    <tr>\n",
       "      <td>Osteoarthritis</td>\n",
       "      <td>67235</td>\n",
       "    </tr>\n",
       "    <tr>\n",
       "      <td>Mood disorders</td>\n",
       "      <td>54227</td>\n",
       "    </tr>\n",
       "    <tr>\n",
       "      <td>Alcohol-related disorders</td>\n",
       "      <td>50459</td>\n",
       "    </tr>\n",
       "  </tbody>\n",
       "</table>\n",
       "</div>"
      ],
      "text/plain": [
       "                               count\n",
       "CCS Diagnosis Description           \n",
       "Liveborn                      224615\n",
       "Septicemia (except in labor)  111075\n",
       "Osteoarthritis                 67235\n",
       "Mood disorders                 54227\n",
       "Alcohol-related disorders      50459"
      ]
     },
     "execution_count": 123,
     "metadata": {},
     "output_type": "execute_result"
    }
   ],
   "source": [
    "s.groupby(dd).agg({dd:'count'}).rename(columns={dd:'count'}).sort_values('count',ascending=False).head()"
   ]
  },
  {
   "cell_type": "code",
   "execution_count": 133,
   "metadata": {},
   "outputs": [
    {
     "data": {
      "text/html": [
       "<div>\n",
       "<style scoped>\n",
       "    .dataframe tbody tr th:only-of-type {\n",
       "        vertical-align: middle;\n",
       "    }\n",
       "\n",
       "    .dataframe tbody tr th {\n",
       "        vertical-align: top;\n",
       "    }\n",
       "\n",
       "    .dataframe thead th {\n",
       "        text-align: right;\n",
       "    }\n",
       "</style>\n",
       "<table border=\"1\" class=\"dataframe\">\n",
       "  <thead>\n",
       "    <tr style=\"text-align: right;\">\n",
       "      <th></th>\n",
       "      <th>CCS Diagnosis Description</th>\n",
       "      <th>count</th>\n",
       "    </tr>\n",
       "  </thead>\n",
       "  <tbody>\n",
       "    <tr>\n",
       "      <td>0</td>\n",
       "      <td>Cancer of bronchus; lung</td>\n",
       "      <td>9388</td>\n",
       "    </tr>\n",
       "    <tr>\n",
       "      <td>1</td>\n",
       "      <td>Cancer of colon</td>\n",
       "      <td>5995</td>\n",
       "    </tr>\n",
       "    <tr>\n",
       "      <td>2</td>\n",
       "      <td>Cancer of breast</td>\n",
       "      <td>5238</td>\n",
       "    </tr>\n",
       "    <tr>\n",
       "      <td>3</td>\n",
       "      <td>Cancer of prostate</td>\n",
       "      <td>4500</td>\n",
       "    </tr>\n",
       "    <tr>\n",
       "      <td>4</td>\n",
       "      <td>Cancer of kidney and renal pelvis</td>\n",
       "      <td>3368</td>\n",
       "    </tr>\n",
       "  </tbody>\n",
       "</table>\n",
       "</div>"
      ],
      "text/plain": [
       "           CCS Diagnosis Description  count\n",
       "0           Cancer of bronchus; lung   9388\n",
       "1                    Cancer of colon   5995\n",
       "2                   Cancer of breast   5238\n",
       "3                 Cancer of prostate   4500\n",
       "4  Cancer of kidney and renal pelvis   3368"
      ]
     },
     "execution_count": 133,
     "metadata": {},
     "output_type": "execute_result"
    }
   ],
   "source": [
    "(s[s[dd].str.contains('ancer')]\n",
    ".groupby(dd)\n",
    ".agg({dd:'count'})\n",
    ".rename(columns={dd:'count'})\n",
    ".sort_values('count', ascending=False)\n",
    ".head()\n",
    ".reset_index()\n",
    ")"
   ]
  },
  {
   "cell_type": "code",
   "execution_count": 134,
   "metadata": {},
   "outputs": [],
   "source": [
    "cc = (s[s[dd].str.contains('ancer')]\n",
    ".groupby(dd)\n",
    ".agg({dd:'count'})\n",
    ".rename(columns={dd:'count'})\n",
    ".sort_values('count', ascending=False)\n",
    ".reset_index()\n",
    ")"
   ]
  },
  {
   "cell_type": "code",
   "execution_count": 136,
   "metadata": {},
   "outputs": [
    {
     "data": {
      "application/javascript": [
       "const spec = {\"config\": {\"view\": {\"width\": 400, \"height\": 300}, \"mark\": {\"tooltip\": null}}, \"data\": {\"name\": \"data-f2f1ba92ddb2216ef81bfe351ca61fe5\"}, \"mark\": \"bar\", \"encoding\": {\"x\": {\"type\": \"quantitative\", \"field\": \"count\"}, \"y\": {\"type\": \"nominal\", \"field\": \"CCS Diagnosis Description\", \"sort\": null}}, \"$schema\": \"https://vega.github.io/schema/vega-lite/v3.4.0.json\", \"datasets\": {\"data-f2f1ba92ddb2216ef81bfe351ca61fe5\": [{\"CCS Diagnosis Description\": \"Cancer of bronchus; lung\", \"count\": 9388}, {\"CCS Diagnosis Description\": \"Cancer of colon\", \"count\": 5995}, {\"CCS Diagnosis Description\": \"Cancer of breast\", \"count\": 5238}, {\"CCS Diagnosis Description\": \"Cancer of prostate\", \"count\": 4500}, {\"CCS Diagnosis Description\": \"Cancer of kidney and renal pelvis\", \"count\": 3368}, {\"CCS Diagnosis Description\": \"Cancer of pancreas\", \"count\": 2989}, {\"CCS Diagnosis Description\": \"Cancer of brain and nervous system\", \"count\": 2943}, {\"CCS Diagnosis Description\": \"Cancer of rectum and anus\", \"count\": 2518}, {\"CCS Diagnosis Description\": \"Cancer of head and neck\", \"count\": 2357}, {\"CCS Diagnosis Description\": \"Cancer of liver and intrahepatic bile duct\", \"count\": 2274}, {\"CCS Diagnosis Description\": \"Cancer of uterus\", \"count\": 2243}, {\"CCS Diagnosis Description\": \"Cancer of bladder\", \"count\": 2222}, {\"CCS Diagnosis Description\": \"Cancer of stomach\", \"count\": 2175}, {\"CCS Diagnosis Description\": \"Cancer of ovary\", \"count\": 1759}, {\"CCS Diagnosis Description\": \"Cancer of other GI organs; peritoneum\", \"count\": 1568}, {\"CCS Diagnosis Description\": \"Cancer of thyroid\", \"count\": 1232}, {\"CCS Diagnosis Description\": \"Cancer of bone and connective tissue\", \"count\": 1148}, {\"CCS Diagnosis Description\": \"Cancer of esophagus\", \"count\": 994}, {\"CCS Diagnosis Description\": \"Cancer of cervix\", \"count\": 768}, {\"CCS Diagnosis Description\": \"Cancer; other and unspecified primary\", \"count\": 630}, {\"CCS Diagnosis Description\": \"Cancer of other female genital organs\", \"count\": 418}, {\"CCS Diagnosis Description\": \"Other non-epithelial cancer of skin\", \"count\": 414}, {\"CCS Diagnosis Description\": \"Cancer of other urinary organs\", \"count\": 274}, {\"CCS Diagnosis Description\": \"Cancer; other respiratory and intrathoracic\", \"count\": 221}, {\"CCS Diagnosis Description\": \"Cancer of testis\", \"count\": 120}, {\"CCS Diagnosis Description\": \"Cancer of other male genital organs\", \"count\": 78}]}};\n",
       "const opt = {};\n",
       "const type = \"vega-lite\";\n",
       "const id = \"ce668569-c8a2-44e2-89c8-68b261a2601e\";\n",
       "\n",
       "const output_area = this;\n",
       "\n",
       "require([\"nbextensions/jupyter-vega/index\"], function(vega) {\n",
       "  const target = document.createElement(\"div\");\n",
       "  target.id = id;\n",
       "  target.className = \"vega-embed\";\n",
       "\n",
       "  const style = document.createElement(\"style\");\n",
       "  style.textContent = [\n",
       "    \".vega-embed .error p {\",\n",
       "    \"  color: firebrick;\",\n",
       "    \"  font-size: 14px;\",\n",
       "    \"}\",\n",
       "  ].join(\"\\\\n\");\n",
       "\n",
       "  // element is a jQuery wrapped DOM element inside the output area\n",
       "  // see http://ipython.readthedocs.io/en/stable/api/generated/\\\n",
       "  // IPython.display.html#IPython.display.Javascript.__init__\n",
       "  element[0].appendChild(target);\n",
       "  element[0].appendChild(style);\n",
       "\n",
       "  vega.render(\"#\" + id, spec, type, opt, output_area);\n",
       "}, function (err) {\n",
       "  if (err.requireType !== \"scripterror\") {\n",
       "    throw(err);\n",
       "  }\n",
       "});\n"
      ],
      "text/plain": [
       "<vega.vegalite.VegaLite at 0x122ddf048>"
      ]
     },
     "metadata": {
      "jupyter-vega": "#ce668569-c8a2-44e2-89c8-68b261a2601e"
     },
     "output_type": "display_data"
    },
    {
     "data": {
      "text/plain": []
     },
     "execution_count": 136,
     "metadata": {},
     "output_type": "execute_result"
    },
    {
     "data": {
      "image/png": "[encoded data removed]"
     },
     "metadata": {
      "jupyter-vega": "#ce668569-c8a2-44e2-89c8-68b261a2601e"
     },
     "output_type": "display_data"
    }
   ],
   "source": [
    "import altair as alt\n",
    "alt.renderers.enable('notebook')\n",
    "alt.Chart(cc).mark_bar().encode(x='count',y=alt.Y(dd,sort=None))"
   ]
  },
  {
   "cell_type": "code",
   "execution_count": 223,
   "metadata": {},
   "outputs": [
    {
     "data": {
      "text/plain": [
       "218    224615\n",
       "2      111075\n",
       "203     67235\n",
       "657     54227\n",
       "660     50459\n",
       "        ...  \n",
       "206        26\n",
       "86         24\n",
       "176        13\n",
       "174        11\n",
       "663         3\n",
       "Name: CCS Diagnosis Code, Length: 264, dtype: int64"
      ]
     },
     "execution_count": 223,
     "metadata": {},
     "output_type": "execute_result"
    }
   ],
   "source": [
    "dc = 'CCS Diagnosis Code'\n",
    "s[dc].value_counts()"
   ]
  },
  {
   "cell_type": "code",
   "execution_count": 224,
   "metadata": {},
   "outputs": [],
   "source": [
    "dd = 'CCS Diagnosis Description'\n",
    "sc = s[ (s[dd].str.contains('ancer')) | (s[dd].str.contains('elanoma')) | (s[dd].str.contains('ymphoma'))]"
   ]
  },
  {
   "cell_type": "code",
   "execution_count": 225,
   "metadata": {},
   "outputs": [
    {
     "name": "stderr",
     "output_type": "stream",
     "text": [
      "/Users/austinmccarson/anaconda3/lib/python3.6/site-packages/ipykernel_launcher.py:2: FutureWarning: Interpreting tuple 'by' as a list of keys, rather than a single key. Use 'by=[...]' instead of 'by=(...)'. In the future, a tuple will always mean a single key.\n",
      "  \n"
     ]
    }
   ],
   "source": [
    "cc = ( sc\n",
    "     .groupby((dd,'Age Group'))\n",
    "     .agg({dd:'count'})\n",
    "     .rename(columns={dd:'count'})\n",
    "     .reset_index()\n",
    "     )"
   ]
  },
  {
   "cell_type": "code",
   "execution_count": 226,
   "metadata": {},
   "outputs": [
    {
     "data": {
      "application/javascript": [
       "const spec = {\"config\": {\"view\": {\"width\": 400, \"height\": 300}, \"mark\": {\"tooltip\": null}}, \"data\": {\"name\": \"data-625dd0cf45ab2d786fd8457116f8a574\"}, \"mark\": \"bar\", \"encoding\": {\"color\": {\"type\": \"nominal\", \"field\": \"Age Group\"}, \"x\": {\"type\": \"quantitative\", \"field\": \"count\"}, \"y\": {\"type\": \"nominal\", \"field\": \"CCS Diagnosis Description\", \"sort\": null}}, \"$schema\": \"https://vega.github.io/schema/vega-lite/v3.4.0.json\", \"datasets\": {\"data-625dd0cf45ab2d786fd8457116f8a574\": [{\"CCS Diagnosis Description\": \"Cancer of bladder\", \"Age Group\": \"0 to 17\", \"count\": 2}, {\"CCS Diagnosis Description\": \"Cancer of bladder\", \"Age Group\": \"30 to 49\", \"count\": 59}, {\"CCS Diagnosis Description\": \"Cancer of bladder\", \"Age Group\": \"50 to 69\", \"count\": 757}, {\"CCS Diagnosis Description\": \"Cancer of bladder\", \"Age Group\": \"70 or Older\", \"count\": 1404}, {\"CCS Diagnosis Description\": \"Cancer of bone and connective tissue\", \"Age Group\": \"0 to 17\", \"count\": 142}, {\"CCS Diagnosis Description\": \"Cancer of bone and connective tissue\", \"Age Group\": \"18 to 29\", \"count\": 95}, {\"CCS Diagnosis Description\": \"Cancer of bone and connective tissue\", \"Age Group\": \"30 to 49\", \"count\": 217}, {\"CCS Diagnosis Description\": \"Cancer of bone and connective tissue\", \"Age Group\": \"50 to 69\", \"count\": 392}, {\"CCS Diagnosis Description\": \"Cancer of bone and connective tissue\", \"Age Group\": \"70 or Older\", \"count\": 302}, {\"CCS Diagnosis Description\": \"Cancer of brain and nervous system\", \"Age Group\": \"0 to 17\", \"count\": 287}, {\"CCS Diagnosis Description\": \"Cancer of brain and nervous system\", \"Age Group\": \"18 to 29\", \"count\": 162}, {\"CCS Diagnosis Description\": \"Cancer of brain and nervous system\", \"Age Group\": \"30 to 49\", \"count\": 562}, {\"CCS Diagnosis Description\": \"Cancer of brain and nervous system\", \"Age Group\": \"50 to 69\", \"count\": 1304}, {\"CCS Diagnosis Description\": \"Cancer of brain and nervous system\", \"Age Group\": \"70 or Older\", \"count\": 628}, {\"CCS Diagnosis Description\": \"Cancer of breast\", \"Age Group\": \"18 to 29\", \"count\": 40}, {\"CCS Diagnosis Description\": \"Cancer of breast\", \"Age Group\": \"30 to 49\", \"count\": 1412}, {\"CCS Diagnosis Description\": \"Cancer of breast\", \"Age Group\": \"50 to 69\", \"count\": 2666}, {\"CCS Diagnosis Description\": \"Cancer of breast\", \"Age Group\": \"70 or Older\", \"count\": 1120}, {\"CCS Diagnosis Description\": \"Cancer of bronchus; lung\", \"Age Group\": \"0 to 17\", \"count\": 5}, {\"CCS Diagnosis Description\": \"Cancer of bronchus; lung\", \"Age Group\": \"18 to 29\", \"count\": 15}, {\"CCS Diagnosis Description\": \"Cancer of bronchus; lung\", \"Age Group\": \"30 to 49\", \"count\": 373}, {\"CCS Diagnosis Description\": \"Cancer of bronchus; lung\", \"Age Group\": \"50 to 69\", \"count\": 4436}, {\"CCS Diagnosis Description\": \"Cancer of bronchus; lung\", \"Age Group\": \"70 or Older\", \"count\": 4559}, {\"CCS Diagnosis Description\": \"Cancer of cervix\", \"Age Group\": \"0 to 17\", \"count\": 3}, {\"CCS Diagnosis Description\": \"Cancer of cervix\", \"Age Group\": \"18 to 29\", \"count\": 17}, {\"CCS Diagnosis Description\": \"Cancer of cervix\", \"Age Group\": \"30 to 49\", \"count\": 297}, {\"CCS Diagnosis Description\": \"Cancer of cervix\", \"Age Group\": \"50 to 69\", \"count\": 325}, {\"CCS Diagnosis Description\": \"Cancer of cervix\", \"Age Group\": \"70 or Older\", \"count\": 126}, {\"CCS Diagnosis Description\": \"Cancer of colon\", \"Age Group\": \"0 to 17\", \"count\": 6}, {\"CCS Diagnosis Description\": \"Cancer of colon\", \"Age Group\": \"18 to 29\", \"count\": 38}, {\"CCS Diagnosis Description\": \"Cancer of colon\", \"Age Group\": \"30 to 49\", \"count\": 559}, {\"CCS Diagnosis Description\": \"Cancer of colon\", \"Age Group\": \"50 to 69\", \"count\": 2474}, {\"CCS Diagnosis Description\": \"Cancer of colon\", \"Age Group\": \"70 or Older\", \"count\": 2918}, {\"CCS Diagnosis Description\": \"Cancer of esophagus\", \"Age Group\": \"18 to 29\", \"count\": 4}, {\"CCS Diagnosis Description\": \"Cancer of esophagus\", \"Age Group\": \"30 to 49\", \"count\": 44}, {\"CCS Diagnosis Description\": \"Cancer of esophagus\", \"Age Group\": \"50 to 69\", \"count\": 512}, {\"CCS Diagnosis Description\": \"Cancer of esophagus\", \"Age Group\": \"70 or Older\", \"count\": 434}, {\"CCS Diagnosis Description\": \"Cancer of head and neck\", \"Age Group\": \"0 to 17\", \"count\": 17}, {\"CCS Diagnosis Description\": \"Cancer of head and neck\", \"Age Group\": \"18 to 29\", \"count\": 25}, {\"CCS Diagnosis Description\": \"Cancer of head and neck\", \"Age Group\": \"30 to 49\", \"count\": 232}, {\"CCS Diagnosis Description\": \"Cancer of head and neck\", \"Age Group\": \"50 to 69\", \"count\": 1318}, {\"CCS Diagnosis Description\": \"Cancer of head and neck\", \"Age Group\": \"70 or Older\", \"count\": 765}, {\"CCS Diagnosis Description\": \"Cancer of kidney and renal pelvis\", \"Age Group\": \"0 to 17\", \"count\": 60}, {\"CCS Diagnosis Description\": \"Cancer of kidney and renal pelvis\", \"Age Group\": \"18 to 29\", \"count\": 28}, {\"CCS Diagnosis Description\": \"Cancer of kidney and renal pelvis\", \"Age Group\": \"30 to 49\", \"count\": 441}, {\"CCS Diagnosis Description\": \"Cancer of kidney and renal pelvis\", \"Age Group\": \"50 to 69\", \"count\": 1821}, {\"CCS Diagnosis Description\": \"Cancer of kidney and renal pelvis\", \"Age Group\": \"70 or Older\", \"count\": 1018}, {\"CCS Diagnosis Description\": \"Cancer of liver and intrahepatic bile duct\", \"Age Group\": \"0 to 17\", \"count\": 31}, {\"CCS Diagnosis Description\": \"Cancer of liver and intrahepatic bile duct\", \"Age Group\": \"18 to 29\", \"count\": 25}, {\"CCS Diagnosis Description\": \"Cancer of liver and intrahepatic bile duct\", \"Age Group\": \"30 to 49\", \"count\": 177}, {\"CCS Diagnosis Description\": \"Cancer of liver and intrahepatic bile duct\", \"Age Group\": \"50 to 69\", \"count\": 1269}, {\"CCS Diagnosis Description\": \"Cancer of liver and intrahepatic bile duct\", \"Age Group\": \"70 or Older\", \"count\": 772}, {\"CCS Diagnosis Description\": \"Cancer of other GI organs; peritoneum\", \"Age Group\": \"0 to 17\", \"count\": 18}, {\"CCS Diagnosis Description\": \"Cancer of other GI organs; peritoneum\", \"Age Group\": \"18 to 29\", \"count\": 19}, {\"CCS Diagnosis Description\": \"Cancer of other GI organs; peritoneum\", \"Age Group\": \"30 to 49\", \"count\": 156}, {\"CCS Diagnosis Description\": \"Cancer of other GI organs; peritoneum\", \"Age Group\": \"50 to 69\", \"count\": 668}, {\"CCS Diagnosis Description\": \"Cancer of other GI organs; peritoneum\", \"Age Group\": \"70 or Older\", \"count\": 707}, {\"CCS Diagnosis Description\": \"Cancer of other female genital organs\", \"Age Group\": \"0 to 17\", \"count\": 6}, {\"CCS Diagnosis Description\": \"Cancer of other female genital organs\", \"Age Group\": \"18 to 29\", \"count\": 4}, {\"CCS Diagnosis Description\": \"Cancer of other female genital organs\", \"Age Group\": \"30 to 49\", \"count\": 38}, {\"CCS Diagnosis Description\": \"Cancer of other female genital organs\", \"Age Group\": \"50 to 69\", \"count\": 205}, {\"CCS Diagnosis Description\": \"Cancer of other female genital organs\", \"Age Group\": \"70 or Older\", \"count\": 165}, {\"CCS Diagnosis Description\": \"Cancer of other male genital organs\", \"Age Group\": \"0 to 17\", \"count\": 1}, {\"CCS Diagnosis Description\": \"Cancer of other male genital organs\", \"Age Group\": \"30 to 49\", \"count\": 16}, {\"CCS Diagnosis Description\": \"Cancer of other male genital organs\", \"Age Group\": \"50 to 69\", \"count\": 35}, {\"CCS Diagnosis Description\": \"Cancer of other male genital organs\", \"Age Group\": \"70 or Older\", \"count\": 26}, {\"CCS Diagnosis Description\": \"Cancer of other urinary organs\", \"Age Group\": \"30 to 49\", \"count\": 4}, {\"CCS Diagnosis Description\": \"Cancer of other urinary organs\", \"Age Group\": \"50 to 69\", \"count\": 101}, {\"CCS Diagnosis Description\": \"Cancer of other urinary organs\", \"Age Group\": \"70 or Older\", \"count\": 169}, {\"CCS Diagnosis Description\": \"Cancer of ovary\", \"Age Group\": \"0 to 17\", \"count\": 11}, {\"CCS Diagnosis Description\": \"Cancer of ovary\", \"Age Group\": \"18 to 29\", \"count\": 31}, {\"CCS Diagnosis Description\": \"Cancer of ovary\", \"Age Group\": \"30 to 49\", \"count\": 224}, {\"CCS Diagnosis Description\": \"Cancer of ovary\", \"Age Group\": \"50 to 69\", \"count\": 969}, {\"CCS Diagnosis Description\": \"Cancer of ovary\", \"Age Group\": \"70 or Older\", \"count\": 524}, {\"CCS Diagnosis Description\": \"Cancer of pancreas\", \"Age Group\": \"0 to 17\", \"count\": 5}, {\"CCS Diagnosis Description\": \"Cancer of pancreas\", \"Age Group\": \"18 to 29\", \"count\": 7}, {\"CCS Diagnosis Description\": \"Cancer of pancreas\", \"Age Group\": \"30 to 49\", \"count\": 159}, {\"CCS Diagnosis Description\": \"Cancer of pancreas\", \"Age Group\": \"50 to 69\", \"count\": 1335}, {\"CCS Diagnosis Description\": \"Cancer of pancreas\", \"Age Group\": \"70 or Older\", \"count\": 1483}, {\"CCS Diagnosis Description\": \"Cancer of prostate\", \"Age Group\": \"30 to 49\", \"count\": 138}, {\"CCS Diagnosis Description\": \"Cancer of prostate\", \"Age Group\": \"50 to 69\", \"count\": 3243}, {\"CCS Diagnosis Description\": \"Cancer of prostate\", \"Age Group\": \"70 or Older\", \"count\": 1119}, {\"CCS Diagnosis Description\": \"Cancer of rectum and anus\", \"Age Group\": \"18 to 29\", \"count\": 30}, {\"CCS Diagnosis Description\": \"Cancer of rectum and anus\", \"Age Group\": \"30 to 49\", \"count\": 380}, {\"CCS Diagnosis Description\": \"Cancer of rectum and anus\", \"Age Group\": \"50 to 69\", \"count\": 1238}, {\"CCS Diagnosis Description\": \"Cancer of rectum and anus\", \"Age Group\": \"70 or Older\", \"count\": 870}, {\"CCS Diagnosis Description\": \"Cancer of stomach\", \"Age Group\": \"0 to 17\", \"count\": 1}, {\"CCS Diagnosis Description\": \"Cancer of stomach\", \"Age Group\": \"18 to 29\", \"count\": 24}, {\"CCS Diagnosis Description\": \"Cancer of stomach\", \"Age Group\": \"30 to 49\", \"count\": 233}, {\"CCS Diagnosis Description\": \"Cancer of stomach\", \"Age Group\": \"50 to 69\", \"count\": 1000}, {\"CCS Diagnosis Description\": \"Cancer of stomach\", \"Age Group\": \"70 or Older\", \"count\": 917}, {\"CCS Diagnosis Description\": \"Cancer of testis\", \"Age Group\": \"0 to 17\", \"count\": 7}, {\"CCS Diagnosis Description\": \"Cancer of testis\", \"Age Group\": \"18 to 29\", \"count\": 49}, {\"CCS Diagnosis Description\": \"Cancer of testis\", \"Age Group\": \"30 to 49\", \"count\": 57}, {\"CCS Diagnosis Description\": \"Cancer of testis\", \"Age Group\": \"50 to 69\", \"count\": 7}, {\"CCS Diagnosis Description\": \"Cancer of thyroid\", \"Age Group\": \"0 to 17\", \"count\": 39}, {\"CCS Diagnosis Description\": \"Cancer of thyroid\", \"Age Group\": \"18 to 29\", \"count\": 106}, {\"CCS Diagnosis Description\": \"Cancer of thyroid\", \"Age Group\": \"30 to 49\", \"count\": 454}, {\"CCS Diagnosis Description\": \"Cancer of thyroid\", \"Age Group\": \"50 to 69\", \"count\": 456}, {\"CCS Diagnosis Description\": \"Cancer of thyroid\", \"Age Group\": \"70 or Older\", \"count\": 177}, {\"CCS Diagnosis Description\": \"Cancer of uterus\", \"Age Group\": \"18 to 29\", \"count\": 5}, {\"CCS Diagnosis Description\": \"Cancer of uterus\", \"Age Group\": \"30 to 49\", \"count\": 199}, {\"CCS Diagnosis Description\": \"Cancer of uterus\", \"Age Group\": \"50 to 69\", \"count\": 1274}, {\"CCS Diagnosis Description\": \"Cancer of uterus\", \"Age Group\": \"70 or Older\", \"count\": 765}, {\"CCS Diagnosis Description\": \"Cancer; other and unspecified primary\", \"Age Group\": \"0 to 17\", \"count\": 138}, {\"CCS Diagnosis Description\": \"Cancer; other and unspecified primary\", \"Age Group\": \"18 to 29\", \"count\": 30}, {\"CCS Diagnosis Description\": \"Cancer; other and unspecified primary\", \"Age Group\": \"30 to 49\", \"count\": 97}, {\"CCS Diagnosis Description\": \"Cancer; other and unspecified primary\", \"Age Group\": \"50 to 69\", \"count\": 198}, {\"CCS Diagnosis Description\": \"Cancer; other and unspecified primary\", \"Age Group\": \"70 or Older\", \"count\": 167}, {\"CCS Diagnosis Description\": \"Cancer; other respiratory and intrathoracic\", \"Age Group\": \"0 to 17\", \"count\": 3}, {\"CCS Diagnosis Description\": \"Cancer; other respiratory and intrathoracic\", \"Age Group\": \"30 to 49\", \"count\": 10}, {\"CCS Diagnosis Description\": \"Cancer; other respiratory and intrathoracic\", \"Age Group\": \"50 to 69\", \"count\": 75}, {\"CCS Diagnosis Description\": \"Cancer; other respiratory and intrathoracic\", \"Age Group\": \"70 or Older\", \"count\": 133}, {\"CCS Diagnosis Description\": \"Melanomas of skin\", \"Age Group\": \"0 to 17\", \"count\": 1}, {\"CCS Diagnosis Description\": \"Melanomas of skin\", \"Age Group\": \"18 to 29\", \"count\": 2}, {\"CCS Diagnosis Description\": \"Melanomas of skin\", \"Age Group\": \"30 to 49\", \"count\": 23}, {\"CCS Diagnosis Description\": \"Melanomas of skin\", \"Age Group\": \"50 to 69\", \"count\": 69}, {\"CCS Diagnosis Description\": \"Melanomas of skin\", \"Age Group\": \"70 or Older\", \"count\": 81}, {\"CCS Diagnosis Description\": \"Non-Hodgkin`s lymphoma\", \"Age Group\": \"0 to 17\", \"count\": 65}, {\"CCS Diagnosis Description\": \"Non-Hodgkin`s lymphoma\", \"Age Group\": \"18 to 29\", \"count\": 93}, {\"CCS Diagnosis Description\": \"Non-Hodgkin`s lymphoma\", \"Age Group\": \"30 to 49\", \"count\": 338}, {\"CCS Diagnosis Description\": \"Non-Hodgkin`s lymphoma\", \"Age Group\": \"50 to 69\", \"count\": 1284}, {\"CCS Diagnosis Description\": \"Non-Hodgkin`s lymphoma\", \"Age Group\": \"70 or Older\", \"count\": 1219}, {\"CCS Diagnosis Description\": \"Other non-epithelial cancer of skin\", \"Age Group\": \"0 to 17\", \"count\": 5}, {\"CCS Diagnosis Description\": \"Other non-epithelial cancer of skin\", \"Age Group\": \"18 to 29\", \"count\": 4}, {\"CCS Diagnosis Description\": \"Other non-epithelial cancer of skin\", \"Age Group\": \"30 to 49\", \"count\": 38}, {\"CCS Diagnosis Description\": \"Other non-epithelial cancer of skin\", \"Age Group\": \"50 to 69\", \"count\": 137}, {\"CCS Diagnosis Description\": \"Other non-epithelial cancer of skin\", \"Age Group\": \"70 or Older\", \"count\": 230}]}};\n",
       "const opt = {};\n",
       "const type = \"vega-lite\";\n",
       "const id = \"4e544688-afc3-463e-a09d-2b7833c74c23\";\n",
       "\n",
       "const output_area = this;\n",
       "\n",
       "require([\"nbextensions/jupyter-vega/index\"], function(vega) {\n",
       "  const target = document.createElement(\"div\");\n",
       "  target.id = id;\n",
       "  target.className = \"vega-embed\";\n",
       "\n",
       "  const style = document.createElement(\"style\");\n",
       "  style.textContent = [\n",
       "    \".vega-embed .error p {\",\n",
       "    \"  color: firebrick;\",\n",
       "    \"  font-size: 14px;\",\n",
       "    \"}\",\n",
       "  ].join(\"\\\\n\");\n",
       "\n",
       "  // element is a jQuery wrapped DOM element inside the output area\n",
       "  // see http://ipython.readthedocs.io/en/stable/api/generated/\\\n",
       "  // IPython.display.html#IPython.display.Javascript.__init__\n",
       "  element[0].appendChild(target);\n",
       "  element[0].appendChild(style);\n",
       "\n",
       "  vega.render(\"#\" + id, spec, type, opt, output_area);\n",
       "}, function (err) {\n",
       "  if (err.requireType !== \"scripterror\") {\n",
       "    throw(err);\n",
       "  }\n",
       "});\n"
      ],
      "text/plain": [
       "<vega.vegalite.VegaLite at 0x1237696d8>"
      ]
     },
     "metadata": {
      "jupyter-vega": "#4e544688-afc3-463e-a09d-2b7833c74c23"
     },
     "output_type": "display_data"
    },
    {
     "data": {
      "text/plain": []
     },
     "execution_count": 226,
     "metadata": {},
     "output_type": "execute_result"
    },
    {
     "data": {
      "image/png": "[encoded data removed]"
     },
     "metadata": {
      "jupyter-vega": "#4e544688-afc3-463e-a09d-2b7833c74c23"
     },
     "output_type": "display_data"
    }
   ],
   "source": [
    "alt.Chart(cc).mark_bar().encode(x='count',y=alt.Y(dd,sort=None),color='Age Group')"
   ]
  },
  {
   "cell_type": "code",
   "execution_count": 227,
   "metadata": {},
   "outputs": [
    {
     "data": {
      "application/javascript": [
       "const spec = {\"config\": {\"view\": {\"width\": 400, \"height\": 300}, \"mark\": {\"tooltip\": null}}, \"data\": {\"name\": \"data-625dd0cf45ab2d786fd8457116f8a574\"}, \"mark\": \"bar\", \"encoding\": {\"color\": {\"type\": \"nominal\", \"field\": \"Age Group\"}, \"x\": {\"type\": \"quantitative\", \"field\": \"count\"}, \"y\": {\"type\": \"nominal\", \"field\": \"CCS Diagnosis Description\", \"sort\": {\"field\": \"count\", \"op\": \"sum\", \"order\": \"descending\"}}}, \"title\": \"plot of cancer diagnosis counts\", \"$schema\": \"https://vega.github.io/schema/vega-lite/v3.4.0.json\", \"datasets\": {\"data-625dd0cf45ab2d786fd8457116f8a574\": [{\"CCS Diagnosis Description\": \"Cancer of bladder\", \"Age Group\": \"0 to 17\", \"count\": 2}, {\"CCS Diagnosis Description\": \"Cancer of bladder\", \"Age Group\": \"30 to 49\", \"count\": 59}, {\"CCS Diagnosis Description\": \"Cancer of bladder\", \"Age Group\": \"50 to 69\", \"count\": 757}, {\"CCS Diagnosis Description\": \"Cancer of bladder\", \"Age Group\": \"70 or Older\", \"count\": 1404}, {\"CCS Diagnosis Description\": \"Cancer of bone and connective tissue\", \"Age Group\": \"0 to 17\", \"count\": 142}, {\"CCS Diagnosis Description\": \"Cancer of bone and connective tissue\", \"Age Group\": \"18 to 29\", \"count\": 95}, {\"CCS Diagnosis Description\": \"Cancer of bone and connective tissue\", \"Age Group\": \"30 to 49\", \"count\": 217}, {\"CCS Diagnosis Description\": \"Cancer of bone and connective tissue\", \"Age Group\": \"50 to 69\", \"count\": 392}, {\"CCS Diagnosis Description\": \"Cancer of bone and connective tissue\", \"Age Group\": \"70 or Older\", \"count\": 302}, {\"CCS Diagnosis Description\": \"Cancer of brain and nervous system\", \"Age Group\": \"0 to 17\", \"count\": 287}, {\"CCS Diagnosis Description\": \"Cancer of brain and nervous system\", \"Age Group\": \"18 to 29\", \"count\": 162}, {\"CCS Diagnosis Description\": \"Cancer of brain and nervous system\", \"Age Group\": \"30 to 49\", \"count\": 562}, {\"CCS Diagnosis Description\": \"Cancer of brain and nervous system\", \"Age Group\": \"50 to 69\", \"count\": 1304}, {\"CCS Diagnosis Description\": \"Cancer of brain and nervous system\", \"Age Group\": \"70 or Older\", \"count\": 628}, {\"CCS Diagnosis Description\": \"Cancer of breast\", \"Age Group\": \"18 to 29\", \"count\": 40}, {\"CCS Diagnosis Description\": \"Cancer of breast\", \"Age Group\": \"30 to 49\", \"count\": 1412}, {\"CCS Diagnosis Description\": \"Cancer of breast\", \"Age Group\": \"50 to 69\", \"count\": 2666}, {\"CCS Diagnosis Description\": \"Cancer of breast\", \"Age Group\": \"70 or Older\", \"count\": 1120}, {\"CCS Diagnosis Description\": \"Cancer of bronchus; lung\", \"Age Group\": \"0 to 17\", \"count\": 5}, {\"CCS Diagnosis Description\": \"Cancer of bronchus; lung\", \"Age Group\": \"18 to 29\", \"count\": 15}, {\"CCS Diagnosis Description\": \"Cancer of bronchus; lung\", \"Age Group\": \"30 to 49\", \"count\": 373}, {\"CCS Diagnosis Description\": \"Cancer of bronchus; lung\", \"Age Group\": \"50 to 69\", \"count\": 4436}, {\"CCS Diagnosis Description\": \"Cancer of bronchus; lung\", \"Age Group\": \"70 or Older\", \"count\": 4559}, {\"CCS Diagnosis Description\": \"Cancer of cervix\", \"Age Group\": \"0 to 17\", \"count\": 3}, {\"CCS Diagnosis Description\": \"Cancer of cervix\", \"Age Group\": \"18 to 29\", \"count\": 17}, {\"CCS Diagnosis Description\": \"Cancer of cervix\", \"Age Group\": \"30 to 49\", \"count\": 297}, {\"CCS Diagnosis Description\": \"Cancer of cervix\", \"Age Group\": \"50 to 69\", \"count\": 325}, {\"CCS Diagnosis Description\": \"Cancer of cervix\", \"Age Group\": \"70 or Older\", \"count\": 126}, {\"CCS Diagnosis Description\": \"Cancer of colon\", \"Age Group\": \"0 to 17\", \"count\": 6}, {\"CCS Diagnosis Description\": \"Cancer of colon\", \"Age Group\": \"18 to 29\", \"count\": 38}, {\"CCS Diagnosis Description\": \"Cancer of colon\", \"Age Group\": \"30 to 49\", \"count\": 559}, {\"CCS Diagnosis Description\": \"Cancer of colon\", \"Age Group\": \"50 to 69\", \"count\": 2474}, {\"CCS Diagnosis Description\": \"Cancer of colon\", \"Age Group\": \"70 or Older\", \"count\": 2918}, {\"CCS Diagnosis Description\": \"Cancer of esophagus\", \"Age Group\": \"18 to 29\", \"count\": 4}, {\"CCS Diagnosis Description\": \"Cancer of esophagus\", \"Age Group\": \"30 to 49\", \"count\": 44}, {\"CCS Diagnosis Description\": \"Cancer of esophagus\", \"Age Group\": \"50 to 69\", \"count\": 512}, {\"CCS Diagnosis Description\": \"Cancer of esophagus\", \"Age Group\": \"70 or Older\", \"count\": 434}, {\"CCS Diagnosis Description\": \"Cancer of head and neck\", \"Age Group\": \"0 to 17\", \"count\": 17}, {\"CCS Diagnosis Description\": \"Cancer of head and neck\", \"Age Group\": \"18 to 29\", \"count\": 25}, {\"CCS Diagnosis Description\": \"Cancer of head and neck\", \"Age Group\": \"30 to 49\", \"count\": 232}, {\"CCS Diagnosis Description\": \"Cancer of head and neck\", \"Age Group\": \"50 to 69\", \"count\": 1318}, {\"CCS Diagnosis Description\": \"Cancer of head and neck\", \"Age Group\": \"70 or Older\", \"count\": 765}, {\"CCS Diagnosis Description\": \"Cancer of kidney and renal pelvis\", \"Age Group\": \"0 to 17\", \"count\": 60}, {\"CCS Diagnosis Description\": \"Cancer of kidney and renal pelvis\", \"Age Group\": \"18 to 29\", \"count\": 28}, {\"CCS Diagnosis Description\": \"Cancer of kidney and renal pelvis\", \"Age Group\": \"30 to 49\", \"count\": 441}, {\"CCS Diagnosis Description\": \"Cancer of kidney and renal pelvis\", \"Age Group\": \"50 to 69\", \"count\": 1821}, {\"CCS Diagnosis Description\": \"Cancer of kidney and renal pelvis\", \"Age Group\": \"70 or Older\", \"count\": 1018}, {\"CCS Diagnosis Description\": \"Cancer of liver and intrahepatic bile duct\", \"Age Group\": \"0 to 17\", \"count\": 31}, {\"CCS Diagnosis Description\": \"Cancer of liver and intrahepatic bile duct\", \"Age Group\": \"18 to 29\", \"count\": 25}, {\"CCS Diagnosis Description\": \"Cancer of liver and intrahepatic bile duct\", \"Age Group\": \"30 to 49\", \"count\": 177}, {\"CCS Diagnosis Description\": \"Cancer of liver and intrahepatic bile duct\", \"Age Group\": \"50 to 69\", \"count\": 1269}, {\"CCS Diagnosis Description\": \"Cancer of liver and intrahepatic bile duct\", \"Age Group\": \"70 or Older\", \"count\": 772}, {\"CCS Diagnosis Description\": \"Cancer of other GI organs; peritoneum\", \"Age Group\": \"0 to 17\", \"count\": 18}, {\"CCS Diagnosis Description\": \"Cancer of other GI organs; peritoneum\", \"Age Group\": \"18 to 29\", \"count\": 19}, {\"CCS Diagnosis Description\": \"Cancer of other GI organs; peritoneum\", \"Age Group\": \"30 to 49\", \"count\": 156}, {\"CCS Diagnosis Description\": \"Cancer of other GI organs; peritoneum\", \"Age Group\": \"50 to 69\", \"count\": 668}, {\"CCS Diagnosis Description\": \"Cancer of other GI organs; peritoneum\", \"Age Group\": \"70 or Older\", \"count\": 707}, {\"CCS Diagnosis Description\": \"Cancer of other female genital organs\", \"Age Group\": \"0 to 17\", \"count\": 6}, {\"CCS Diagnosis Description\": \"Cancer of other female genital organs\", \"Age Group\": \"18 to 29\", \"count\": 4}, {\"CCS Diagnosis Description\": \"Cancer of other female genital organs\", \"Age Group\": \"30 to 49\", \"count\": 38}, {\"CCS Diagnosis Description\": \"Cancer of other female genital organs\", \"Age Group\": \"50 to 69\", \"count\": 205}, {\"CCS Diagnosis Description\": \"Cancer of other female genital organs\", \"Age Group\": \"70 or Older\", \"count\": 165}, {\"CCS Diagnosis Description\": \"Cancer of other male genital organs\", \"Age Group\": \"0 to 17\", \"count\": 1}, {\"CCS Diagnosis Description\": \"Cancer of other male genital organs\", \"Age Group\": \"30 to 49\", \"count\": 16}, {\"CCS Diagnosis Description\": \"Cancer of other male genital organs\", \"Age Group\": \"50 to 69\", \"count\": 35}, {\"CCS Diagnosis Description\": \"Cancer of other male genital organs\", \"Age Group\": \"70 or Older\", \"count\": 26}, {\"CCS Diagnosis Description\": \"Cancer of other urinary organs\", \"Age Group\": \"30 to 49\", \"count\": 4}, {\"CCS Diagnosis Description\": \"Cancer of other urinary organs\", \"Age Group\": \"50 to 69\", \"count\": 101}, {\"CCS Diagnosis Description\": \"Cancer of other urinary organs\", \"Age Group\": \"70 or Older\", \"count\": 169}, {\"CCS Diagnosis Description\": \"Cancer of ovary\", \"Age Group\": \"0 to 17\", \"count\": 11}, {\"CCS Diagnosis Description\": \"Cancer of ovary\", \"Age Group\": \"18 to 29\", \"count\": 31}, {\"CCS Diagnosis Description\": \"Cancer of ovary\", \"Age Group\": \"30 to 49\", \"count\": 224}, {\"CCS Diagnosis Description\": \"Cancer of ovary\", \"Age Group\": \"50 to 69\", \"count\": 969}, {\"CCS Diagnosis Description\": \"Cancer of ovary\", \"Age Group\": \"70 or Older\", \"count\": 524}, {\"CCS Diagnosis Description\": \"Cancer of pancreas\", \"Age Group\": \"0 to 17\", \"count\": 5}, {\"CCS Diagnosis Description\": \"Cancer of pancreas\", \"Age Group\": \"18 to 29\", \"count\": 7}, {\"CCS Diagnosis Description\": \"Cancer of pancreas\", \"Age Group\": \"30 to 49\", \"count\": 159}, {\"CCS Diagnosis Description\": \"Cancer of pancreas\", \"Age Group\": \"50 to 69\", \"count\": 1335}, {\"CCS Diagnosis Description\": \"Cancer of pancreas\", \"Age Group\": \"70 or Older\", \"count\": 1483}, {\"CCS Diagnosis Description\": \"Cancer of prostate\", \"Age Group\": \"30 to 49\", \"count\": 138}, {\"CCS Diagnosis Description\": \"Cancer of prostate\", \"Age Group\": \"50 to 69\", \"count\": 3243}, {\"CCS Diagnosis Description\": \"Cancer of prostate\", \"Age Group\": \"70 or Older\", \"count\": 1119}, {\"CCS Diagnosis Description\": \"Cancer of rectum and anus\", \"Age Group\": \"18 to 29\", \"count\": 30}, {\"CCS Diagnosis Description\": \"Cancer of rectum and anus\", \"Age Group\": \"30 to 49\", \"count\": 380}, {\"CCS Diagnosis Description\": \"Cancer of rectum and anus\", \"Age Group\": \"50 to 69\", \"count\": 1238}, {\"CCS Diagnosis Description\": \"Cancer of rectum and anus\", \"Age Group\": \"70 or Older\", \"count\": 870}, {\"CCS Diagnosis Description\": \"Cancer of stomach\", \"Age Group\": \"0 to 17\", \"count\": 1}, {\"CCS Diagnosis Description\": \"Cancer of stomach\", \"Age Group\": \"18 to 29\", \"count\": 24}, {\"CCS Diagnosis Description\": \"Cancer of stomach\", \"Age Group\": \"30 to 49\", \"count\": 233}, {\"CCS Diagnosis Description\": \"Cancer of stomach\", \"Age Group\": \"50 to 69\", \"count\": 1000}, {\"CCS Diagnosis Description\": \"Cancer of stomach\", \"Age Group\": \"70 or Older\", \"count\": 917}, {\"CCS Diagnosis Description\": \"Cancer of testis\", \"Age Group\": \"0 to 17\", \"count\": 7}, {\"CCS Diagnosis Description\": \"Cancer of testis\", \"Age Group\": \"18 to 29\", \"count\": 49}, {\"CCS Diagnosis Description\": \"Cancer of testis\", \"Age Group\": \"30 to 49\", \"count\": 57}, {\"CCS Diagnosis Description\": \"Cancer of testis\", \"Age Group\": \"50 to 69\", \"count\": 7}, {\"CCS Diagnosis Description\": \"Cancer of thyroid\", \"Age Group\": \"0 to 17\", \"count\": 39}, {\"CCS Diagnosis Description\": \"Cancer of thyroid\", \"Age Group\": \"18 to 29\", \"count\": 106}, {\"CCS Diagnosis Description\": \"Cancer of thyroid\", \"Age Group\": \"30 to 49\", \"count\": 454}, {\"CCS Diagnosis Description\": \"Cancer of thyroid\", \"Age Group\": \"50 to 69\", \"count\": 456}, {\"CCS Diagnosis Description\": \"Cancer of thyroid\", \"Age Group\": \"70 or Older\", \"count\": 177}, {\"CCS Diagnosis Description\": \"Cancer of uterus\", \"Age Group\": \"18 to 29\", \"count\": 5}, {\"CCS Diagnosis Description\": \"Cancer of uterus\", \"Age Group\": \"30 to 49\", \"count\": 199}, {\"CCS Diagnosis Description\": \"Cancer of uterus\", \"Age Group\": \"50 to 69\", \"count\": 1274}, {\"CCS Diagnosis Description\": \"Cancer of uterus\", \"Age Group\": \"70 or Older\", \"count\": 765}, {\"CCS Diagnosis Description\": \"Cancer; other and unspecified primary\", \"Age Group\": \"0 to 17\", \"count\": 138}, {\"CCS Diagnosis Description\": \"Cancer; other and unspecified primary\", \"Age Group\": \"18 to 29\", \"count\": 30}, {\"CCS Diagnosis Description\": \"Cancer; other and unspecified primary\", \"Age Group\": \"30 to 49\", \"count\": 97}, {\"CCS Diagnosis Description\": \"Cancer; other and unspecified primary\", \"Age Group\": \"50 to 69\", \"count\": 198}, {\"CCS Diagnosis Description\": \"Cancer; other and unspecified primary\", \"Age Group\": \"70 or Older\", \"count\": 167}, {\"CCS Diagnosis Description\": \"Cancer; other respiratory and intrathoracic\", \"Age Group\": \"0 to 17\", \"count\": 3}, {\"CCS Diagnosis Description\": \"Cancer; other respiratory and intrathoracic\", \"Age Group\": \"30 to 49\", \"count\": 10}, {\"CCS Diagnosis Description\": \"Cancer; other respiratory and intrathoracic\", \"Age Group\": \"50 to 69\", \"count\": 75}, {\"CCS Diagnosis Description\": \"Cancer; other respiratory and intrathoracic\", \"Age Group\": \"70 or Older\", \"count\": 133}, {\"CCS Diagnosis Description\": \"Melanomas of skin\", \"Age Group\": \"0 to 17\", \"count\": 1}, {\"CCS Diagnosis Description\": \"Melanomas of skin\", \"Age Group\": \"18 to 29\", \"count\": 2}, {\"CCS Diagnosis Description\": \"Melanomas of skin\", \"Age Group\": \"30 to 49\", \"count\": 23}, {\"CCS Diagnosis Description\": \"Melanomas of skin\", \"Age Group\": \"50 to 69\", \"count\": 69}, {\"CCS Diagnosis Description\": \"Melanomas of skin\", \"Age Group\": \"70 or Older\", \"count\": 81}, {\"CCS Diagnosis Description\": \"Non-Hodgkin`s lymphoma\", \"Age Group\": \"0 to 17\", \"count\": 65}, {\"CCS Diagnosis Description\": \"Non-Hodgkin`s lymphoma\", \"Age Group\": \"18 to 29\", \"count\": 93}, {\"CCS Diagnosis Description\": \"Non-Hodgkin`s lymphoma\", \"Age Group\": \"30 to 49\", \"count\": 338}, {\"CCS Diagnosis Description\": \"Non-Hodgkin`s lymphoma\", \"Age Group\": \"50 to 69\", \"count\": 1284}, {\"CCS Diagnosis Description\": \"Non-Hodgkin`s lymphoma\", \"Age Group\": \"70 or Older\", \"count\": 1219}, {\"CCS Diagnosis Description\": \"Other non-epithelial cancer of skin\", \"Age Group\": \"0 to 17\", \"count\": 5}, {\"CCS Diagnosis Description\": \"Other non-epithelial cancer of skin\", \"Age Group\": \"18 to 29\", \"count\": 4}, {\"CCS Diagnosis Description\": \"Other non-epithelial cancer of skin\", \"Age Group\": \"30 to 49\", \"count\": 38}, {\"CCS Diagnosis Description\": \"Other non-epithelial cancer of skin\", \"Age Group\": \"50 to 69\", \"count\": 137}, {\"CCS Diagnosis Description\": \"Other non-epithelial cancer of skin\", \"Age Group\": \"70 or Older\", \"count\": 230}]}};\n",
       "const opt = {};\n",
       "const type = \"vega-lite\";\n",
       "const id = \"1ca90215-5639-4e12-be2b-4112fa7263cb\";\n",
       "\n",
       "const output_area = this;\n",
       "\n",
       "require([\"nbextensions/jupyter-vega/index\"], function(vega) {\n",
       "  const target = document.createElement(\"div\");\n",
       "  target.id = id;\n",
       "  target.className = \"vega-embed\";\n",
       "\n",
       "  const style = document.createElement(\"style\");\n",
       "  style.textContent = [\n",
       "    \".vega-embed .error p {\",\n",
       "    \"  color: firebrick;\",\n",
       "    \"  font-size: 14px;\",\n",
       "    \"}\",\n",
       "  ].join(\"\\\\n\");\n",
       "\n",
       "  // element is a jQuery wrapped DOM element inside the output area\n",
       "  // see http://ipython.readthedocs.io/en/stable/api/generated/\\\n",
       "  // IPython.display.html#IPython.display.Javascript.__init__\n",
       "  element[0].appendChild(target);\n",
       "  element[0].appendChild(style);\n",
       "\n",
       "  vega.render(\"#\" + id, spec, type, opt, output_area);\n",
       "}, function (err) {\n",
       "  if (err.requireType !== \"scripterror\") {\n",
       "    throw(err);\n",
       "  }\n",
       "});\n"
      ],
      "text/plain": [
       "<vega.vegalite.VegaLite at 0x1237d6048>"
      ]
     },
     "metadata": {
      "jupyter-vega": "#1ca90215-5639-4e12-be2b-4112fa7263cb"
     },
     "output_type": "display_data"
    },
    {
     "data": {
      "text/plain": []
     },
     "execution_count": 227,
     "metadata": {},
     "output_type": "execute_result"
    },
    {
     "data": {
      "image/png": "[encoded data removed]"
     },
     "metadata": {
      "jupyter-vega": "#1ca90215-5639-4e12-be2b-4112fa7263cb"
     },
     "output_type": "display_data"
    }
   ],
   "source": [
    "import altair as alt\n",
    "alt.renderers.enable('notebook')\n",
    "(alt.Chart(cc,title='plot of cancer diagnosis counts')\n",
    ".mark_bar()\n",
    ".encode( y=alt.Y('CCS Diagnosis Description',\n",
    "                sort=alt.EncodingSortField(field = 'count', op = 'sum', order = 'descending')),\n",
    "       x='count',\n",
    "       color='Age Group')\n",
    ")"
   ]
  },
  {
   "cell_type": "code",
   "execution_count": null,
   "metadata": {},
   "outputs": [],
   "source": []
  },
  {
   "cell_type": "markdown",
   "metadata": {},
   "source": [
    "# Joining Tables"
   ]
  },
  {
   "cell_type": "code",
   "execution_count": 232,
   "metadata": {},
   "outputs": [],
   "source": [
    "fn = pd.read_csv('firstname.csv')\n",
    "ln = pd.read_csv('lastname.csv')\n",
    "t = pd.read_csv('teaching.csv',sep='\\t')"
   ]
  },
  {
   "cell_type": "code",
   "execution_count": 155,
   "metadata": {},
   "outputs": [
    {
     "data": {
      "text/html": [
       "<div>\n",
       "<style scoped>\n",
       "    .dataframe tbody tr th:only-of-type {\n",
       "        vertical-align: middle;\n",
       "    }\n",
       "\n",
       "    .dataframe tbody tr th {\n",
       "        vertical-align: top;\n",
       "    }\n",
       "\n",
       "    .dataframe thead th {\n",
       "        text-align: right;\n",
       "    }\n",
       "</style>\n",
       "<table border=\"1\" class=\"dataframe\">\n",
       "  <thead>\n",
       "    <tr style=\"text-align: right;\">\n",
       "      <th></th>\n",
       "      <th>person number</th>\n",
       "      <th>first name</th>\n",
       "    </tr>\n",
       "  </thead>\n",
       "  <tbody>\n",
       "    <tr>\n",
       "      <td>0</td>\n",
       "      <td>199</td>\n",
       "      <td>Bernard</td>\n",
       "    </tr>\n",
       "    <tr>\n",
       "      <td>1</td>\n",
       "      <td>216</td>\n",
       "      <td>Betsy</td>\n",
       "    </tr>\n",
       "    <tr>\n",
       "      <td>2</td>\n",
       "      <td>265</td>\n",
       "      <td>Darsh</td>\n",
       "    </tr>\n",
       "    <tr>\n",
       "      <td>3</td>\n",
       "      <td>102</td>\n",
       "      <td>Dmitri</td>\n",
       "    </tr>\n",
       "    <tr>\n",
       "      <td>4</td>\n",
       "      <td>42</td>\n",
       "      <td>Dorien</td>\n",
       "    </tr>\n",
       "    <tr>\n",
       "      <td>5</td>\n",
       "      <td>150</td>\n",
       "      <td>Eyob</td>\n",
       "    </tr>\n",
       "    <tr>\n",
       "      <td>6</td>\n",
       "      <td>200</td>\n",
       "      <td>John</td>\n",
       "    </tr>\n",
       "    <tr>\n",
       "      <td>7</td>\n",
       "      <td>293</td>\n",
       "      <td>Kevin</td>\n",
       "    </tr>\n",
       "    <tr>\n",
       "      <td>8</td>\n",
       "      <td>100</td>\n",
       "      <td>Li</td>\n",
       "    </tr>\n",
       "    <tr>\n",
       "      <td>9</td>\n",
       "      <td>214</td>\n",
       "      <td>Palak</td>\n",
       "    </tr>\n",
       "    <tr>\n",
       "      <td>10</td>\n",
       "      <td>201</td>\n",
       "      <td>Simone</td>\n",
       "    </tr>\n",
       "    <tr>\n",
       "      <td>11</td>\n",
       "      <td>38</td>\n",
       "      <td>Yihe</td>\n",
       "    </tr>\n",
       "    <tr>\n",
       "      <td>12</td>\n",
       "      <td>215</td>\n",
       "      <td>Yingjie</td>\n",
       "    </tr>\n",
       "  </tbody>\n",
       "</table>\n",
       "</div>"
      ],
      "text/plain": [
       "    person number first name\n",
       "0             199    Bernard\n",
       "1             216      Betsy\n",
       "2             265      Darsh\n",
       "3             102     Dmitri\n",
       "4              42     Dorien\n",
       "5             150       Eyob\n",
       "6             200       John\n",
       "7             293      Kevin\n",
       "8             100         Li\n",
       "9             214      Palak\n",
       "10            201     Simone\n",
       "11             38       Yihe\n",
       "12            215    Yingjie"
      ]
     },
     "execution_count": 155,
     "metadata": {},
     "output_type": "execute_result"
    }
   ],
   "source": [
    "fn"
   ]
  },
  {
   "cell_type": "code",
   "execution_count": 156,
   "metadata": {},
   "outputs": [
    {
     "data": {
      "text/html": [
       "<div>\n",
       "<style scoped>\n",
       "    .dataframe tbody tr th:only-of-type {\n",
       "        vertical-align: middle;\n",
       "    }\n",
       "\n",
       "    .dataframe tbody tr th {\n",
       "        vertical-align: top;\n",
       "    }\n",
       "\n",
       "    .dataframe thead th {\n",
       "        text-align: right;\n",
       "    }\n",
       "</style>\n",
       "<table border=\"1\" class=\"dataframe\">\n",
       "  <thead>\n",
       "    <tr style=\"text-align: right;\">\n",
       "      <th></th>\n",
       "      <th>person number</th>\n",
       "      <th>last name</th>\n",
       "    </tr>\n",
       "  </thead>\n",
       "  <tbody>\n",
       "    <tr>\n",
       "      <td>0</td>\n",
       "      <td>19</td>\n",
       "      <td>Badzioch</td>\n",
       "    </tr>\n",
       "    <tr>\n",
       "      <td>1</td>\n",
       "      <td>293</td>\n",
       "      <td>Bui</td>\n",
       "    </tr>\n",
       "    <tr>\n",
       "      <td>2</td>\n",
       "      <td>201</td>\n",
       "      <td>Cassani</td>\n",
       "    </tr>\n",
       "    <tr>\n",
       "      <td>3</td>\n",
       "      <td>215</td>\n",
       "      <td>Gao</td>\n",
       "    </tr>\n",
       "    <tr>\n",
       "      <td>4</td>\n",
       "      <td>102</td>\n",
       "      <td>Kireyev</td>\n",
       "    </tr>\n",
       "    <tr>\n",
       "      <td>5</td>\n",
       "      <td>270</td>\n",
       "      <td>Knowles</td>\n",
       "    </tr>\n",
       "    <tr>\n",
       "      <td>6</td>\n",
       "      <td>100</td>\n",
       "      <td>Li</td>\n",
       "    </tr>\n",
       "    <tr>\n",
       "      <td>7</td>\n",
       "      <td>216</td>\n",
       "      <td>McCall</td>\n",
       "    </tr>\n",
       "    <tr>\n",
       "      <td>8</td>\n",
       "      <td>265</td>\n",
       "      <td>Nathawani</td>\n",
       "    </tr>\n",
       "    <tr>\n",
       "      <td>9</td>\n",
       "      <td>214</td>\n",
       "      <td>Patel</td>\n",
       "    </tr>\n",
       "    <tr>\n",
       "      <td>10</td>\n",
       "      <td>200</td>\n",
       "      <td>Ringland</td>\n",
       "    </tr>\n",
       "    <tr>\n",
       "      <td>11</td>\n",
       "      <td>150</td>\n",
       "      <td>Tadele-Manhardt</td>\n",
       "    </tr>\n",
       "    <tr>\n",
       "      <td>12</td>\n",
       "      <td>42</td>\n",
       "      <td>Verbruggen</td>\n",
       "    </tr>\n",
       "    <tr>\n",
       "      <td>13</td>\n",
       "      <td>38</td>\n",
       "      <td>Yu</td>\n",
       "    </tr>\n",
       "  </tbody>\n",
       "</table>\n",
       "</div>"
      ],
      "text/plain": [
       "    person number        last name\n",
       "0              19         Badzioch\n",
       "1             293              Bui\n",
       "2             201          Cassani\n",
       "3             215              Gao\n",
       "4             102          Kireyev\n",
       "5             270          Knowles\n",
       "6             100               Li\n",
       "7             216           McCall\n",
       "8             265        Nathawani\n",
       "9             214            Patel\n",
       "10            200         Ringland\n",
       "11            150  Tadele-Manhardt\n",
       "12             42       Verbruggen\n",
       "13             38               Yu"
      ]
     },
     "execution_count": 156,
     "metadata": {},
     "output_type": "execute_result"
    }
   ],
   "source": [
    "ln"
   ]
  },
  {
   "cell_type": "code",
   "execution_count": 228,
   "metadata": {},
   "outputs": [
    {
     "data": {
      "text/html": [
       "<div>\n",
       "<style scoped>\n",
       "    .dataframe tbody tr th:only-of-type {\n",
       "        vertical-align: middle;\n",
       "    }\n",
       "\n",
       "    .dataframe tbody tr th {\n",
       "        vertical-align: top;\n",
       "    }\n",
       "\n",
       "    .dataframe thead th {\n",
       "        text-align: right;\n",
       "    }\n",
       "</style>\n",
       "<table border=\"1\" class=\"dataframe\">\n",
       "  <thead>\n",
       "    <tr style=\"text-align: right;\">\n",
       "      <th></th>\n",
       "      <th>person number</th>\n",
       "      <th>first name</th>\n",
       "      <th>last name</th>\n",
       "    </tr>\n",
       "  </thead>\n",
       "  <tbody>\n",
       "    <tr>\n",
       "      <td>0</td>\n",
       "      <td>216</td>\n",
       "      <td>Betsy</td>\n",
       "      <td>McCall</td>\n",
       "    </tr>\n",
       "    <tr>\n",
       "      <td>1</td>\n",
       "      <td>265</td>\n",
       "      <td>Darsh</td>\n",
       "      <td>Nathawani</td>\n",
       "    </tr>\n",
       "    <tr>\n",
       "      <td>2</td>\n",
       "      <td>102</td>\n",
       "      <td>Dmitri</td>\n",
       "      <td>Kireyev</td>\n",
       "    </tr>\n",
       "    <tr>\n",
       "      <td>3</td>\n",
       "      <td>42</td>\n",
       "      <td>Dorien</td>\n",
       "      <td>Verbruggen</td>\n",
       "    </tr>\n",
       "    <tr>\n",
       "      <td>4</td>\n",
       "      <td>150</td>\n",
       "      <td>Eyob</td>\n",
       "      <td>Tadele-Manhardt</td>\n",
       "    </tr>\n",
       "    <tr>\n",
       "      <td>5</td>\n",
       "      <td>200</td>\n",
       "      <td>John</td>\n",
       "      <td>Ringland</td>\n",
       "    </tr>\n",
       "    <tr>\n",
       "      <td>6</td>\n",
       "      <td>293</td>\n",
       "      <td>Kevin</td>\n",
       "      <td>Bui</td>\n",
       "    </tr>\n",
       "    <tr>\n",
       "      <td>7</td>\n",
       "      <td>100</td>\n",
       "      <td>Li</td>\n",
       "      <td>Li</td>\n",
       "    </tr>\n",
       "    <tr>\n",
       "      <td>8</td>\n",
       "      <td>214</td>\n",
       "      <td>Palak</td>\n",
       "      <td>Patel</td>\n",
       "    </tr>\n",
       "    <tr>\n",
       "      <td>9</td>\n",
       "      <td>201</td>\n",
       "      <td>Simone</td>\n",
       "      <td>Cassani</td>\n",
       "    </tr>\n",
       "    <tr>\n",
       "      <td>10</td>\n",
       "      <td>38</td>\n",
       "      <td>Yihe</td>\n",
       "      <td>Yu</td>\n",
       "    </tr>\n",
       "    <tr>\n",
       "      <td>11</td>\n",
       "      <td>215</td>\n",
       "      <td>Yingjie</td>\n",
       "      <td>Gao</td>\n",
       "    </tr>\n",
       "  </tbody>\n",
       "</table>\n",
       "</div>"
      ],
      "text/plain": [
       "    person number first name        last name\n",
       "0             216      Betsy           McCall\n",
       "1             265      Darsh        Nathawani\n",
       "2             102     Dmitri          Kireyev\n",
       "3              42     Dorien       Verbruggen\n",
       "4             150       Eyob  Tadele-Manhardt\n",
       "5             200       John         Ringland\n",
       "6             293      Kevin              Bui\n",
       "7             100         Li               Li\n",
       "8             214      Palak            Patel\n",
       "9             201     Simone          Cassani\n",
       "10             38       Yihe               Yu\n",
       "11            215    Yingjie              Gao"
      ]
     },
     "execution_count": 228,
     "metadata": {},
     "output_type": "execute_result"
    }
   ],
   "source": [
    "pd.merge(fn,ln,on='person number')"
   ]
  },
  {
   "cell_type": "code",
   "execution_count": 229,
   "metadata": {},
   "outputs": [
    {
     "data": {
      "text/html": [
       "<div>\n",
       "<style scoped>\n",
       "    .dataframe tbody tr th:only-of-type {\n",
       "        vertical-align: middle;\n",
       "    }\n",
       "\n",
       "    .dataframe tbody tr th {\n",
       "        vertical-align: top;\n",
       "    }\n",
       "\n",
       "    .dataframe thead th {\n",
       "        text-align: right;\n",
       "    }\n",
       "</style>\n",
       "<table border=\"1\" class=\"dataframe\">\n",
       "  <thead>\n",
       "    <tr style=\"text-align: right;\">\n",
       "      <th></th>\n",
       "      <th>person number</th>\n",
       "      <th>first name</th>\n",
       "      <th>last name</th>\n",
       "    </tr>\n",
       "  </thead>\n",
       "  <tbody>\n",
       "    <tr>\n",
       "      <td>0</td>\n",
       "      <td>199</td>\n",
       "      <td>Bernard</td>\n",
       "      <td></td>\n",
       "    </tr>\n",
       "    <tr>\n",
       "      <td>1</td>\n",
       "      <td>216</td>\n",
       "      <td>Betsy</td>\n",
       "      <td>McCall</td>\n",
       "    </tr>\n",
       "    <tr>\n",
       "      <td>2</td>\n",
       "      <td>265</td>\n",
       "      <td>Darsh</td>\n",
       "      <td>Nathawani</td>\n",
       "    </tr>\n",
       "    <tr>\n",
       "      <td>3</td>\n",
       "      <td>102</td>\n",
       "      <td>Dmitri</td>\n",
       "      <td>Kireyev</td>\n",
       "    </tr>\n",
       "    <tr>\n",
       "      <td>4</td>\n",
       "      <td>42</td>\n",
       "      <td>Dorien</td>\n",
       "      <td>Verbruggen</td>\n",
       "    </tr>\n",
       "    <tr>\n",
       "      <td>5</td>\n",
       "      <td>150</td>\n",
       "      <td>Eyob</td>\n",
       "      <td>Tadele-Manhardt</td>\n",
       "    </tr>\n",
       "    <tr>\n",
       "      <td>6</td>\n",
       "      <td>200</td>\n",
       "      <td>John</td>\n",
       "      <td>Ringland</td>\n",
       "    </tr>\n",
       "    <tr>\n",
       "      <td>7</td>\n",
       "      <td>293</td>\n",
       "      <td>Kevin</td>\n",
       "      <td>Bui</td>\n",
       "    </tr>\n",
       "    <tr>\n",
       "      <td>8</td>\n",
       "      <td>100</td>\n",
       "      <td>Li</td>\n",
       "      <td>Li</td>\n",
       "    </tr>\n",
       "    <tr>\n",
       "      <td>9</td>\n",
       "      <td>214</td>\n",
       "      <td>Palak</td>\n",
       "      <td>Patel</td>\n",
       "    </tr>\n",
       "    <tr>\n",
       "      <td>10</td>\n",
       "      <td>201</td>\n",
       "      <td>Simone</td>\n",
       "      <td>Cassani</td>\n",
       "    </tr>\n",
       "    <tr>\n",
       "      <td>11</td>\n",
       "      <td>38</td>\n",
       "      <td>Yihe</td>\n",
       "      <td>Yu</td>\n",
       "    </tr>\n",
       "    <tr>\n",
       "      <td>12</td>\n",
       "      <td>215</td>\n",
       "      <td>Yingjie</td>\n",
       "      <td>Gao</td>\n",
       "    </tr>\n",
       "  </tbody>\n",
       "</table>\n",
       "</div>"
      ],
      "text/plain": [
       "    person number first name        last name\n",
       "0             199    Bernard                 \n",
       "1             216      Betsy           McCall\n",
       "2             265      Darsh        Nathawani\n",
       "3             102     Dmitri          Kireyev\n",
       "4              42     Dorien       Verbruggen\n",
       "5             150       Eyob  Tadele-Manhardt\n",
       "6             200       John         Ringland\n",
       "7             293      Kevin              Bui\n",
       "8             100         Li               Li\n",
       "9             214      Palak            Patel\n",
       "10            201     Simone          Cassani\n",
       "11             38       Yihe               Yu\n",
       "12            215    Yingjie              Gao"
      ]
     },
     "execution_count": 229,
     "metadata": {},
     "output_type": "execute_result"
    }
   ],
   "source": [
    "pd.merge(fn,ln,on='person number', how='left').fillna('')"
   ]
  },
  {
   "cell_type": "code",
   "execution_count": 230,
   "metadata": {},
   "outputs": [
    {
     "data": {
      "text/html": [
       "<div>\n",
       "<style scoped>\n",
       "    .dataframe tbody tr th:only-of-type {\n",
       "        vertical-align: middle;\n",
       "    }\n",
       "\n",
       "    .dataframe tbody tr th {\n",
       "        vertical-align: top;\n",
       "    }\n",
       "\n",
       "    .dataframe thead th {\n",
       "        text-align: right;\n",
       "    }\n",
       "</style>\n",
       "<table border=\"1\" class=\"dataframe\">\n",
       "  <thead>\n",
       "    <tr style=\"text-align: right;\">\n",
       "      <th></th>\n",
       "      <th>person number</th>\n",
       "      <th>first name</th>\n",
       "      <th>last name</th>\n",
       "    </tr>\n",
       "  </thead>\n",
       "  <tbody>\n",
       "    <tr>\n",
       "      <td>0</td>\n",
       "      <td>216</td>\n",
       "      <td>Betsy</td>\n",
       "      <td>McCall</td>\n",
       "    </tr>\n",
       "    <tr>\n",
       "      <td>1</td>\n",
       "      <td>265</td>\n",
       "      <td>Darsh</td>\n",
       "      <td>Nathawani</td>\n",
       "    </tr>\n",
       "    <tr>\n",
       "      <td>2</td>\n",
       "      <td>102</td>\n",
       "      <td>Dmitri</td>\n",
       "      <td>Kireyev</td>\n",
       "    </tr>\n",
       "    <tr>\n",
       "      <td>3</td>\n",
       "      <td>42</td>\n",
       "      <td>Dorien</td>\n",
       "      <td>Verbruggen</td>\n",
       "    </tr>\n",
       "    <tr>\n",
       "      <td>4</td>\n",
       "      <td>150</td>\n",
       "      <td>Eyob</td>\n",
       "      <td>Tadele-Manhardt</td>\n",
       "    </tr>\n",
       "    <tr>\n",
       "      <td>5</td>\n",
       "      <td>200</td>\n",
       "      <td>John</td>\n",
       "      <td>Ringland</td>\n",
       "    </tr>\n",
       "    <tr>\n",
       "      <td>6</td>\n",
       "      <td>293</td>\n",
       "      <td>Kevin</td>\n",
       "      <td>Bui</td>\n",
       "    </tr>\n",
       "    <tr>\n",
       "      <td>7</td>\n",
       "      <td>100</td>\n",
       "      <td>Li</td>\n",
       "      <td>Li</td>\n",
       "    </tr>\n",
       "    <tr>\n",
       "      <td>8</td>\n",
       "      <td>214</td>\n",
       "      <td>Palak</td>\n",
       "      <td>Patel</td>\n",
       "    </tr>\n",
       "    <tr>\n",
       "      <td>9</td>\n",
       "      <td>201</td>\n",
       "      <td>Simone</td>\n",
       "      <td>Cassani</td>\n",
       "    </tr>\n",
       "    <tr>\n",
       "      <td>10</td>\n",
       "      <td>38</td>\n",
       "      <td>Yihe</td>\n",
       "      <td>Yu</td>\n",
       "    </tr>\n",
       "    <tr>\n",
       "      <td>11</td>\n",
       "      <td>215</td>\n",
       "      <td>Yingjie</td>\n",
       "      <td>Gao</td>\n",
       "    </tr>\n",
       "    <tr>\n",
       "      <td>12</td>\n",
       "      <td>19</td>\n",
       "      <td></td>\n",
       "      <td>Badzioch</td>\n",
       "    </tr>\n",
       "    <tr>\n",
       "      <td>13</td>\n",
       "      <td>270</td>\n",
       "      <td></td>\n",
       "      <td>Knowles</td>\n",
       "    </tr>\n",
       "  </tbody>\n",
       "</table>\n",
       "</div>"
      ],
      "text/plain": [
       "    person number first name        last name\n",
       "0             216      Betsy           McCall\n",
       "1             265      Darsh        Nathawani\n",
       "2             102     Dmitri          Kireyev\n",
       "3              42     Dorien       Verbruggen\n",
       "4             150       Eyob  Tadele-Manhardt\n",
       "5             200       John         Ringland\n",
       "6             293      Kevin              Bui\n",
       "7             100         Li               Li\n",
       "8             214      Palak            Patel\n",
       "9             201     Simone          Cassani\n",
       "10             38       Yihe               Yu\n",
       "11            215    Yingjie              Gao\n",
       "12             19                    Badzioch\n",
       "13            270                     Knowles"
      ]
     },
     "execution_count": 230,
     "metadata": {},
     "output_type": "execute_result"
    }
   ],
   "source": [
    "pd.merge(fn,ln,on='person number', how='right').fillna('')"
   ]
  },
  {
   "cell_type": "code",
   "execution_count": 231,
   "metadata": {},
   "outputs": [
    {
     "data": {
      "text/html": [
       "<div>\n",
       "<style scoped>\n",
       "    .dataframe tbody tr th:only-of-type {\n",
       "        vertical-align: middle;\n",
       "    }\n",
       "\n",
       "    .dataframe tbody tr th {\n",
       "        vertical-align: top;\n",
       "    }\n",
       "\n",
       "    .dataframe thead th {\n",
       "        text-align: right;\n",
       "    }\n",
       "</style>\n",
       "<table border=\"1\" class=\"dataframe\">\n",
       "  <thead>\n",
       "    <tr style=\"text-align: right;\">\n",
       "      <th></th>\n",
       "      <th>person number</th>\n",
       "      <th>first name</th>\n",
       "      <th>last name</th>\n",
       "    </tr>\n",
       "  </thead>\n",
       "  <tbody>\n",
       "    <tr>\n",
       "      <td>0</td>\n",
       "      <td>199</td>\n",
       "      <td>Bernard</td>\n",
       "      <td></td>\n",
       "    </tr>\n",
       "    <tr>\n",
       "      <td>1</td>\n",
       "      <td>216</td>\n",
       "      <td>Betsy</td>\n",
       "      <td>McCall</td>\n",
       "    </tr>\n",
       "    <tr>\n",
       "      <td>2</td>\n",
       "      <td>265</td>\n",
       "      <td>Darsh</td>\n",
       "      <td>Nathawani</td>\n",
       "    </tr>\n",
       "    <tr>\n",
       "      <td>3</td>\n",
       "      <td>102</td>\n",
       "      <td>Dmitri</td>\n",
       "      <td>Kireyev</td>\n",
       "    </tr>\n",
       "    <tr>\n",
       "      <td>4</td>\n",
       "      <td>42</td>\n",
       "      <td>Dorien</td>\n",
       "      <td>Verbruggen</td>\n",
       "    </tr>\n",
       "    <tr>\n",
       "      <td>5</td>\n",
       "      <td>150</td>\n",
       "      <td>Eyob</td>\n",
       "      <td>Tadele-Manhardt</td>\n",
       "    </tr>\n",
       "    <tr>\n",
       "      <td>6</td>\n",
       "      <td>200</td>\n",
       "      <td>John</td>\n",
       "      <td>Ringland</td>\n",
       "    </tr>\n",
       "    <tr>\n",
       "      <td>7</td>\n",
       "      <td>293</td>\n",
       "      <td>Kevin</td>\n",
       "      <td>Bui</td>\n",
       "    </tr>\n",
       "    <tr>\n",
       "      <td>8</td>\n",
       "      <td>100</td>\n",
       "      <td>Li</td>\n",
       "      <td>Li</td>\n",
       "    </tr>\n",
       "    <tr>\n",
       "      <td>9</td>\n",
       "      <td>214</td>\n",
       "      <td>Palak</td>\n",
       "      <td>Patel</td>\n",
       "    </tr>\n",
       "    <tr>\n",
       "      <td>10</td>\n",
       "      <td>201</td>\n",
       "      <td>Simone</td>\n",
       "      <td>Cassani</td>\n",
       "    </tr>\n",
       "    <tr>\n",
       "      <td>11</td>\n",
       "      <td>38</td>\n",
       "      <td>Yihe</td>\n",
       "      <td>Yu</td>\n",
       "    </tr>\n",
       "    <tr>\n",
       "      <td>12</td>\n",
       "      <td>215</td>\n",
       "      <td>Yingjie</td>\n",
       "      <td>Gao</td>\n",
       "    </tr>\n",
       "    <tr>\n",
       "      <td>13</td>\n",
       "      <td>19</td>\n",
       "      <td></td>\n",
       "      <td>Badzioch</td>\n",
       "    </tr>\n",
       "    <tr>\n",
       "      <td>14</td>\n",
       "      <td>270</td>\n",
       "      <td></td>\n",
       "      <td>Knowles</td>\n",
       "    </tr>\n",
       "  </tbody>\n",
       "</table>\n",
       "</div>"
      ],
      "text/plain": [
       "    person number first name        last name\n",
       "0             199    Bernard                 \n",
       "1             216      Betsy           McCall\n",
       "2             265      Darsh        Nathawani\n",
       "3             102     Dmitri          Kireyev\n",
       "4              42     Dorien       Verbruggen\n",
       "5             150       Eyob  Tadele-Manhardt\n",
       "6             200       John         Ringland\n",
       "7             293      Kevin              Bui\n",
       "8             100         Li               Li\n",
       "9             214      Palak            Patel\n",
       "10            201     Simone          Cassani\n",
       "11             38       Yihe               Yu\n",
       "12            215    Yingjie              Gao\n",
       "13             19                    Badzioch\n",
       "14            270                     Knowles"
      ]
     },
     "execution_count": 231,
     "metadata": {},
     "output_type": "execute_result"
    }
   ],
   "source": [
    "pd.merge(fn,ln,on='person number', how='outer').fillna('')"
   ]
  },
  {
   "cell_type": "code",
   "execution_count": 233,
   "metadata": {},
   "outputs": [
    {
     "data": {
      "text/html": [
       "<div>\n",
       "<style scoped>\n",
       "    .dataframe tbody tr th:only-of-type {\n",
       "        vertical-align: middle;\n",
       "    }\n",
       "\n",
       "    .dataframe tbody tr th {\n",
       "        vertical-align: top;\n",
       "    }\n",
       "\n",
       "    .dataframe thead th {\n",
       "        text-align: right;\n",
       "    }\n",
       "</style>\n",
       "<table border=\"1\" class=\"dataframe\">\n",
       "  <thead>\n",
       "    <tr style=\"text-align: right;\">\n",
       "      <th></th>\n",
       "      <th>TERMSOURCEKEY</th>\n",
       "      <th>TERM</th>\n",
       "      <th>CATALOGNUMBERSOURCEKEY</th>\n",
       "      <th>CLASSSECTION</th>\n",
       "      <th>FACULTYSOURCEKEY</th>\n",
       "      <th>COURSESOURCEKEY</th>\n",
       "      <th>COURSETYPESOURCEKEY</th>\n",
       "      <th>COURSEDESCRIPTION</th>\n",
       "      <th>ENROLLTOTAL</th>\n",
       "      <th>SECTIONCOUNT</th>\n",
       "      <th>SECTIONCAPACITY</th>\n",
       "      <th>ROOMCAPACITY</th>\n",
       "      <th>ROOM</th>\n",
       "      <th>CLASSMEETINGPATTERNSOURCEKEY</th>\n",
       "      <th>CLASSSTARTTIME</th>\n",
       "      <th>CLASSENDTIME</th>\n",
       "      <th>CAMPUS</th>\n",
       "      <th>ACADEMICORG</th>\n",
       "    </tr>\n",
       "  </thead>\n",
       "  <tbody>\n",
       "    <tr>\n",
       "      <td>0</td>\n",
       "      <td>2199</td>\n",
       "      <td>Fall 2019</td>\n",
       "      <td>800TUT</td>\n",
       "      <td>BAD</td>\n",
       "      <td>199</td>\n",
       "      <td>12214</td>\n",
       "      <td>TUT</td>\n",
       "      <td>Thesis Guidance</td>\n",
       "      <td>1</td>\n",
       "      <td>1</td>\n",
       "      <td>999</td>\n",
       "      <td>0</td>\n",
       "      <td>Arr Arr</td>\n",
       "      <td>ARR</td>\n",
       "      <td>12:00AM</td>\n",
       "      <td>12:00AM</td>\n",
       "      <td>Arranged</td>\n",
       "      <td>Mathematics</td>\n",
       "    </tr>\n",
       "    <tr>\n",
       "      <td>1</td>\n",
       "      <td>2199</td>\n",
       "      <td>Fall 2019</td>\n",
       "      <td>801TUT</td>\n",
       "      <td>BAD</td>\n",
       "      <td>199</td>\n",
       "      <td>12215</td>\n",
       "      <td>TUT</td>\n",
       "      <td>Reading and Conference</td>\n",
       "      <td>1</td>\n",
       "      <td>1</td>\n",
       "      <td>999</td>\n",
       "      <td>0</td>\n",
       "      <td>Arr Arr</td>\n",
       "      <td>ARR</td>\n",
       "      <td>12:00AM</td>\n",
       "      <td>12:00AM</td>\n",
       "      <td>Arranged</td>\n",
       "      <td>Mathematics</td>\n",
       "    </tr>\n",
       "    <tr>\n",
       "      <td>2</td>\n",
       "      <td>2199</td>\n",
       "      <td>Fall 2019</td>\n",
       "      <td>499TUT</td>\n",
       "      <td>RIN</td>\n",
       "      <td>200</td>\n",
       "      <td>16749</td>\n",
       "      <td>TUT</td>\n",
       "      <td>Independent Study</td>\n",
       "      <td>2</td>\n",
       "      <td>1</td>\n",
       "      <td>999</td>\n",
       "      <td>0</td>\n",
       "      <td>Arr Arr</td>\n",
       "      <td>ARR</td>\n",
       "      <td>12:00AM</td>\n",
       "      <td>12:00AM</td>\n",
       "      <td>Arranged</td>\n",
       "      <td>Mathematics</td>\n",
       "    </tr>\n",
       "    <tr>\n",
       "      <td>3</td>\n",
       "      <td>2199</td>\n",
       "      <td>Fall 2019</td>\n",
       "      <td>563LEC</td>\n",
       "      <td>GX</td>\n",
       "      <td>200</td>\n",
       "      <td>19148</td>\n",
       "      <td>LEC</td>\n",
       "      <td>Topics in Applied Math</td>\n",
       "      <td>12</td>\n",
       "      <td>1</td>\n",
       "      <td>9</td>\n",
       "      <td>56</td>\n",
       "      <td>Math 250</td>\n",
       "      <td>MW</td>\n",
       "      <td>2:00PM</td>\n",
       "      <td>3:50PM</td>\n",
       "      <td>North Campus</td>\n",
       "      <td>Mathematics</td>\n",
       "    </tr>\n",
       "    <tr>\n",
       "      <td>4</td>\n",
       "      <td>2199</td>\n",
       "      <td>Fall 2019</td>\n",
       "      <td>448LR</td>\n",
       "      <td>0</td>\n",
       "      <td>200</td>\n",
       "      <td>301203</td>\n",
       "      <td>LEC</td>\n",
       "      <td>Data-Oriented Computing</td>\n",
       "      <td>19</td>\n",
       "      <td>1</td>\n",
       "      <td>20</td>\n",
       "      <td>56</td>\n",
       "      <td>Math 250</td>\n",
       "      <td>MW</td>\n",
       "      <td>2:00PM</td>\n",
       "      <td>3:50PM</td>\n",
       "      <td>North Campus</td>\n",
       "      <td>Mathematics</td>\n",
       "    </tr>\n",
       "    <tr>\n",
       "      <td>5</td>\n",
       "      <td>2199</td>\n",
       "      <td>Fall 2019</td>\n",
       "      <td>337LR</td>\n",
       "      <td>0</td>\n",
       "      <td>201</td>\n",
       "      <td>16125</td>\n",
       "      <td>LEC</td>\n",
       "      <td>Scientific and Math Comp</td>\n",
       "      <td>30</td>\n",
       "      <td>1</td>\n",
       "      <td>30</td>\n",
       "      <td>56</td>\n",
       "      <td>Math 250</td>\n",
       "      <td>TR</td>\n",
       "      <td>12:30PM</td>\n",
       "      <td>2:20PM</td>\n",
       "      <td>North Campus</td>\n",
       "      <td>Mathematics</td>\n",
       "    </tr>\n",
       "    <tr>\n",
       "      <td>6</td>\n",
       "      <td>2199</td>\n",
       "      <td>Fall 2019</td>\n",
       "      <td>337LR</td>\n",
       "      <td>R</td>\n",
       "      <td>201</td>\n",
       "      <td>16125</td>\n",
       "      <td>REC</td>\n",
       "      <td>Scientific and Math Comp</td>\n",
       "      <td>30</td>\n",
       "      <td>1</td>\n",
       "      <td>30</td>\n",
       "      <td>0</td>\n",
       "      <td>Math Arr</td>\n",
       "      <td>ARR</td>\n",
       "      <td>12:00AM</td>\n",
       "      <td>12:00AM</td>\n",
       "      <td>North Campus</td>\n",
       "      <td>Mathematics</td>\n",
       "    </tr>\n",
       "    <tr>\n",
       "      <td>7</td>\n",
       "      <td>2199</td>\n",
       "      <td>Fall 2019</td>\n",
       "      <td>142LR</td>\n",
       "      <td>T</td>\n",
       "      <td>201</td>\n",
       "      <td>11295</td>\n",
       "      <td>LEC</td>\n",
       "      <td>College Calculus 2</td>\n",
       "      <td>60</td>\n",
       "      <td>1</td>\n",
       "      <td>60</td>\n",
       "      <td>71</td>\n",
       "      <td>Knox 04</td>\n",
       "      <td>TR</td>\n",
       "      <td>9:30AM</td>\n",
       "      <td>10:50AM</td>\n",
       "      <td>North Campus</td>\n",
       "      <td>Mathematics</td>\n",
       "    </tr>\n",
       "    <tr>\n",
       "      <td>8</td>\n",
       "      <td>2199</td>\n",
       "      <td>Fall 2019</td>\n",
       "      <td>309LR</td>\n",
       "      <td>T</td>\n",
       "      <td>199</td>\n",
       "      <td>14256</td>\n",
       "      <td>LEC</td>\n",
       "      <td>Intro Linear Algebra</td>\n",
       "      <td>90</td>\n",
       "      <td>1</td>\n",
       "      <td>90</td>\n",
       "      <td>97</td>\n",
       "      <td>Nsc 205</td>\n",
       "      <td>TR</td>\n",
       "      <td>9:30AM</td>\n",
       "      <td>10:50AM</td>\n",
       "      <td>North Campus</td>\n",
       "      <td>Mathematics</td>\n",
       "    </tr>\n",
       "  </tbody>\n",
       "</table>\n",
       "</div>"
      ],
      "text/plain": [
       "   TERMSOURCEKEY       TERM CATALOGNUMBERSOURCEKEY CLASSSECTION  \\\n",
       "0           2199  Fall 2019                 800TUT          BAD   \n",
       "1           2199  Fall 2019                 801TUT          BAD   \n",
       "2           2199  Fall 2019                 499TUT          RIN   \n",
       "3           2199  Fall 2019                 563LEC           GX   \n",
       "4           2199  Fall 2019                  448LR            0   \n",
       "5           2199  Fall 2019                  337LR            0   \n",
       "6           2199  Fall 2019                  337LR            R   \n",
       "7           2199  Fall 2019                  142LR            T   \n",
       "8           2199  Fall 2019                  309LR            T   \n",
       "\n",
       "   FACULTYSOURCEKEY  COURSESOURCEKEY COURSETYPESOURCEKEY  \\\n",
       "0               199            12214                 TUT   \n",
       "1               199            12215                 TUT   \n",
       "2               200            16749                 TUT   \n",
       "3               200            19148                 LEC   \n",
       "4               200           301203                 LEC   \n",
       "5               201            16125                 LEC   \n",
       "6               201            16125                 REC   \n",
       "7               201            11295                 LEC   \n",
       "8               199            14256                 LEC   \n",
       "\n",
       "          COURSEDESCRIPTION  ENROLLTOTAL  SECTIONCOUNT  SECTIONCAPACITY  \\\n",
       "0           Thesis Guidance            1             1              999   \n",
       "1    Reading and Conference            1             1              999   \n",
       "2         Independent Study            2             1              999   \n",
       "3    Topics in Applied Math           12             1                9   \n",
       "4   Data-Oriented Computing           19             1               20   \n",
       "5  Scientific and Math Comp           30             1               30   \n",
       "6  Scientific and Math Comp           30             1               30   \n",
       "7        College Calculus 2           60             1               60   \n",
       "8      Intro Linear Algebra           90             1               90   \n",
       "\n",
       "   ROOMCAPACITY      ROOM CLASSMEETINGPATTERNSOURCEKEY CLASSSTARTTIME  \\\n",
       "0             0   Arr Arr                          ARR        12:00AM   \n",
       "1             0   Arr Arr                          ARR        12:00AM   \n",
       "2             0   Arr Arr                          ARR        12:00AM   \n",
       "3            56  Math 250                           MW         2:00PM   \n",
       "4            56  Math 250                           MW         2:00PM   \n",
       "5            56  Math 250                           TR        12:30PM   \n",
       "6             0  Math Arr                          ARR        12:00AM   \n",
       "7            71   Knox 04                           TR         9:30AM   \n",
       "8            97   Nsc 205                           TR         9:30AM   \n",
       "\n",
       "  CLASSENDTIME        CAMPUS  ACADEMICORG  \n",
       "0      12:00AM      Arranged  Mathematics  \n",
       "1      12:00AM      Arranged  Mathematics  \n",
       "2      12:00AM      Arranged  Mathematics  \n",
       "3       3:50PM  North Campus  Mathematics  \n",
       "4       3:50PM  North Campus  Mathematics  \n",
       "5       2:20PM  North Campus  Mathematics  \n",
       "6      12:00AM  North Campus  Mathematics  \n",
       "7      10:50AM  North Campus  Mathematics  \n",
       "8      10:50AM  North Campus  Mathematics  "
      ]
     },
     "execution_count": 233,
     "metadata": {},
     "output_type": "execute_result"
    }
   ],
   "source": [
    "t"
   ]
  },
  {
   "cell_type": "code",
   "execution_count": 234,
   "metadata": {},
   "outputs": [
    {
     "data": {
      "text/html": [
       "<div>\n",
       "<style scoped>\n",
       "    .dataframe tbody tr th:only-of-type {\n",
       "        vertical-align: middle;\n",
       "    }\n",
       "\n",
       "    .dataframe tbody tr th {\n",
       "        vertical-align: top;\n",
       "    }\n",
       "\n",
       "    .dataframe thead th {\n",
       "        text-align: right;\n",
       "    }\n",
       "</style>\n",
       "<table border=\"1\" class=\"dataframe\">\n",
       "  <thead>\n",
       "    <tr style=\"text-align: right;\">\n",
       "      <th></th>\n",
       "      <th>person number</th>\n",
       "      <th>first name</th>\n",
       "      <th>TERMSOURCEKEY</th>\n",
       "      <th>TERM</th>\n",
       "      <th>CATALOGNUMBERSOURCEKEY</th>\n",
       "      <th>CLASSSECTION</th>\n",
       "      <th>FACULTYSOURCEKEY</th>\n",
       "      <th>COURSESOURCEKEY</th>\n",
       "      <th>COURSETYPESOURCEKEY</th>\n",
       "      <th>COURSEDESCRIPTION</th>\n",
       "      <th>ENROLLTOTAL</th>\n",
       "      <th>SECTIONCOUNT</th>\n",
       "      <th>SECTIONCAPACITY</th>\n",
       "      <th>ROOMCAPACITY</th>\n",
       "      <th>ROOM</th>\n",
       "      <th>CLASSMEETINGPATTERNSOURCEKEY</th>\n",
       "      <th>CLASSSTARTTIME</th>\n",
       "      <th>CLASSENDTIME</th>\n",
       "      <th>CAMPUS</th>\n",
       "      <th>ACADEMICORG</th>\n",
       "    </tr>\n",
       "  </thead>\n",
       "  <tbody>\n",
       "    <tr>\n",
       "      <td>0</td>\n",
       "      <td>199</td>\n",
       "      <td>Bernard</td>\n",
       "      <td>2199</td>\n",
       "      <td>Fall 2019</td>\n",
       "      <td>800TUT</td>\n",
       "      <td>BAD</td>\n",
       "      <td>199</td>\n",
       "      <td>12214</td>\n",
       "      <td>TUT</td>\n",
       "      <td>Thesis Guidance</td>\n",
       "      <td>1</td>\n",
       "      <td>1</td>\n",
       "      <td>999</td>\n",
       "      <td>0</td>\n",
       "      <td>Arr Arr</td>\n",
       "      <td>ARR</td>\n",
       "      <td>12:00AM</td>\n",
       "      <td>12:00AM</td>\n",
       "      <td>Arranged</td>\n",
       "      <td>Mathematics</td>\n",
       "    </tr>\n",
       "    <tr>\n",
       "      <td>1</td>\n",
       "      <td>199</td>\n",
       "      <td>Bernard</td>\n",
       "      <td>2199</td>\n",
       "      <td>Fall 2019</td>\n",
       "      <td>801TUT</td>\n",
       "      <td>BAD</td>\n",
       "      <td>199</td>\n",
       "      <td>12215</td>\n",
       "      <td>TUT</td>\n",
       "      <td>Reading and Conference</td>\n",
       "      <td>1</td>\n",
       "      <td>1</td>\n",
       "      <td>999</td>\n",
       "      <td>0</td>\n",
       "      <td>Arr Arr</td>\n",
       "      <td>ARR</td>\n",
       "      <td>12:00AM</td>\n",
       "      <td>12:00AM</td>\n",
       "      <td>Arranged</td>\n",
       "      <td>Mathematics</td>\n",
       "    </tr>\n",
       "    <tr>\n",
       "      <td>2</td>\n",
       "      <td>199</td>\n",
       "      <td>Bernard</td>\n",
       "      <td>2199</td>\n",
       "      <td>Fall 2019</td>\n",
       "      <td>309LR</td>\n",
       "      <td>T</td>\n",
       "      <td>199</td>\n",
       "      <td>14256</td>\n",
       "      <td>LEC</td>\n",
       "      <td>Intro Linear Algebra</td>\n",
       "      <td>90</td>\n",
       "      <td>1</td>\n",
       "      <td>90</td>\n",
       "      <td>97</td>\n",
       "      <td>Nsc 205</td>\n",
       "      <td>TR</td>\n",
       "      <td>9:30AM</td>\n",
       "      <td>10:50AM</td>\n",
       "      <td>North Campus</td>\n",
       "      <td>Mathematics</td>\n",
       "    </tr>\n",
       "    <tr>\n",
       "      <td>3</td>\n",
       "      <td>216</td>\n",
       "      <td>Betsy</td>\n",
       "      <td></td>\n",
       "      <td></td>\n",
       "      <td></td>\n",
       "      <td></td>\n",
       "      <td></td>\n",
       "      <td></td>\n",
       "      <td></td>\n",
       "      <td></td>\n",
       "      <td></td>\n",
       "      <td></td>\n",
       "      <td></td>\n",
       "      <td></td>\n",
       "      <td></td>\n",
       "      <td></td>\n",
       "      <td></td>\n",
       "      <td></td>\n",
       "      <td></td>\n",
       "      <td></td>\n",
       "    </tr>\n",
       "    <tr>\n",
       "      <td>4</td>\n",
       "      <td>265</td>\n",
       "      <td>Darsh</td>\n",
       "      <td></td>\n",
       "      <td></td>\n",
       "      <td></td>\n",
       "      <td></td>\n",
       "      <td></td>\n",
       "      <td></td>\n",
       "      <td></td>\n",
       "      <td></td>\n",
       "      <td></td>\n",
       "      <td></td>\n",
       "      <td></td>\n",
       "      <td></td>\n",
       "      <td></td>\n",
       "      <td></td>\n",
       "      <td></td>\n",
       "      <td></td>\n",
       "      <td></td>\n",
       "      <td></td>\n",
       "    </tr>\n",
       "    <tr>\n",
       "      <td>5</td>\n",
       "      <td>102</td>\n",
       "      <td>Dmitri</td>\n",
       "      <td></td>\n",
       "      <td></td>\n",
       "      <td></td>\n",
       "      <td></td>\n",
       "      <td></td>\n",
       "      <td></td>\n",
       "      <td></td>\n",
       "      <td></td>\n",
       "      <td></td>\n",
       "      <td></td>\n",
       "      <td></td>\n",
       "      <td></td>\n",
       "      <td></td>\n",
       "      <td></td>\n",
       "      <td></td>\n",
       "      <td></td>\n",
       "      <td></td>\n",
       "      <td></td>\n",
       "    </tr>\n",
       "    <tr>\n",
       "      <td>6</td>\n",
       "      <td>42</td>\n",
       "      <td>Dorien</td>\n",
       "      <td></td>\n",
       "      <td></td>\n",
       "      <td></td>\n",
       "      <td></td>\n",
       "      <td></td>\n",
       "      <td></td>\n",
       "      <td></td>\n",
       "      <td></td>\n",
       "      <td></td>\n",
       "      <td></td>\n",
       "      <td></td>\n",
       "      <td></td>\n",
       "      <td></td>\n",
       "      <td></td>\n",
       "      <td></td>\n",
       "      <td></td>\n",
       "      <td></td>\n",
       "      <td></td>\n",
       "    </tr>\n",
       "    <tr>\n",
       "      <td>7</td>\n",
       "      <td>150</td>\n",
       "      <td>Eyob</td>\n",
       "      <td></td>\n",
       "      <td></td>\n",
       "      <td></td>\n",
       "      <td></td>\n",
       "      <td></td>\n",
       "      <td></td>\n",
       "      <td></td>\n",
       "      <td></td>\n",
       "      <td></td>\n",
       "      <td></td>\n",
       "      <td></td>\n",
       "      <td></td>\n",
       "      <td></td>\n",
       "      <td></td>\n",
       "      <td></td>\n",
       "      <td></td>\n",
       "      <td></td>\n",
       "      <td></td>\n",
       "    </tr>\n",
       "    <tr>\n",
       "      <td>8</td>\n",
       "      <td>200</td>\n",
       "      <td>John</td>\n",
       "      <td>2199</td>\n",
       "      <td>Fall 2019</td>\n",
       "      <td>499TUT</td>\n",
       "      <td>RIN</td>\n",
       "      <td>200</td>\n",
       "      <td>16749</td>\n",
       "      <td>TUT</td>\n",
       "      <td>Independent Study</td>\n",
       "      <td>2</td>\n",
       "      <td>1</td>\n",
       "      <td>999</td>\n",
       "      <td>0</td>\n",
       "      <td>Arr Arr</td>\n",
       "      <td>ARR</td>\n",
       "      <td>12:00AM</td>\n",
       "      <td>12:00AM</td>\n",
       "      <td>Arranged</td>\n",
       "      <td>Mathematics</td>\n",
       "    </tr>\n",
       "    <tr>\n",
       "      <td>9</td>\n",
       "      <td>200</td>\n",
       "      <td>John</td>\n",
       "      <td>2199</td>\n",
       "      <td>Fall 2019</td>\n",
       "      <td>563LEC</td>\n",
       "      <td>GX</td>\n",
       "      <td>200</td>\n",
       "      <td>19148</td>\n",
       "      <td>LEC</td>\n",
       "      <td>Topics in Applied Math</td>\n",
       "      <td>12</td>\n",
       "      <td>1</td>\n",
       "      <td>9</td>\n",
       "      <td>56</td>\n",
       "      <td>Math 250</td>\n",
       "      <td>MW</td>\n",
       "      <td>2:00PM</td>\n",
       "      <td>3:50PM</td>\n",
       "      <td>North Campus</td>\n",
       "      <td>Mathematics</td>\n",
       "    </tr>\n",
       "    <tr>\n",
       "      <td>10</td>\n",
       "      <td>200</td>\n",
       "      <td>John</td>\n",
       "      <td>2199</td>\n",
       "      <td>Fall 2019</td>\n",
       "      <td>448LR</td>\n",
       "      <td>0</td>\n",
       "      <td>200</td>\n",
       "      <td>301203</td>\n",
       "      <td>LEC</td>\n",
       "      <td>Data-Oriented Computing</td>\n",
       "      <td>19</td>\n",
       "      <td>1</td>\n",
       "      <td>20</td>\n",
       "      <td>56</td>\n",
       "      <td>Math 250</td>\n",
       "      <td>MW</td>\n",
       "      <td>2:00PM</td>\n",
       "      <td>3:50PM</td>\n",
       "      <td>North Campus</td>\n",
       "      <td>Mathematics</td>\n",
       "    </tr>\n",
       "    <tr>\n",
       "      <td>11</td>\n",
       "      <td>293</td>\n",
       "      <td>Kevin</td>\n",
       "      <td></td>\n",
       "      <td></td>\n",
       "      <td></td>\n",
       "      <td></td>\n",
       "      <td></td>\n",
       "      <td></td>\n",
       "      <td></td>\n",
       "      <td></td>\n",
       "      <td></td>\n",
       "      <td></td>\n",
       "      <td></td>\n",
       "      <td></td>\n",
       "      <td></td>\n",
       "      <td></td>\n",
       "      <td></td>\n",
       "      <td></td>\n",
       "      <td></td>\n",
       "      <td></td>\n",
       "    </tr>\n",
       "    <tr>\n",
       "      <td>12</td>\n",
       "      <td>100</td>\n",
       "      <td>Li</td>\n",
       "      <td></td>\n",
       "      <td></td>\n",
       "      <td></td>\n",
       "      <td></td>\n",
       "      <td></td>\n",
       "      <td></td>\n",
       "      <td></td>\n",
       "      <td></td>\n",
       "      <td></td>\n",
       "      <td></td>\n",
       "      <td></td>\n",
       "      <td></td>\n",
       "      <td></td>\n",
       "      <td></td>\n",
       "      <td></td>\n",
       "      <td></td>\n",
       "      <td></td>\n",
       "      <td></td>\n",
       "    </tr>\n",
       "    <tr>\n",
       "      <td>13</td>\n",
       "      <td>214</td>\n",
       "      <td>Palak</td>\n",
       "      <td></td>\n",
       "      <td></td>\n",
       "      <td></td>\n",
       "      <td></td>\n",
       "      <td></td>\n",
       "      <td></td>\n",
       "      <td></td>\n",
       "      <td></td>\n",
       "      <td></td>\n",
       "      <td></td>\n",
       "      <td></td>\n",
       "      <td></td>\n",
       "      <td></td>\n",
       "      <td></td>\n",
       "      <td></td>\n",
       "      <td></td>\n",
       "      <td></td>\n",
       "      <td></td>\n",
       "    </tr>\n",
       "    <tr>\n",
       "      <td>14</td>\n",
       "      <td>201</td>\n",
       "      <td>Simone</td>\n",
       "      <td>2199</td>\n",
       "      <td>Fall 2019</td>\n",
       "      <td>337LR</td>\n",
       "      <td>0</td>\n",
       "      <td>201</td>\n",
       "      <td>16125</td>\n",
       "      <td>LEC</td>\n",
       "      <td>Scientific and Math Comp</td>\n",
       "      <td>30</td>\n",
       "      <td>1</td>\n",
       "      <td>30</td>\n",
       "      <td>56</td>\n",
       "      <td>Math 250</td>\n",
       "      <td>TR</td>\n",
       "      <td>12:30PM</td>\n",
       "      <td>2:20PM</td>\n",
       "      <td>North Campus</td>\n",
       "      <td>Mathematics</td>\n",
       "    </tr>\n",
       "    <tr>\n",
       "      <td>15</td>\n",
       "      <td>201</td>\n",
       "      <td>Simone</td>\n",
       "      <td>2199</td>\n",
       "      <td>Fall 2019</td>\n",
       "      <td>337LR</td>\n",
       "      <td>R</td>\n",
       "      <td>201</td>\n",
       "      <td>16125</td>\n",
       "      <td>REC</td>\n",
       "      <td>Scientific and Math Comp</td>\n",
       "      <td>30</td>\n",
       "      <td>1</td>\n",
       "      <td>30</td>\n",
       "      <td>0</td>\n",
       "      <td>Math Arr</td>\n",
       "      <td>ARR</td>\n",
       "      <td>12:00AM</td>\n",
       "      <td>12:00AM</td>\n",
       "      <td>North Campus</td>\n",
       "      <td>Mathematics</td>\n",
       "    </tr>\n",
       "    <tr>\n",
       "      <td>16</td>\n",
       "      <td>201</td>\n",
       "      <td>Simone</td>\n",
       "      <td>2199</td>\n",
       "      <td>Fall 2019</td>\n",
       "      <td>142LR</td>\n",
       "      <td>T</td>\n",
       "      <td>201</td>\n",
       "      <td>11295</td>\n",
       "      <td>LEC</td>\n",
       "      <td>College Calculus 2</td>\n",
       "      <td>60</td>\n",
       "      <td>1</td>\n",
       "      <td>60</td>\n",
       "      <td>71</td>\n",
       "      <td>Knox 04</td>\n",
       "      <td>TR</td>\n",
       "      <td>9:30AM</td>\n",
       "      <td>10:50AM</td>\n",
       "      <td>North Campus</td>\n",
       "      <td>Mathematics</td>\n",
       "    </tr>\n",
       "    <tr>\n",
       "      <td>17</td>\n",
       "      <td>38</td>\n",
       "      <td>Yihe</td>\n",
       "      <td></td>\n",
       "      <td></td>\n",
       "      <td></td>\n",
       "      <td></td>\n",
       "      <td></td>\n",
       "      <td></td>\n",
       "      <td></td>\n",
       "      <td></td>\n",
       "      <td></td>\n",
       "      <td></td>\n",
       "      <td></td>\n",
       "      <td></td>\n",
       "      <td></td>\n",
       "      <td></td>\n",
       "      <td></td>\n",
       "      <td></td>\n",
       "      <td></td>\n",
       "      <td></td>\n",
       "    </tr>\n",
       "    <tr>\n",
       "      <td>18</td>\n",
       "      <td>215</td>\n",
       "      <td>Yingjie</td>\n",
       "      <td></td>\n",
       "      <td></td>\n",
       "      <td></td>\n",
       "      <td></td>\n",
       "      <td></td>\n",
       "      <td></td>\n",
       "      <td></td>\n",
       "      <td></td>\n",
       "      <td></td>\n",
       "      <td></td>\n",
       "      <td></td>\n",
       "      <td></td>\n",
       "      <td></td>\n",
       "      <td></td>\n",
       "      <td></td>\n",
       "      <td></td>\n",
       "      <td></td>\n",
       "      <td></td>\n",
       "    </tr>\n",
       "  </tbody>\n",
       "</table>\n",
       "</div>"
      ],
      "text/plain": [
       "    person number first name TERMSOURCEKEY       TERM CATALOGNUMBERSOURCEKEY  \\\n",
       "0             199    Bernard          2199  Fall 2019                 800TUT   \n",
       "1             199    Bernard          2199  Fall 2019                 801TUT   \n",
       "2             199    Bernard          2199  Fall 2019                  309LR   \n",
       "3             216      Betsy                                                   \n",
       "4             265      Darsh                                                   \n",
       "5             102     Dmitri                                                   \n",
       "6              42     Dorien                                                   \n",
       "7             150       Eyob                                                   \n",
       "8             200       John          2199  Fall 2019                 499TUT   \n",
       "9             200       John          2199  Fall 2019                 563LEC   \n",
       "10            200       John          2199  Fall 2019                  448LR   \n",
       "11            293      Kevin                                                   \n",
       "12            100         Li                                                   \n",
       "13            214      Palak                                                   \n",
       "14            201     Simone          2199  Fall 2019                  337LR   \n",
       "15            201     Simone          2199  Fall 2019                  337LR   \n",
       "16            201     Simone          2199  Fall 2019                  142LR   \n",
       "17             38       Yihe                                                   \n",
       "18            215    Yingjie                                                   \n",
       "\n",
       "   CLASSSECTION FACULTYSOURCEKEY COURSESOURCEKEY COURSETYPESOURCEKEY  \\\n",
       "0           BAD              199           12214                 TUT   \n",
       "1           BAD              199           12215                 TUT   \n",
       "2             T              199           14256                 LEC   \n",
       "3                                                                      \n",
       "4                                                                      \n",
       "5                                                                      \n",
       "6                                                                      \n",
       "7                                                                      \n",
       "8           RIN              200           16749                 TUT   \n",
       "9            GX              200           19148                 LEC   \n",
       "10            0              200          301203                 LEC   \n",
       "11                                                                     \n",
       "12                                                                     \n",
       "13                                                                     \n",
       "14            0              201           16125                 LEC   \n",
       "15            R              201           16125                 REC   \n",
       "16            T              201           11295                 LEC   \n",
       "17                                                                     \n",
       "18                                                                     \n",
       "\n",
       "           COURSEDESCRIPTION ENROLLTOTAL SECTIONCOUNT SECTIONCAPACITY  \\\n",
       "0            Thesis Guidance           1            1             999   \n",
       "1     Reading and Conference           1            1             999   \n",
       "2       Intro Linear Algebra          90            1              90   \n",
       "3                                                                       \n",
       "4                                                                       \n",
       "5                                                                       \n",
       "6                                                                       \n",
       "7                                                                       \n",
       "8          Independent Study           2            1             999   \n",
       "9     Topics in Applied Math          12            1               9   \n",
       "10   Data-Oriented Computing          19            1              20   \n",
       "11                                                                      \n",
       "12                                                                      \n",
       "13                                                                      \n",
       "14  Scientific and Math Comp          30            1              30   \n",
       "15  Scientific and Math Comp          30            1              30   \n",
       "16        College Calculus 2          60            1              60   \n",
       "17                                                                      \n",
       "18                                                                      \n",
       "\n",
       "   ROOMCAPACITY      ROOM CLASSMEETINGPATTERNSOURCEKEY CLASSSTARTTIME  \\\n",
       "0             0   Arr Arr                          ARR        12:00AM   \n",
       "1             0   Arr Arr                          ARR        12:00AM   \n",
       "2            97   Nsc 205                           TR         9:30AM   \n",
       "3                                                                       \n",
       "4                                                                       \n",
       "5                                                                       \n",
       "6                                                                       \n",
       "7                                                                       \n",
       "8             0   Arr Arr                          ARR        12:00AM   \n",
       "9            56  Math 250                           MW         2:00PM   \n",
       "10           56  Math 250                           MW         2:00PM   \n",
       "11                                                                      \n",
       "12                                                                      \n",
       "13                                                                      \n",
       "14           56  Math 250                           TR        12:30PM   \n",
       "15            0  Math Arr                          ARR        12:00AM   \n",
       "16           71   Knox 04                           TR         9:30AM   \n",
       "17                                                                      \n",
       "18                                                                      \n",
       "\n",
       "   CLASSENDTIME        CAMPUS  ACADEMICORG  \n",
       "0       12:00AM      Arranged  Mathematics  \n",
       "1       12:00AM      Arranged  Mathematics  \n",
       "2       10:50AM  North Campus  Mathematics  \n",
       "3                                           \n",
       "4                                           \n",
       "5                                           \n",
       "6                                           \n",
       "7                                           \n",
       "8       12:00AM      Arranged  Mathematics  \n",
       "9        3:50PM  North Campus  Mathematics  \n",
       "10       3:50PM  North Campus  Mathematics  \n",
       "11                                          \n",
       "12                                          \n",
       "13                                          \n",
       "14       2:20PM  North Campus  Mathematics  \n",
       "15      12:00AM  North Campus  Mathematics  \n",
       "16      10:50AM  North Campus  Mathematics  \n",
       "17                                          \n",
       "18                                          "
      ]
     },
     "execution_count": 234,
     "metadata": {},
     "output_type": "execute_result"
    }
   ],
   "source": [
    "pd.merge(fn,t,left_on='person number', right_on='FACULTYSOURCEKEY',how='left').fillna('')"
   ]
  },
  {
   "cell_type": "code",
   "execution_count": 198,
   "metadata": {},
   "outputs": [],
   "source": [
    "col = t.columns[0].split('\\t')\n",
    "for x in range(len(col)):\n",
    "    col[x] = col[x].replace('\\\"','')"
   ]
  },
  {
   "cell_type": "code",
   "execution_count": 222,
   "metadata": {},
   "outputs": [
    {
     "name": "stdout",
     "output_type": "stream",
     "text": [
      "TERMSOURCEKEY\\t\"TERM\"\\t\"CATALOGNUMBERSOURCEKEY\"\\t\"CLASSSECTION\"\\t\"FACULTYSOURCEKEY\"\\t\"COURSESOURCEKEY\"\\t\"COURSETYPESOURCEKEY\"\\t\"COURSEDESCRIPTION\"\\t\"ENROLLTOTAL\"\\t\"SECTIONCOUNT\"\\t\"SECTIONCAPACITY\"\\t\"ROOMCAPACITY\"\\t\"ROOM\"\\t\"CLASSMEETINGPATTERNSOURCEKEY\"\\t\"CLASSSTARTTIME\"\\t\"CLASSENDTIME\"\\t\"CAMPUS\"\\t\"ACADEMICORG\"    2199\\t\"Fall 2019\"\\t\"800TUT\"\\t\"BAD\"\\t199\\t12214...\n",
      "Name: 0, dtype: object\n",
      "TERMSOURCEKEY\\t\"TERM\"\\t\"CATALOGNUMBERSOURCEKEY\"\\t\"CLASSSECTION\"\\t\"FACULTYSOURCEKEY\"\\t\"COURSESOURCEKEY\"\\t\"COURSETYPESOURCEKEY\"\\t\"COURSEDESCRIPTION\"\\t\"ENROLLTOTAL\"\\t\"SECTIONCOUNT\"\\t\"SECTIONCAPACITY\"\\t\"ROOMCAPACITY\"\\t\"ROOM\"\\t\"CLASSMEETINGPATTERNSOURCEKEY\"\\t\"CLASSSTARTTIME\"\\t\"CLASSENDTIME\"\\t\"CAMPUS\"\\t\"ACADEMICORG\"    2199\\t\"Fall 2019\"\\t\"801TUT\"\\t\"BAD\"\\t199\\t12215...\n",
      "Name: 1, dtype: object\n",
      "TERMSOURCEKEY\\t\"TERM\"\\t\"CATALOGNUMBERSOURCEKEY\"\\t\"CLASSSECTION\"\\t\"FACULTYSOURCEKEY\"\\t\"COURSESOURCEKEY\"\\t\"COURSETYPESOURCEKEY\"\\t\"COURSEDESCRIPTION\"\\t\"ENROLLTOTAL\"\\t\"SECTIONCOUNT\"\\t\"SECTIONCAPACITY\"\\t\"ROOMCAPACITY\"\\t\"ROOM\"\\t\"CLASSMEETINGPATTERNSOURCEKEY\"\\t\"CLASSSTARTTIME\"\\t\"CLASSENDTIME\"\\t\"CAMPUS\"\\t\"ACADEMICORG\"    2199\\t\"Fall 2019\"\\t\"499TUT\"\\t\"RIN\"\\t200\\t16749...\n",
      "Name: 2, dtype: object\n",
      "TERMSOURCEKEY\\t\"TERM\"\\t\"CATALOGNUMBERSOURCEKEY\"\\t\"CLASSSECTION\"\\t\"FACULTYSOURCEKEY\"\\t\"COURSESOURCEKEY\"\\t\"COURSETYPESOURCEKEY\"\\t\"COURSEDESCRIPTION\"\\t\"ENROLLTOTAL\"\\t\"SECTIONCOUNT\"\\t\"SECTIONCAPACITY\"\\t\"ROOMCAPACITY\"\\t\"ROOM\"\\t\"CLASSMEETINGPATTERNSOURCEKEY\"\\t\"CLASSSTARTTIME\"\\t\"CLASSENDTIME\"\\t\"CAMPUS\"\\t\"ACADEMICORG\"    2199\\t\"Fall 2019\"\\t\"563LEC\"\\t\"GX\"\\t200\\t19148\\...\n",
      "Name: 3, dtype: object\n",
      "TERMSOURCEKEY\\t\"TERM\"\\t\"CATALOGNUMBERSOURCEKEY\"\\t\"CLASSSECTION\"\\t\"FACULTYSOURCEKEY\"\\t\"COURSESOURCEKEY\"\\t\"COURSETYPESOURCEKEY\"\\t\"COURSEDESCRIPTION\"\\t\"ENROLLTOTAL\"\\t\"SECTIONCOUNT\"\\t\"SECTIONCAPACITY\"\\t\"ROOMCAPACITY\"\\t\"ROOM\"\\t\"CLASSMEETINGPATTERNSOURCEKEY\"\\t\"CLASSSTARTTIME\"\\t\"CLASSENDTIME\"\\t\"CAMPUS\"\\t\"ACADEMICORG\"    2199\\t\"Fall 2019\"\\t\"448LR\"\\t0\\t200\\t301203\\t\"L...\n",
      "Name: 4, dtype: object\n",
      "TERMSOURCEKEY\\t\"TERM\"\\t\"CATALOGNUMBERSOURCEKEY\"\\t\"CLASSSECTION\"\\t\"FACULTYSOURCEKEY\"\\t\"COURSESOURCEKEY\"\\t\"COURSETYPESOURCEKEY\"\\t\"COURSEDESCRIPTION\"\\t\"ENROLLTOTAL\"\\t\"SECTIONCOUNT\"\\t\"SECTIONCAPACITY\"\\t\"ROOMCAPACITY\"\\t\"ROOM\"\\t\"CLASSMEETINGPATTERNSOURCEKEY\"\\t\"CLASSSTARTTIME\"\\t\"CLASSENDTIME\"\\t\"CAMPUS\"\\t\"ACADEMICORG\"    2199\\t\"Fall 2019\"\\t\"337LR\"\\t0\\t201\\t16125\\t\"LE...\n",
      "Name: 5, dtype: object\n",
      "TERMSOURCEKEY\\t\"TERM\"\\t\"CATALOGNUMBERSOURCEKEY\"\\t\"CLASSSECTION\"\\t\"FACULTYSOURCEKEY\"\\t\"COURSESOURCEKEY\"\\t\"COURSETYPESOURCEKEY\"\\t\"COURSEDESCRIPTION\"\\t\"ENROLLTOTAL\"\\t\"SECTIONCOUNT\"\\t\"SECTIONCAPACITY\"\\t\"ROOMCAPACITY\"\\t\"ROOM\"\\t\"CLASSMEETINGPATTERNSOURCEKEY\"\\t\"CLASSSTARTTIME\"\\t\"CLASSENDTIME\"\\t\"CAMPUS\"\\t\"ACADEMICORG\"    2199\\t\"Fall 2019\"\\t\"337LR\"\\t\"R\"\\t201\\t16125\\t\"...\n",
      "Name: 6, dtype: object\n",
      "TERMSOURCEKEY\\t\"TERM\"\\t\"CATALOGNUMBERSOURCEKEY\"\\t\"CLASSSECTION\"\\t\"FACULTYSOURCEKEY\"\\t\"COURSESOURCEKEY\"\\t\"COURSETYPESOURCEKEY\"\\t\"COURSEDESCRIPTION\"\\t\"ENROLLTOTAL\"\\t\"SECTIONCOUNT\"\\t\"SECTIONCAPACITY\"\\t\"ROOMCAPACITY\"\\t\"ROOM\"\\t\"CLASSMEETINGPATTERNSOURCEKEY\"\\t\"CLASSSTARTTIME\"\\t\"CLASSENDTIME\"\\t\"CAMPUS\"\\t\"ACADEMICORG\"    2199\\t\"Fall 2019\"\\t\"142LR\"\\t\"T\"\\t201\\t11295\\t\"...\n",
      "Name: 7, dtype: object\n",
      "TERMSOURCEKEY\\t\"TERM\"\\t\"CATALOGNUMBERSOURCEKEY\"\\t\"CLASSSECTION\"\\t\"FACULTYSOURCEKEY\"\\t\"COURSESOURCEKEY\"\\t\"COURSETYPESOURCEKEY\"\\t\"COURSEDESCRIPTION\"\\t\"ENROLLTOTAL\"\\t\"SECTIONCOUNT\"\\t\"SECTIONCAPACITY\"\\t\"ROOMCAPACITY\"\\t\"ROOM\"\\t\"CLASSMEETINGPATTERNSOURCEKEY\"\\t\"CLASSSTARTTIME\"\\t\"CLASSENDTIME\"\\t\"CAMPUS\"\\t\"ACADEMICORG\"    2199\\t\"Fall 2019\"\\t\"309LR\"\\t\"T\"\\t199\\t14256\\t\"...\n",
      "Name: 8, dtype: object\n"
     ]
    }
   ],
   "source": [
    "for i in range(9):\n",
    "    print(t.loc[i, :])"
   ]
  },
  {
   "cell_type": "code",
   "execution_count": 218,
   "metadata": {},
   "outputs": [
    {
     "data": {
      "text/html": [
       "<div>\n",
       "<style scoped>\n",
       "    .dataframe tbody tr th:only-of-type {\n",
       "        vertical-align: middle;\n",
       "    }\n",
       "\n",
       "    .dataframe tbody tr th {\n",
       "        vertical-align: top;\n",
       "    }\n",
       "\n",
       "    .dataframe thead th {\n",
       "        text-align: right;\n",
       "    }\n",
       "</style>\n",
       "<table border=\"1\" class=\"dataframe\">\n",
       "  <thead>\n",
       "    <tr style=\"text-align: right;\">\n",
       "      <th></th>\n",
       "      <th>TERMSOURCEKEY\\t\"TERM\"\\t\"CATALOGNUMBERSOURCEKEY\"\\t\"CLASSSECTION\"\\t\"FACULTYSOURCEKEY\"\\t\"COURSESOURCEKEY\"\\t\"COURSETYPESOURCEKEY\"\\t\"COURSEDESCRIPTION\"\\t\"ENROLLTOTAL\"\\t\"SECTIONCOUNT\"\\t\"SECTIONCAPACITY\"\\t\"ROOMCAPACITY\"\\t\"ROOM\"\\t\"CLASSMEETINGPATTERNSOURCEKEY\"\\t\"CLASSSTARTTIME\"\\t\"CLASSENDTIME\"\\t\"CAMPUS\"\\t\"ACADEMICORG\"</th>\n",
       "    </tr>\n",
       "  </thead>\n",
       "  <tbody>\n",
       "    <tr>\n",
       "      <td>0</td>\n",
       "      <td>2199\\t\"Fall 2019\"\\t\"800TUT\"\\t\"BAD\"\\t199\\t12214...</td>\n",
       "    </tr>\n",
       "    <tr>\n",
       "      <td>1</td>\n",
       "      <td>2199\\t\"Fall 2019\"\\t\"801TUT\"\\t\"BAD\"\\t199\\t12215...</td>\n",
       "    </tr>\n",
       "    <tr>\n",
       "      <td>2</td>\n",
       "      <td>2199\\t\"Fall 2019\"\\t\"499TUT\"\\t\"RIN\"\\t200\\t16749...</td>\n",
       "    </tr>\n",
       "    <tr>\n",
       "      <td>3</td>\n",
       "      <td>2199\\t\"Fall 2019\"\\t\"563LEC\"\\t\"GX\"\\t200\\t19148\\...</td>\n",
       "    </tr>\n",
       "    <tr>\n",
       "      <td>4</td>\n",
       "      <td>2199\\t\"Fall 2019\"\\t\"448LR\"\\t0\\t200\\t301203\\t\"L...</td>\n",
       "    </tr>\n",
       "    <tr>\n",
       "      <td>5</td>\n",
       "      <td>2199\\t\"Fall 2019\"\\t\"337LR\"\\t0\\t201\\t16125\\t\"LE...</td>\n",
       "    </tr>\n",
       "    <tr>\n",
       "      <td>6</td>\n",
       "      <td>2199\\t\"Fall 2019\"\\t\"337LR\"\\t\"R\"\\t201\\t16125\\t\"...</td>\n",
       "    </tr>\n",
       "    <tr>\n",
       "      <td>7</td>\n",
       "      <td>2199\\t\"Fall 2019\"\\t\"142LR\"\\t\"T\"\\t201\\t11295\\t\"...</td>\n",
       "    </tr>\n",
       "    <tr>\n",
       "      <td>8</td>\n",
       "      <td>2199\\t\"Fall 2019\"\\t\"309LR\"\\t\"T\"\\t199\\t14256\\t\"...</td>\n",
       "    </tr>\n",
       "  </tbody>\n",
       "</table>\n",
       "</div>"
      ],
      "text/plain": [
       "  TERMSOURCEKEY\\t\"TERM\"\\t\"CATALOGNUMBERSOURCEKEY\"\\t\"CLASSSECTION\"\\t\"FACULTYSOURCEKEY\"\\t\"COURSESOURCEKEY\"\\t\"COURSETYPESOURCEKEY\"\\t\"COURSEDESCRIPTION\"\\t\"ENROLLTOTAL\"\\t\"SECTIONCOUNT\"\\t\"SECTIONCAPACITY\"\\t\"ROOMCAPACITY\"\\t\"ROOM\"\\t\"CLASSMEETINGPATTERNSOURCEKEY\"\\t\"CLASSSTARTTIME\"\\t\"CLASSENDTIME\"\\t\"CAMPUS\"\\t\"ACADEMICORG\"\n",
       "0  2199\\t\"Fall 2019\"\\t\"800TUT\"\\t\"BAD\"\\t199\\t12214...                                                                                                                                                                                                                                                                     \n",
       "1  2199\\t\"Fall 2019\"\\t\"801TUT\"\\t\"BAD\"\\t199\\t12215...                                                                                                                                                                                                                                                                     \n",
       "2  2199\\t\"Fall 2019\"\\t\"499TUT\"\\t\"RIN\"\\t200\\t16749...                                                                                                                                                                                                                                                                     \n",
       "3  2199\\t\"Fall 2019\"\\t\"563LEC\"\\t\"GX\"\\t200\\t19148\\...                                                                                                                                                                                                                                                                     \n",
       "4  2199\\t\"Fall 2019\"\\t\"448LR\"\\t0\\t200\\t301203\\t\"L...                                                                                                                                                                                                                                                                     \n",
       "5  2199\\t\"Fall 2019\"\\t\"337LR\"\\t0\\t201\\t16125\\t\"LE...                                                                                                                                                                                                                                                                     \n",
       "6  2199\\t\"Fall 2019\"\\t\"337LR\"\\t\"R\"\\t201\\t16125\\t\"...                                                                                                                                                                                                                                                                     \n",
       "7  2199\\t\"Fall 2019\"\\t\"142LR\"\\t\"T\"\\t201\\t11295\\t\"...                                                                                                                                                                                                                                                                     \n",
       "8  2199\\t\"Fall 2019\"\\t\"309LR\"\\t\"T\"\\t199\\t14256\\t\"...                                                                                                                                                                                                                                                                     "
      ]
     },
     "execution_count": 218,
     "metadata": {},
     "output_type": "execute_result"
    }
   ],
   "source": [
    "t"
   ]
  },
  {
   "cell_type": "code",
   "execution_count": 199,
   "metadata": {},
   "outputs": [
    {
     "data": {
      "text/html": [
       "<div>\n",
       "<style scoped>\n",
       "    .dataframe tbody tr th:only-of-type {\n",
       "        vertical-align: middle;\n",
       "    }\n",
       "\n",
       "    .dataframe tbody tr th {\n",
       "        vertical-align: top;\n",
       "    }\n",
       "\n",
       "    .dataframe thead th {\n",
       "        text-align: right;\n",
       "    }\n",
       "</style>\n",
       "<table border=\"1\" class=\"dataframe\">\n",
       "  <thead>\n",
       "    <tr style=\"text-align: right;\">\n",
       "      <th></th>\n",
       "      <th>TERMSOURCEKEY</th>\n",
       "      <th>TERM</th>\n",
       "      <th>CATALOGNUMBERSOURCEKEY</th>\n",
       "      <th>CLASSSECTION</th>\n",
       "      <th>FACULTYSOURCEKEY</th>\n",
       "      <th>COURSESOURCEKEY</th>\n",
       "      <th>COURSETYPESOURCEKEY</th>\n",
       "      <th>COURSEDESCRIPTION</th>\n",
       "      <th>ENROLLTOTAL</th>\n",
       "      <th>SECTIONCOUNT</th>\n",
       "      <th>SECTIONCAPACITY</th>\n",
       "      <th>ROOMCAPACITY</th>\n",
       "      <th>ROOM</th>\n",
       "      <th>CLASSMEETINGPATTERNSOURCEKEY</th>\n",
       "      <th>CLASSSTARTTIME</th>\n",
       "      <th>CLASSENDTIME</th>\n",
       "      <th>CAMPUS</th>\n",
       "      <th>ACADEMICORG</th>\n",
       "    </tr>\n",
       "  </thead>\n",
       "  <tbody>\n",
       "    <tr>\n",
       "      <td>0</td>\n",
       "      <td>NaN</td>\n",
       "      <td>NaN</td>\n",
       "      <td>NaN</td>\n",
       "      <td>NaN</td>\n",
       "      <td>NaN</td>\n",
       "      <td>NaN</td>\n",
       "      <td>NaN</td>\n",
       "      <td>NaN</td>\n",
       "      <td>NaN</td>\n",
       "      <td>NaN</td>\n",
       "      <td>NaN</td>\n",
       "      <td>NaN</td>\n",
       "      <td>NaN</td>\n",
       "      <td>NaN</td>\n",
       "      <td>NaN</td>\n",
       "      <td>NaN</td>\n",
       "      <td>NaN</td>\n",
       "      <td>NaN</td>\n",
       "    </tr>\n",
       "    <tr>\n",
       "      <td>1</td>\n",
       "      <td>NaN</td>\n",
       "      <td>NaN</td>\n",
       "      <td>NaN</td>\n",
       "      <td>NaN</td>\n",
       "      <td>NaN</td>\n",
       "      <td>NaN</td>\n",
       "      <td>NaN</td>\n",
       "      <td>NaN</td>\n",
       "      <td>NaN</td>\n",
       "      <td>NaN</td>\n",
       "      <td>NaN</td>\n",
       "      <td>NaN</td>\n",
       "      <td>NaN</td>\n",
       "      <td>NaN</td>\n",
       "      <td>NaN</td>\n",
       "      <td>NaN</td>\n",
       "      <td>NaN</td>\n",
       "      <td>NaN</td>\n",
       "    </tr>\n",
       "    <tr>\n",
       "      <td>2</td>\n",
       "      <td>NaN</td>\n",
       "      <td>NaN</td>\n",
       "      <td>NaN</td>\n",
       "      <td>NaN</td>\n",
       "      <td>NaN</td>\n",
       "      <td>NaN</td>\n",
       "      <td>NaN</td>\n",
       "      <td>NaN</td>\n",
       "      <td>NaN</td>\n",
       "      <td>NaN</td>\n",
       "      <td>NaN</td>\n",
       "      <td>NaN</td>\n",
       "      <td>NaN</td>\n",
       "      <td>NaN</td>\n",
       "      <td>NaN</td>\n",
       "      <td>NaN</td>\n",
       "      <td>NaN</td>\n",
       "      <td>NaN</td>\n",
       "    </tr>\n",
       "    <tr>\n",
       "      <td>3</td>\n",
       "      <td>NaN</td>\n",
       "      <td>NaN</td>\n",
       "      <td>NaN</td>\n",
       "      <td>NaN</td>\n",
       "      <td>NaN</td>\n",
       "      <td>NaN</td>\n",
       "      <td>NaN</td>\n",
       "      <td>NaN</td>\n",
       "      <td>NaN</td>\n",
       "      <td>NaN</td>\n",
       "      <td>NaN</td>\n",
       "      <td>NaN</td>\n",
       "      <td>NaN</td>\n",
       "      <td>NaN</td>\n",
       "      <td>NaN</td>\n",
       "      <td>NaN</td>\n",
       "      <td>NaN</td>\n",
       "      <td>NaN</td>\n",
       "    </tr>\n",
       "    <tr>\n",
       "      <td>4</td>\n",
       "      <td>NaN</td>\n",
       "      <td>NaN</td>\n",
       "      <td>NaN</td>\n",
       "      <td>NaN</td>\n",
       "      <td>NaN</td>\n",
       "      <td>NaN</td>\n",
       "      <td>NaN</td>\n",
       "      <td>NaN</td>\n",
       "      <td>NaN</td>\n",
       "      <td>NaN</td>\n",
       "      <td>NaN</td>\n",
       "      <td>NaN</td>\n",
       "      <td>NaN</td>\n",
       "      <td>NaN</td>\n",
       "      <td>NaN</td>\n",
       "      <td>NaN</td>\n",
       "      <td>NaN</td>\n",
       "      <td>NaN</td>\n",
       "    </tr>\n",
       "    <tr>\n",
       "      <td>5</td>\n",
       "      <td>NaN</td>\n",
       "      <td>NaN</td>\n",
       "      <td>NaN</td>\n",
       "      <td>NaN</td>\n",
       "      <td>NaN</td>\n",
       "      <td>NaN</td>\n",
       "      <td>NaN</td>\n",
       "      <td>NaN</td>\n",
       "      <td>NaN</td>\n",
       "      <td>NaN</td>\n",
       "      <td>NaN</td>\n",
       "      <td>NaN</td>\n",
       "      <td>NaN</td>\n",
       "      <td>NaN</td>\n",
       "      <td>NaN</td>\n",
       "      <td>NaN</td>\n",
       "      <td>NaN</td>\n",
       "      <td>NaN</td>\n",
       "    </tr>\n",
       "    <tr>\n",
       "      <td>6</td>\n",
       "      <td>NaN</td>\n",
       "      <td>NaN</td>\n",
       "      <td>NaN</td>\n",
       "      <td>NaN</td>\n",
       "      <td>NaN</td>\n",
       "      <td>NaN</td>\n",
       "      <td>NaN</td>\n",
       "      <td>NaN</td>\n",
       "      <td>NaN</td>\n",
       "      <td>NaN</td>\n",
       "      <td>NaN</td>\n",
       "      <td>NaN</td>\n",
       "      <td>NaN</td>\n",
       "      <td>NaN</td>\n",
       "      <td>NaN</td>\n",
       "      <td>NaN</td>\n",
       "      <td>NaN</td>\n",
       "      <td>NaN</td>\n",
       "    </tr>\n",
       "    <tr>\n",
       "      <td>7</td>\n",
       "      <td>NaN</td>\n",
       "      <td>NaN</td>\n",
       "      <td>NaN</td>\n",
       "      <td>NaN</td>\n",
       "      <td>NaN</td>\n",
       "      <td>NaN</td>\n",
       "      <td>NaN</td>\n",
       "      <td>NaN</td>\n",
       "      <td>NaN</td>\n",
       "      <td>NaN</td>\n",
       "      <td>NaN</td>\n",
       "      <td>NaN</td>\n",
       "      <td>NaN</td>\n",
       "      <td>NaN</td>\n",
       "      <td>NaN</td>\n",
       "      <td>NaN</td>\n",
       "      <td>NaN</td>\n",
       "      <td>NaN</td>\n",
       "    </tr>\n",
       "    <tr>\n",
       "      <td>8</td>\n",
       "      <td>NaN</td>\n",
       "      <td>NaN</td>\n",
       "      <td>NaN</td>\n",
       "      <td>NaN</td>\n",
       "      <td>NaN</td>\n",
       "      <td>NaN</td>\n",
       "      <td>NaN</td>\n",
       "      <td>NaN</td>\n",
       "      <td>NaN</td>\n",
       "      <td>NaN</td>\n",
       "      <td>NaN</td>\n",
       "      <td>NaN</td>\n",
       "      <td>NaN</td>\n",
       "      <td>NaN</td>\n",
       "      <td>NaN</td>\n",
       "      <td>NaN</td>\n",
       "      <td>NaN</td>\n",
       "      <td>NaN</td>\n",
       "    </tr>\n",
       "  </tbody>\n",
       "</table>\n",
       "</div>"
      ],
      "text/plain": [
       "   TERMSOURCEKEY  TERM  CATALOGNUMBERSOURCEKEY  CLASSSECTION  \\\n",
       "0            NaN   NaN                     NaN           NaN   \n",
       "1            NaN   NaN                     NaN           NaN   \n",
       "2            NaN   NaN                     NaN           NaN   \n",
       "3            NaN   NaN                     NaN           NaN   \n",
       "4            NaN   NaN                     NaN           NaN   \n",
       "5            NaN   NaN                     NaN           NaN   \n",
       "6            NaN   NaN                     NaN           NaN   \n",
       "7            NaN   NaN                     NaN           NaN   \n",
       "8            NaN   NaN                     NaN           NaN   \n",
       "\n",
       "   FACULTYSOURCEKEY  COURSESOURCEKEY  COURSETYPESOURCEKEY  COURSEDESCRIPTION  \\\n",
       "0               NaN              NaN                  NaN                NaN   \n",
       "1               NaN              NaN                  NaN                NaN   \n",
       "2               NaN              NaN                  NaN                NaN   \n",
       "3               NaN              NaN                  NaN                NaN   \n",
       "4               NaN              NaN                  NaN                NaN   \n",
       "5               NaN              NaN                  NaN                NaN   \n",
       "6               NaN              NaN                  NaN                NaN   \n",
       "7               NaN              NaN                  NaN                NaN   \n",
       "8               NaN              NaN                  NaN                NaN   \n",
       "\n",
       "   ENROLLTOTAL  SECTIONCOUNT  SECTIONCAPACITY  ROOMCAPACITY  ROOM  \\\n",
       "0          NaN           NaN              NaN           NaN   NaN   \n",
       "1          NaN           NaN              NaN           NaN   NaN   \n",
       "2          NaN           NaN              NaN           NaN   NaN   \n",
       "3          NaN           NaN              NaN           NaN   NaN   \n",
       "4          NaN           NaN              NaN           NaN   NaN   \n",
       "5          NaN           NaN              NaN           NaN   NaN   \n",
       "6          NaN           NaN              NaN           NaN   NaN   \n",
       "7          NaN           NaN              NaN           NaN   NaN   \n",
       "8          NaN           NaN              NaN           NaN   NaN   \n",
       "\n",
       "   CLASSMEETINGPATTERNSOURCEKEY  CLASSSTARTTIME  CLASSENDTIME  CAMPUS  \\\n",
       "0                           NaN             NaN           NaN     NaN   \n",
       "1                           NaN             NaN           NaN     NaN   \n",
       "2                           NaN             NaN           NaN     NaN   \n",
       "3                           NaN             NaN           NaN     NaN   \n",
       "4                           NaN             NaN           NaN     NaN   \n",
       "5                           NaN             NaN           NaN     NaN   \n",
       "6                           NaN             NaN           NaN     NaN   \n",
       "7                           NaN             NaN           NaN     NaN   \n",
       "8                           NaN             NaN           NaN     NaN   \n",
       "\n",
       "   ACADEMICORG  \n",
       "0          NaN  \n",
       "1          NaN  \n",
       "2          NaN  \n",
       "3          NaN  \n",
       "4          NaN  \n",
       "5          NaN  \n",
       "6          NaN  \n",
       "7          NaN  \n",
       "8          NaN  "
      ]
     },
     "execution_count": 199,
     "metadata": {},
     "output_type": "execute_result"
    }
   ],
   "source": [
    "df = pd.DataFrame(t, columns=col)\n",
    "df"
   ]
  },
  {
   "cell_type": "code",
   "execution_count": 180,
   "metadata": {},
   "outputs": [
    {
     "name": "stdout",
     "output_type": "stream",
     "text": [
      "Downloaded f19_reviewer.xlsx\n",
      "Downloaded f19_movie.xlsx\n",
      "Downloaded f19_rating.xlsx\n"
     ]
    }
   ],
   "source": [
    "sheets = {\n",
    "'f19_reviewer.xlsx':'1KJpIeML2f2t6UxxGFzOTOQPM0xtyUgJVVBrW3I9nyjU', # except change first Z to K\n",
    "'f19_movie.xlsx'   :'1rrAUcQxNTGcwZTnUEI5kZJvDGjLE7V1LvB5Rey5rY1w', # except change first Z to r\n",
    "'f19_rating.xlsx'  :'108q2iAlSiq8AQUJCOVa5uj8lkjIpBIPLIr83C41amYw'} # except change first Z to q\n",
    "\n",
    "import requests\n",
    "for sheet in sheets:\n",
    "                 url = 'https://docs.google.com/spreadsheets/d/' + sheets[sheet] + '/export?format=xlsx'\n",
    "                 r = requests.get(url)\n",
    "                 with open(sheet,'wb') as f:\n",
    "                         f.write(r.content)\n",
    "                 print('Downloaded '+sheet)"
   ]
  },
  {
   "cell_type": "code",
   "execution_count": 181,
   "metadata": {},
   "outputs": [
    {
     "data": {
      "text/html": [
       "<div>\n",
       "<style scoped>\n",
       "    .dataframe tbody tr th:only-of-type {\n",
       "        vertical-align: middle;\n",
       "    }\n",
       "\n",
       "    .dataframe tbody tr th {\n",
       "        vertical-align: top;\n",
       "    }\n",
       "\n",
       "    .dataframe thead th {\n",
       "        text-align: right;\n",
       "    }\n",
       "</style>\n",
       "<table border=\"1\" class=\"dataframe\">\n",
       "  <thead>\n",
       "    <tr style=\"text-align: right;\">\n",
       "      <th></th>\n",
       "      <th>movie_id</th>\n",
       "      <th>year</th>\n",
       "      <th>title</th>\n",
       "      <th>director</th>\n",
       "    </tr>\n",
       "  </thead>\n",
       "  <tbody>\n",
       "    <tr>\n",
       "      <td>0</td>\n",
       "      <td>100.0</td>\n",
       "      <td>2014.0</td>\n",
       "      <td>Birdman</td>\n",
       "      <td>Alejandro G. Iñárritu</td>\n",
       "    </tr>\n",
       "    <tr>\n",
       "      <td>1</td>\n",
       "      <td>101.0</td>\n",
       "      <td>2004.0</td>\n",
       "      <td>The Incredibles</td>\n",
       "      <td>Brad Bird</td>\n",
       "    </tr>\n",
       "    <tr>\n",
       "      <td>2</td>\n",
       "      <td>102.0</td>\n",
       "      <td>2009.0</td>\n",
       "      <td>City Hall</td>\n",
       "      <td>Shin Woo-chul</td>\n",
       "    </tr>\n",
       "    <tr>\n",
       "      <td>3</td>\n",
       "      <td>103.0</td>\n",
       "      <td>1999.0</td>\n",
       "      <td>Topsy Turvy</td>\n",
       "      <td>Mike Leigh</td>\n",
       "    </tr>\n",
       "    <tr>\n",
       "      <td>4</td>\n",
       "      <td>104.0</td>\n",
       "      <td>2018.0</td>\n",
       "      <td>Avengers: EndGame</td>\n",
       "      <td>Anthony RUsso</td>\n",
       "    </tr>\n",
       "  </tbody>\n",
       "</table>\n",
       "</div>"
      ],
      "text/plain": [
       "   movie_id    year              title               director\n",
       "0     100.0  2014.0            Birdman  Alejandro G. Iñárritu\n",
       "1     101.0  2004.0    The Incredibles              Brad Bird\n",
       "2     102.0  2009.0          City Hall          Shin Woo-chul\n",
       "3     103.0  1999.0        Topsy Turvy             Mike Leigh\n",
       "4     104.0  2018.0  Avengers: EndGame          Anthony RUsso"
      ]
     },
     "execution_count": 181,
     "metadata": {},
     "output_type": "execute_result"
    }
   ],
   "source": [
    "movie = pd.read_excel('f19_movie.xlsx')\n",
    "movie.head()"
   ]
  },
  {
   "cell_type": "code",
   "execution_count": 182,
   "metadata": {},
   "outputs": [
    {
     "data": {
      "text/plain": [
       "Deadpool                        1\n",
       "Invictus                        1\n",
       "Mission Impossible - Fallout    1\n",
       "Guardians of the Galaxy         1\n",
       "The Thing                       1\n",
       "                               ..\n",
       "My people, my country           1\n",
       "The Double Life of Veronique    1\n",
       "Jarhead                         1\n",
       "A beautiful mind                1\n",
       "Never look away                 1\n",
       "Name: title, Length: 112, dtype: int64"
      ]
     },
     "execution_count": 182,
     "metadata": {},
     "output_type": "execute_result"
    }
   ],
   "source": [
    "movie['title'].value_counts()"
   ]
  },
  {
   "cell_type": "code",
   "execution_count": null,
   "metadata": {},
   "outputs": [],
   "source": []
  }
 ],
 "metadata": {
  "kernelspec": {
   "display_name": "Python 3",
   "language": "python",
   "name": "python3"
  },
  "language_info": {
   "codemirror_mode": {
    "name": "ipython",
    "version": 3
   },
   "file_extension": ".py",
   "mimetype": "text/x-python",
   "name": "python",
   "nbconvert_exporter": "python",
   "pygments_lexer": "ipython3",
   "version": "3.6.9"
  }
 },
 "nbformat": 4,
 "nbformat_minor": 2
}
