{
 "cells": [
  {
   "cell_type": "markdown",
   "metadata": {},
   "source": [
    "# Report 3"
   ]
  },
  {
   "cell_type": "markdown",
   "metadata": {},
   "source": [
    "## Introduction"
   ]
  },
  {
   "cell_type": "markdown",
   "metadata": {},
   "source": [
    "The Japanese Automaker Toyota has been the highest selling automaker in the United States since 2012.[3] As a driver of a Toyota Highlander, I decided to compare the safety of my car to the other vehicles produced by Toyota. Safety rating is a rather important factor for many car buyers in determining whether to buy a vehicle or not. The safety rating cannot be obtained through this dataset, but a fair means of rating the safety can be obtained. This is achieved through determining how many vehicle complaints are car accident related and how many vehicles of that model were sold, which can give us a ratio for how many sold vehicles were in a car accident, with regards to the complaints. I also attempt to establish a correlation for a vehicles propensity to get into car accidents.\n",
    "\n",
    "Along with that topic, I decided to take a deeper dive into the Toyota Highlander to better understand what makes Haley the Highlander, my Highlander, tick-tock. I attribute it's car accidents to weak breaking systems, but this study shall reveal some more findings."
   ]
  },
  {
   "cell_type": "markdown",
   "metadata": {},
   "source": [
    "## Code"
   ]
  },
  {
   "cell_type": "markdown",
   "metadata": {},
   "source": [
    "Here I import my first packages and create a dictionary to use for storing the information from the complaint system."
   ]
  },
  {
   "cell_type": "code",
   "execution_count": 239,
   "metadata": {
    "scrolled": true
   },
   "outputs": [
    {
     "name": "stdout",
     "output_type": "stream",
     "text": [
      "2018\r"
     ]
    }
   ],
   "source": [
    "import requests\n",
    "import json\n",
    "url0 = 'http://www.nhtsa.gov/webapi/api/Complaints/vehicle/modelyear/{}/make/{}/model/{}?format=json'\n",
    "\n",
    "make = 'Toyota'\n",
    "models = sorted(['Highlander', 'Avalon', 'Camry', 'Corolla', 'Prius', 'Yaris', \n",
    "                'RAV4', 'Sienna', '4Runner', 'Sequoia', 'Land Cruiser', 'Tacoma', 'Tundra'])\n",
    "\n",
    "d = dict()\n",
    "for model in models:\n",
    "    d[model] = {}\n",
    "    for year in range(2000,2019):\n",
    "            url = url0.format(year,make,model)\n",
    "            print(str(year)+'\\r',end='')\n",
    "            s = requests.get(url).text  # a JSON string\n",
    "            complaints = json.loads(s)\n",
    "            d[model]['crashes'] = [complaints['Results'][x]['Crash'] for x in range(len(complaints['Results']))]\n",
    "            d[model][year] = complaints['Count']"
   ]
  },
  {
   "cell_type": "markdown",
   "metadata": {},
   "source": [
    "I decided to write an enumerator to make it easier to count how many complaints came from crash related complaints. Upon further inspection, I may not need to import enum."
   ]
  },
  {
   "cell_type": "code",
   "execution_count": 240,
   "metadata": {},
   "outputs": [],
   "source": [
    "#from enum import Enum\n",
    "\n",
    "def YN(Enum):\n",
    "    if Enum == 'Yes':\n",
    "        return 1\n",
    "    else: return 0"
   ]
  },
  {
   "cell_type": "markdown",
   "metadata": {},
   "source": [
    "Now I utilize the method to enumerate the crash complaints and summate the complaints to find the total number of crash related complaints."
   ]
  },
  {
   "cell_type": "code",
   "execution_count": 241,
   "metadata": {},
   "outputs": [],
   "source": [
    "for model in models:\n",
    "    for crash in range(len(d[model]['crashes'])):\n",
    "        d[model]['crashes'][crash] = YN(d[model]['crashes'][crash])\n",
    "    d[model]['crashes'] = sum(d[model]['crashes'])"
   ]
  },
  {
   "cell_type": "markdown",
   "metadata": {},
   "source": [
    "The list of cars was retrieved from best-selling-cars.com.[2] I only used the cars that returned more than 100 complaints"
   ]
  },
  {
   "cell_type": "markdown",
   "metadata": {},
   "source": [
    "I decided to create a dictionary to hold the total number of complaints for each vehicle."
   ]
  },
  {
   "cell_type": "code",
   "execution_count": 243,
   "metadata": {},
   "outputs": [
    {
     "name": "stdout",
     "output_type": "stream",
     "text": [
      "{'Land Cruiser': 106, 'Yaris': 709, 'Avalon': 2473, 'Sequoia': 2767, '4Runner': 2840, 'Highlander': 2922, 'Tundra': 4427, 'RAV4': 5341, 'Tacoma': 5391, 'Sienna': 7258, 'Corolla': 8526, 'Prius': 10582, 'Camry': 11102}\n"
     ]
    }
   ],
   "source": [
    "total_complaints = {}\n",
    "\n",
    "for model in d:\n",
    "    total_complaints[model] = sum(list(d[model].values()))\n",
    "    \n",
    "total_complaints = dict(sorted( total_complaints.items(), key = lambda dict: dict[1] ))\n",
    "print(total_complaints)"
   ]
  },
  {
   "cell_type": "markdown",
   "metadata": {},
   "source": [
    "In descending order, Toyota's top selling vehicles in 2018 were the RAV4, Camry, Corolla, Tacoma, Highlander, Tundra, Sienna, Prius, 4Runner, Yaris, Sequoia, Avalon, and Land Cruiser. It shows that there may be no direct correlation as to whether the popularity of a vehicle has to do with the customer satisfaction, but it also shows that the more vehicles that are sold, the more complaints there will be."
   ]
  },
  {
   "cell_type": "code",
   "execution_count": 244,
   "metadata": {},
   "outputs": [],
   "source": [
    "import altair as alt\n",
    "alt.renderers.enable('notebook')\n",
    "import pandas as pd"
   ]
  },
  {
   "cell_type": "markdown",
   "metadata": {},
   "source": [
    "After importing altair and pandas, I can use these two libraries to plot bar charts. These depict the number of complaints per vehicle."
   ]
  },
  {
   "cell_type": "code",
   "execution_count": 245,
   "metadata": {
    "scrolled": true
   },
   "outputs": [
    {
     "data": {
      "application/javascript": [
       "const spec = {\"config\": {\"view\": {\"width\": 400, \"height\": 300}, \"mark\": {\"tooltip\": null}}, \"data\": {\"name\": \"data-7edaa09cfc8004fdae50b98a7e43335d\"}, \"mark\": \"bar\", \"encoding\": {\"x\": {\"type\": \"ordinal\", \"field\": \"model\"}, \"y\": {\"type\": \"quantitative\", \"field\": \"complaints\"}}, \"$schema\": \"https://vega.github.io/schema/vega-lite/v3.4.0.json\", \"datasets\": {\"data-7edaa09cfc8004fdae50b98a7e43335d\": [{\"model\": \"Land Cruiser\", \"complaints\": 106}, {\"model\": \"Yaris\", \"complaints\": 709}, {\"model\": \"Avalon\", \"complaints\": 2473}, {\"model\": \"Sequoia\", \"complaints\": 2767}, {\"model\": \"4Runner\", \"complaints\": 2840}, {\"model\": \"Highlander\", \"complaints\": 2922}, {\"model\": \"Tundra\", \"complaints\": 4427}, {\"model\": \"RAV4\", \"complaints\": 5341}, {\"model\": \"Tacoma\", \"complaints\": 5391}, {\"model\": \"Sienna\", \"complaints\": 7258}, {\"model\": \"Corolla\", \"complaints\": 8526}, {\"model\": \"Prius\", \"complaints\": 10582}, {\"model\": \"Camry\", \"complaints\": 11102}]}};\n",
       "const opt = {};\n",
       "const type = \"vega-lite\";\n",
       "const id = \"8a2fe8a8-753b-4455-a45c-6e62a0c08cc8\";\n",
       "\n",
       "const output_area = this;\n",
       "\n",
       "require([\"nbextensions/jupyter-vega/index\"], function(vega) {\n",
       "  const target = document.createElement(\"div\");\n",
       "  target.id = id;\n",
       "  target.className = \"vega-embed\";\n",
       "\n",
       "  const style = document.createElement(\"style\");\n",
       "  style.textContent = [\n",
       "    \".vega-embed .error p {\",\n",
       "    \"  color: firebrick;\",\n",
       "    \"  font-size: 14px;\",\n",
       "    \"}\",\n",
       "  ].join(\"\\\\n\");\n",
       "\n",
       "  // element is a jQuery wrapped DOM element inside the output area\n",
       "  // see http://ipython.readthedocs.io/en/stable/api/generated/\\\n",
       "  // IPython.display.html#IPython.display.Javascript.__init__\n",
       "  element[0].appendChild(target);\n",
       "  element[0].appendChild(style);\n",
       "\n",
       "  vega.render(\"#\" + id, spec, type, opt, output_area);\n",
       "}, function (err) {\n",
       "  if (err.requireType !== \"scripterror\") {\n",
       "    throw(err);\n",
       "  }\n",
       "});\n"
      ],
      "text/plain": [
       "<vega.vegalite.VegaLite at 0x10f7ae400>"
      ]
     },
     "metadata": {
      "jupyter-vega": "#8a2fe8a8-753b-4455-a45c-6e62a0c08cc8"
     },
     "output_type": "display_data"
    },
    {
     "data": {
      "text/plain": []
     },
     "execution_count": 245,
     "metadata": {},
     "output_type": "execute_result"
    },
    {
     "data": {
      "image/png": "[encoded data removed]"
     },
     "metadata": {
      "jupyter-vega": "#8a2fe8a8-753b-4455-a45c-6e62a0c08cc8"
     },
     "output_type": "display_data"
    }
   ],
   "source": [
    "car_complaints = pd.DataFrame.from_dict({'model': list(total_complaints.keys()), 'complaints': list(total_complaints.values())})\n",
    "alt.Chart(car_complaints).mark_bar().encode( x='model:O', y='complaints' )"
   ]
  },
  {
   "cell_type": "markdown",
   "metadata": {},
   "source": [
    "The chart above shows that the more popular cars tended to have more complaints. This does not imply that less popular cars have less problems or that more popular cars will have more problems. For instance, the Highlander has less complaints than the Tundra but likewise had more units sold. We can also see that the Sienna has a siginificantly higher proportionality of complaints even though less units have been sold over time. "
   ]
  },
  {
   "cell_type": "code",
   "execution_count": 235,
   "metadata": {},
   "outputs": [],
   "source": [
    "for model in models:\n",
    "    d[model]['percentage of complaints from crashes'] = d[model]['crashes'] / total_complaints[model] * 100"
   ]
  },
  {
   "cell_type": "markdown",
   "metadata": {},
   "source": [
    "Another use for the bar chart is to show the percentage of complaints that stemmed from crashes for each vehicle."
   ]
  },
  {
   "cell_type": "code",
   "execution_count": 236,
   "metadata": {},
   "outputs": [
    {
     "data": {
      "application/javascript": [
       "const spec = {\"config\": {\"view\": {\"width\": 400, \"height\": 300}, \"mark\": {\"tooltip\": null}}, \"data\": {\"name\": \"data-d1779ab367401b007fe53099e0f39405\"}, \"mark\": \"bar\", \"encoding\": {\"x\": {\"type\": \"ordinal\", \"field\": \"models\"}, \"y\": {\"type\": \"quantitative\", \"field\": \"percentage of complaints from crashes\"}}, \"$schema\": \"https://vega.github.io/schema/vega-lite/v3.4.0.json\", \"datasets\": {\"data-d1779ab367401b007fe53099e0f39405\": [{\"models\": \"4Runner\", \"percentage of complaints from crashes\": 0.10563380281690139}, {\"models\": \"Avalon\", \"percentage of complaints from crashes\": 0.1213101496158512}, {\"models\": \"Camry\", \"percentage of complaints from crashes\": 0.09007386056566384}, {\"models\": \"Corolla\", \"percentage of complaints from crashes\": 0.11728829462819611}, {\"models\": \"Highlander\", \"percentage of complaints from crashes\": 0.17111567419575632}, {\"models\": \"Land Cruiser\", \"percentage of complaints from crashes\": 0.9433962264150944}, {\"models\": \"Prius\", \"percentage of complaints from crashes\": 0.00945000945000945}, {\"models\": \"RAV4\", \"percentage of complaints from crashes\": 0.07489234225800412}, {\"models\": \"Sequoia\", \"percentage of complaints from crashes\": 0.0}, {\"models\": \"Sienna\", \"percentage of complaints from crashes\": 0.013777900248002206}, {\"models\": \"Tacoma\", \"percentage of complaints from crashes\": 0.03709886848451122}, {\"models\": \"Tundra\", \"percentage of complaints from crashes\": 0.0451773209848656}, {\"models\": \"Yaris\", \"percentage of complaints from crashes\": 0.2820874471086037}]}};\n",
       "const opt = {};\n",
       "const type = \"vega-lite\";\n",
       "const id = \"c4b406d3-ae59-4ee9-8156-92b30ce50906\";\n",
       "\n",
       "const output_area = this;\n",
       "\n",
       "require([\"nbextensions/jupyter-vega/index\"], function(vega) {\n",
       "  const target = document.createElement(\"div\");\n",
       "  target.id = id;\n",
       "  target.className = \"vega-embed\";\n",
       "\n",
       "  const style = document.createElement(\"style\");\n",
       "  style.textContent = [\n",
       "    \".vega-embed .error p {\",\n",
       "    \"  color: firebrick;\",\n",
       "    \"  font-size: 14px;\",\n",
       "    \"}\",\n",
       "  ].join(\"\\\\n\");\n",
       "\n",
       "  // element is a jQuery wrapped DOM element inside the output area\n",
       "  // see http://ipython.readthedocs.io/en/stable/api/generated/\\\n",
       "  // IPython.display.html#IPython.display.Javascript.__init__\n",
       "  element[0].appendChild(target);\n",
       "  element[0].appendChild(style);\n",
       "\n",
       "  vega.render(\"#\" + id, spec, type, opt, output_area);\n",
       "}, function (err) {\n",
       "  if (err.requireType !== \"scripterror\") {\n",
       "    throw(err);\n",
       "  }\n",
       "});\n"
      ],
      "text/plain": [
       "<vega.vegalite.VegaLite at 0x10f7c3208>"
      ]
     },
     "metadata": {
      "jupyter-vega": "#c4b406d3-ae59-4ee9-8156-92b30ce50906"
     },
     "output_type": "display_data"
    },
    {
     "data": {
      "text/plain": []
     },
     "execution_count": 236,
     "metadata": {},
     "output_type": "execute_result"
    },
    {
     "data": {
      "image/png": "[encoded data removed]"
     },
     "metadata": {
      "jupyter-vega": "#c4b406d3-ae59-4ee9-8156-92b30ce50906"
     },
     "output_type": "display_data"
    }
   ],
   "source": [
    "df2 = pd.DataFrame.from_dict({'models' : list(d.keys()),\n",
    "                             'percentage of complaints from crashes' : list(d[model]['percentage of complaints from crashes'] for model in models)})\n",
    "alt.Chart(df2).mark_bar().encode( x='models:O', y='percentage of complaints from crashes' )"
   ]
  },
  {
   "cell_type": "markdown",
   "metadata": {},
   "source": [
    "The Land Cruiser seems to have a higher percentage of crash related complaints to total complaints due to the fact that there was a relatively low number of complaints (106) and only one car crash. There seems to be no correlation between size of car and propensity to have a crash complaint aside from trucks having a very low propensities for crashing."
   ]
  },
  {
   "cell_type": "markdown",
   "metadata": {},
   "source": [
    "Additionally, I decided to check the statistics on my own car, a 2008 Toyota Highlander, due to the fact that it seemed to have a higher propensity for crashes when compared to other large vehicles. Personally, I believe this to be due to the fact that it is a sports SUV. I created a bar chart to exhibit the number of crash related complaints over the years."
   ]
  },
  {
   "cell_type": "code",
   "execution_count": 230,
   "metadata": {},
   "outputs": [
    {
     "data": {
      "application/javascript": [
       "const spec = {\"config\": {\"view\": {\"width\": 400, \"height\": 300}, \"mark\": {\"tooltip\": null}}, \"data\": {\"name\": \"data-2e53e5e745995488ac496f8f076f9822\"}, \"mark\": \"bar\", \"encoding\": {\"x\": {\"type\": \"ordinal\", \"field\": \"model year\"}, \"y\": {\"type\": \"quantitative\", \"field\": \"number of complaints\"}}, \"$schema\": \"https://vega.github.io/schema/vega-lite/v3.4.0.json\", \"datasets\": {\"data-2e53e5e745995488ac496f8f076f9822\": [{\"model year\": 2000, \"number of complaints\": 0}, {\"model year\": 2001, \"number of complaints\": 137}, {\"model year\": 2002, \"number of complaints\": 301}, {\"model year\": 2003, \"number of complaints\": 253}, {\"model year\": 2004, \"number of complaints\": 280}, {\"model year\": 2005, \"number of complaints\": 214}, {\"model year\": 2006, \"number of complaints\": 210}, {\"model year\": 2007, \"number of complaints\": 92}, {\"model year\": 2008, \"number of complaints\": 313}, {\"model year\": 2009, \"number of complaints\": 105}, {\"model year\": 2010, \"number of complaints\": 175}, {\"model year\": 2011, \"number of complaints\": 145}, {\"model year\": 2012, \"number of complaints\": 133}, {\"model year\": 2013, \"number of complaints\": 160}, {\"model year\": 2014, \"number of complaints\": 90}, {\"model year\": 2015, \"number of complaints\": 116}, {\"model year\": 2016, \"number of complaints\": 65}, {\"model year\": 2017, \"number of complaints\": 76}, {\"model year\": 2018, \"number of complaints\": 52}]}};\n",
       "const opt = {};\n",
       "const type = \"vega-lite\";\n",
       "const id = \"e2124e3e-8244-46f6-8dad-0b61c49100eb\";\n",
       "\n",
       "const output_area = this;\n",
       "\n",
       "require([\"nbextensions/jupyter-vega/index\"], function(vega) {\n",
       "  const target = document.createElement(\"div\");\n",
       "  target.id = id;\n",
       "  target.className = \"vega-embed\";\n",
       "\n",
       "  const style = document.createElement(\"style\");\n",
       "  style.textContent = [\n",
       "    \".vega-embed .error p {\",\n",
       "    \"  color: firebrick;\",\n",
       "    \"  font-size: 14px;\",\n",
       "    \"}\",\n",
       "  ].join(\"\\\\n\");\n",
       "\n",
       "  // element is a jQuery wrapped DOM element inside the output area\n",
       "  // see http://ipython.readthedocs.io/en/stable/api/generated/\\\n",
       "  // IPython.display.html#IPython.display.Javascript.__init__\n",
       "  element[0].appendChild(target);\n",
       "  element[0].appendChild(style);\n",
       "\n",
       "  vega.render(\"#\" + id, spec, type, opt, output_area);\n",
       "}, function (err) {\n",
       "  if (err.requireType !== \"scripterror\") {\n",
       "    throw(err);\n",
       "  }\n",
       "});\n"
      ],
      "text/plain": [
       "<vega.vegalite.VegaLite at 0x10f7ae2b0>"
      ]
     },
     "metadata": {
      "jupyter-vega": "#e2124e3e-8244-46f6-8dad-0b61c49100eb"
     },
     "output_type": "display_data"
    },
    {
     "data": {
      "text/plain": []
     },
     "execution_count": 230,
     "metadata": {},
     "output_type": "execute_result"
    },
    {
     "data": {
      "image/png": "[encoded data removed]"
     },
     "metadata": {
      "jupyter-vega": "#e2124e3e-8244-46f6-8dad-0b61c49100eb"
     },
     "output_type": "display_data"
    }
   ],
   "source": [
    "df = pd.DataFrame.from_dict(\n",
    "    {'model year': list(d['Highlander'].keys())[1:-1],\n",
    "     'number of complaints': (list(d['Highlander'].values())[1:-1])}\n",
    ")\n",
    "alt.Chart(df).mark_bar().encode( x='model year:O', y='number of complaints')"
   ]
  },
  {
   "cell_type": "markdown",
   "metadata": {},
   "source": [
    "It's not a welcoming sign when you see that your car model has the most crash related complaints compared to the rest of it's years. I believe that there were spikes in 2002 and 2008 due to the fact that these were the years after the Highlander was updated ( new versions were released ).[1] Being that those are the years after new models are released, there was enough time for the cars to gain more popularity amongst consumers. This may also explain the decline in complaints post-spikes."
   ]
  },
  {
   "cell_type": "code",
   "execution_count": 231,
   "metadata": {},
   "outputs": [],
   "source": [
    "sales = [86699,113134,120174,133077,137409,129794,127878,104661,83118,\n",
    "         92121,101252,121054,127572,146127,158915,191379,215775,244511]"
   ]
  },
  {
   "cell_type": "code",
   "execution_count": null,
   "metadata": {},
   "outputs": [],
   "source": [
    "My last step was to calculate the total number of sales for the Highlander and decide how muh"
   ]
  },
  {
   "cell_type": "code",
   "execution_count": 232,
   "metadata": {},
   "outputs": [],
   "source": [
    "yearly_sales = {}\n",
    "for o in range(0,10):\n",
    "    yearly_sales['200'+ str(o)] = sales[o]\n",
    "for o in range(10,18):\n",
    "    yearly_sales['20'+ str(o)] = sales[o]"
   ]
  },
  {
   "cell_type": "code",
   "execution_count": 233,
   "metadata": {},
   "outputs": [],
   "source": [
    "crashes_to_sales = count/sum(yearly_sales.values())"
   ]
  },
  {
   "cell_type": "code",
   "execution_count": 234,
   "metadata": {},
   "outputs": [
    {
     "data": {
      "text/plain": [
       "8.214733123857639e-07"
      ]
     },
     "execution_count": 234,
     "metadata": {},
     "output_type": "execute_result"
    }
   ],
   "source": [
    "crashes_to_sales"
   ]
  },
  {
   "cell_type": "markdown",
   "metadata": {},
   "source": [
    "so approximately .00000082147 percent of sales resulted to crash related complaints, if we use strictly complaints to measure and not reports."
   ]
  },
  {
   "cell_type": "markdown",
   "metadata": {},
   "source": [
    "# Conclusion"
   ]
  },
  {
   "cell_type": "markdown",
   "metadata": {},
   "source": [
    "This study has revealed a method through which one may measure the consumer happiness with their automobiles. This is by using the number of complaints written compared to the number of units sold. Although this is not the final solution, it certainly offers a possible way to measure consumer happiness. The smaller the ratio of complaints to units sold, the more likely Toyota will be to have more happy drivers.\n",
    "\n",
    "It's become apparent to me, due to the consistency of tables, that the safest vehicles tend to be the slower vehicles. Trucks such as the Tacoma, Tundra, and Sequoia tend to have much lower propensities for car crash related incidents as opposed to Camrys and Corollas, which are sedans. As a scholar who has taken two physics classes (*shocked emoji face*), I believe this to be due to the fact that the trucks can handle more force from the impact. So as weight goes to infinity, car crash complaints tend towards 0.\n",
    "\n",
    "As far as the Toyota Highlander is concerned, I found that there is a relatively small number of vehicles that have as many complaints related to car accidents, proportionally, as the Highlander. I feel that this may be one reason for the increase of popularity in the model. In terms of safety, it seems to be one of the safer vehicles to drive, however, when compared to the other vehicles close to it's size, the Highlander is less durable. I found that there was an increase in complaints the year after a new model was released. I gather that this may be due to the fact that the vehicle has not had ample road time and testing. Perhaps this is due to the fact that the release was rushed. Finally, according to the tables, the Highlander may be the least prepared motor vehicle for car accidents, after the Yaris. This conclusion may be derived from the fact that the ratio for car crash related complaints to total complaints was larger than the ratios for the other vehicles aside from the Yaris and Land Cruiser. However, I label the Land Cruiser as an outlier due to the fact that there is such a small number of complaints for it. There was still a rather minute percent of vehicles that had led to crash related complaints in regards to the Highlander. \n",
    "\n",
    "Toyota has been growing as a company and I feel that it's customer satisfaction and strong desire for safety are the factors driving its growth."
   ]
  },
  {
   "cell_type": "markdown",
   "metadata": {},
   "source": [
    "# References"
   ]
  },
  {
   "cell_type": "markdown",
   "metadata": {},
   "source": [
    "[1] <i> Toyota Highlander US car sales </i>. http://carsalesbase.com/us-car-sales-data/toyota/toyota-highlander/. Accessed October 10, 2019."
   ]
  },
  {
   "cell_type": "markdown",
   "metadata": {},
   "source": [
    "[2] <i>Toyota North America and Lexus Sales</i>. Henk Bekker. January 5, 2019. \n",
    "https://www.best-selling-cars.com/brands/2018-full-year-usa-toyota-north-america-and-lexus-sales/. Accessed October 10, 2019."
   ]
  },
  {
   "cell_type": "markdown",
   "metadata": {},
   "source": [
    "[3] <i> List of Manufacturers by Motor Vehicle Production. </i> https://en.wikipedia.org/wiki/List_of_manufacturers_by_motor_vehicle_production#2017. Accessed October 11, 2019."
   ]
  }
 ],
 "metadata": {
  "kernelspec": {
   "display_name": "Python 3",
   "language": "python",
   "name": "python3"
  },
  "language_info": {
   "codemirror_mode": {
    "name": "ipython",
    "version": 3
   },
   "file_extension": ".py",
   "mimetype": "text/x-python",
   "name": "python",
   "nbconvert_exporter": "python",
   "pygments_lexer": "ipython3",
   "version": "3.6.9"
  }
 },
 "nbformat": 4,
 "nbformat_minor": 2
}
