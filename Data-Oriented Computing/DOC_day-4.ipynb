{
 "cells": [
  {
   "cell_type": "code",
   "execution_count": 11,
   "metadata": {},
   "outputs": [],
   "source": [
    "import numpy as np"
   ]
  },
  {
   "cell_type": "code",
   "execution_count": 28,
   "metadata": {},
   "outputs": [],
   "source": [
    "def softmax(S):\n",
    "    expS = np.exp(S)\n",
    "    return expS/expS.sum(axis=0)"
   ]
  },
  {
   "cell_type": "code",
   "execution_count": 140,
   "metadata": {},
   "outputs": [],
   "source": [
    "def loss(WT, X, y):\n",
    "    \n",
    "    # forward pass for the loss itself\n",
    "\n",
    "    S = WT @ X\n",
    "    P = softmax(S)\n",
    "    ypredicted = np.argmax(P,axis=0)\n",
    "    Py = P[ y , np.arange(n) ] # need the yith row of each column i of P\n",
    "    l = -np.log(Py)\n",
    "    L = l.sum()\n",
    "\n",
    "    # back-propagation of the gradient\n",
    "    \n",
    "    dLdl = np.ones_like( l )\n",
    "\n",
    "    dLdP = np.zeros_like( P )\n",
    "    dLdP[ y , np.arange(n) ] = -1/Py\n",
    "\n",
    "    dLdS = np.zeros_like( S )\n",
    "    for k in range( c ):\n",
    "        dLdS += dLdP[k]*(-P[k]*P)\n",
    "    dLdS += dLdP*P\n",
    "\n",
    "    dLdWT = dLdS @ X.T\n",
    "    \n",
    "    return L, dLdWT, ypredicted  # loss itself and its gradient"
   ]
  },
  {
   "cell_type": "code",
   "execution_count": 47,
   "metadata": {},
   "outputs": [],
   "source": [
    "from PIL import Image\n",
    "import glob"
   ]
  },
  {
   "cell_type": "code",
   "execution_count": 48,
   "metadata": {},
   "outputs": [],
   "source": [
    "def charclass(png):     # extract character class name from file name\n",
    "        return png.split('__')[1][:-4]"
   ]
  },
  {
   "cell_type": "code",
   "execution_count": 49,
   "metadata": {},
   "outputs": [],
   "source": []
  },
  {
   "cell_type": "code",
   "execution_count": 127,
   "metadata": {},
   "outputs": [],
   "source": [
    "from os.path import join\n",
    "def loadimages(folder):\n",
    "    pngs = sorted( glob.glob(join(folder, '*.png') ) )\n",
    "    h,w = np.array(Image.open(pngs[0]))[:,:,0].shape #125,100\n",
    "    selection = sorted( {charclass(png) for png in pngs} )\n",
    "\n",
    "    # Load flattened images as columns of big array X\n",
    "    X = np.empty((h*w,len(pngs)))\n",
    "    for i,png in enumerate(pngs):\n",
    "        X[:,i] = 255 - np.array(Image.open(png))[:,:,0].reshape(h*w)\n",
    "    X /= X.sum()  # to avoid having huge numbers in our network\n",
    "\n",
    "    # Get the true class numbers of all the images\n",
    "    y = [selection.index(charclass(png)) for png in pngs]  # true classes of images\n",
    "    return X,y, (h,w)"
   ]
  },
  {
   "cell_type": "code",
   "execution_count": 128,
   "metadata": {},
   "outputs": [],
   "source": [
    "n = len(pngs)\n",
    "c = len(selection)\n",
    "hw = h*w"
   ]
  },
  {
   "cell_type": "code",
   "execution_count": 134,
   "metadata": {},
   "outputs": [],
   "source": [
    "Xtrain,ytrain,(_,_) = loadimages('pngs')\n",
    "Xtest,ytest,(_,_) = loadimages('testpngs')"
   ]
  },
  {
   "cell_type": "code",
   "execution_count": 144,
   "metadata": {
    "scrolled": true
   },
   "outputs": [
    {
     "name": "stderr",
     "output_type": "stream",
     "text": [
      "/Users/austinmccarson/anaconda3/lib/python3.6/site-packages/ipykernel_launcher.py:28: DeprecationWarning: elementwise comparison failed; this will raise an error in the future.\n"
     ]
    },
    {
     "ename": "AttributeError",
     "evalue": "'bool' object has no attribute 'sum'",
     "output_type": "error",
     "traceback": [
      "\u001b[0;31m---------------------------------------------------------------------------\u001b[0m",
      "\u001b[0;31mAttributeError\u001b[0m                            Traceback (most recent call last)",
      "\u001b[0;32m<ipython-input-144-1007ba91a76b>\u001b[0m in \u001b[0;36m<module>\u001b[0;34m\u001b[0m\n\u001b[1;32m     26\u001b[0m     \u001b[0mWT\u001b[0m \u001b[0;34m-=\u001b[0m \u001b[0mstepsize\u001b[0m\u001b[0;34m*\u001b[0m\u001b[0mgradL\u001b[0m\u001b[0;34m\u001b[0m\u001b[0;34m\u001b[0m\u001b[0m\n\u001b[1;32m     27\u001b[0m     \u001b[0mL\u001b[0m\u001b[0;34m,\u001b[0m\u001b[0m_\u001b[0m\u001b[0;34m,\u001b[0m\u001b[0mypredicted\u001b[0m \u001b[0;34m=\u001b[0m \u001b[0mloss\u001b[0m\u001b[0;34m(\u001b[0m \u001b[0mWT\u001b[0m\u001b[0;34m,\u001b[0m \u001b[0mX\u001b[0m\u001b[0;34m,\u001b[0m \u001b[0my\u001b[0m \u001b[0;34m)\u001b[0m\u001b[0;34m\u001b[0m\u001b[0;34m\u001b[0m\u001b[0m\n\u001b[0;32m---> 28\u001b[0;31m     \u001b[0maccuracy\u001b[0m \u001b[0;34m=\u001b[0m \u001b[0;34m(\u001b[0m\u001b[0mytest\u001b[0m\u001b[0;34m==\u001b[0m\u001b[0mypredicted\u001b[0m\u001b[0;34m)\u001b[0m\u001b[0;34m.\u001b[0m\u001b[0msum\u001b[0m\u001b[0;34m(\u001b[0m\u001b[0;34m)\u001b[0m\u001b[0;34m/\u001b[0m\u001b[0mlen\u001b[0m\u001b[0;34m(\u001b[0m\u001b[0mytest\u001b[0m\u001b[0;34m)\u001b[0m\u001b[0;34m\u001b[0m\u001b[0;34m\u001b[0m\u001b[0m\n\u001b[0m\u001b[1;32m     29\u001b[0m     \u001b[0maccuracylist\u001b[0m\u001b[0;34m.\u001b[0m\u001b[0mappend\u001b[0m\u001b[0;34m(\u001b[0m\u001b[0maccuracy\u001b[0m\u001b[0;34m)\u001b[0m\u001b[0;34m\u001b[0m\u001b[0;34m\u001b[0m\u001b[0m\n\u001b[1;32m     30\u001b[0m     \u001b[0mLtrain\u001b[0m\u001b[0;34m.\u001b[0m\u001b[0mappend\u001b[0m\u001b[0;34m(\u001b[0m\u001b[0mL\u001b[0m\u001b[0;34m)\u001b[0m\u001b[0;34m\u001b[0m\u001b[0;34m\u001b[0m\u001b[0m\n",
      "\u001b[0;31mAttributeError\u001b[0m: 'bool' object has no attribute 'sum'"
     ]
    },
    {
     "data": {
      "image/png": "[encoded data removed]",
      "text/plain": [
       "<Figure size 432x288 with 1 Axes>"
      ]
     },
     "metadata": {
      "needs_background": "light"
     },
     "output_type": "display_data"
    },
    {
     "data": {
      "image/png": "[encoded data removed]",
      "text/plain": [
       "<Figure size 432x288 with 1 Axes>"
      ]
     },
     "metadata": {
      "needs_background": "light"
     },
     "output_type": "display_data"
    }
   ],
   "source": [
    "# Suppose we have no idea what the weights should be, and start at all zeros:\n",
    "WT = np.zeros( (c, hw) ) \n",
    "Ltrain, Ltest, accuracylist = [],[],[]\n",
    "\n",
    "# get loss and its gradient\n",
    "L,gradL,ypredicted = loss( WT, X, y )\n",
    "\n",
    "# change the weights by a multiple \"stepsize\" of the negative gradient\n",
    "stepsize = 1 # 100   # 1\n",
    "WT -= stepsize*gradL\n",
    "L,gradL, ypredicted = loss( WT, X, y )\n",
    "\n",
    "plt.figure()\n",
    "npts = len(Ltrain)\n",
    "plt.semilogy(range(npts), Ltrain, label='train')\n",
    "plt.semilogy(range(npts), Ltest, label='test')\n",
    "plt.legend()\n",
    "\n",
    "plt.figure()\n",
    "plt.plot( range(npts), accuracylist)\n",
    "plt.title('percent accuracy')\n",
    "#stepsize == learning rate\n",
    "stepsize = 10000000\n",
    "for it in range(1000):\n",
    "    Llast = L\n",
    "    WT -= stepsize*gradL\n",
    "    L,_,ypredicted = loss( WT, X, y )\n",
    "    accuracy = (ytest==ypredicted).sum()/len(ytest)\n",
    "    accuracylist.append(accuracy)\n",
    "    Ltrain.append(L)\n",
    "    Ltest.append(Ltest)\n",
    "\n",
    "plt.figure(figsize=10)\n",
    "for j in range(c):\n",
    "    plt.subplot(1,c,j+1)\n",
    "    plt.imshow(WT[j].reshape(h,w), cmap='seismic')\n",
    "    plt.axis('off')\n",
    "    \n",
    "print(L)"
   ]
  },
  {
   "cell_type": "code",
   "execution_count": 116,
   "metadata": {},
   "outputs": [],
   "source": [
    "import matplotlib.pyplot as plt"
   ]
  },
  {
   "cell_type": "code",
   "execution_count": 117,
   "metadata": {},
   "outputs": [
    {
     "data": {
      "image/png": "[encoded data removed]",
      "text/plain": [
       "<Figure size 720x72 with 10 Axes>"
      ]
     },
     "metadata": {
      "needs_background": "light"
     },
     "output_type": "display_data"
    }
   ],
   "source": [
    "plt.figure(figsize=(10,1))\n",
    "for j in range(c):\n",
    "    plt.subplot(1,c,j+1)\n",
    "    plt.imshow( WT[j].reshape(h,w), cmap='seismic' )\n",
    "    plt.axis('off')"
   ]
  },
  {
   "cell_type": "markdown",
   "metadata": {},
   "source": [
    "Add classification to the loss function"
   ]
  },
  {
   "cell_type": "code",
   "execution_count": 136,
   "metadata": {},
   "outputs": [],
   "source": [
    "def loss(WT, X, y):\n",
    "    \n",
    "    # forward pass for the loss itself\n",
    "\n",
    "    S = WT @ X\n",
    "    P = softmax(S)\n",
    "    ypredicted = np.argmax(P,axis=0)\n",
    "    Py = P[ y , np.arange(n) ] # need the yith row of each column i of P\n",
    "    l = -np.log(Py)\n",
    "    L = l.sum()\n",
    "\n",
    "    # back-propagation of the gradient\n",
    "    \n",
    "    dLdl = np.ones_like( l )\n",
    "\n",
    "    dLdP = np.zeros_like( P )\n",
    "    dLdP[ y , np.arange(n) ] = -1/Py\n",
    "\n",
    "    dLdS = np.zeros_like( S )\n",
    "    for k in range( c ):\n",
    "        dLdS += dLdP[k]*(-P[k]*P)\n",
    "    dLdS += dLdP*P\n",
    "\n",
    "    dLdWT = dLdS @ X.T\n",
    "    \n",
    "    return L, dLdWT  # loss itself and its gradient"
   ]
  },
  {
   "cell_type": "markdown",
   "metadata": {},
   "source": [
    "# With Tensorflow"
   ]
  },
  {
   "cell_type": "code",
   "execution_count": 148,
   "metadata": {
    "scrolled": true
   },
   "outputs": [
    {
     "data": {
      "text/plain": [
       "'1.12.0'"
      ]
     },
     "execution_count": 148,
     "metadata": {},
     "output_type": "execute_result"
    }
   ],
   "source": [
    "import tensorflow\n",
    "tensorflow.__version__"
   ]
  },
  {
   "cell_type": "code",
   "execution_count": 149,
   "metadata": {},
   "outputs": [],
   "source": [
    "from tensorflow.keras.models import Sequential\n",
    "from tensorflow.keras.layers import Dense #fully connected layer"
   ]
  },
  {
   "cell_type": "code",
   "execution_count": 151,
   "metadata": {},
   "outputs": [],
   "source": [
    "def preparedate( folder ):\n",
    "    \n",
    "    pngs = sorted( glob.glob(join(folder, '*.png') ) )\n",
    "    h,w = np.array(Image.open(pngs[0]))[:,:,0].shape #125,100\n",
    "    selection = sorted( {charclass(png) for png in pngs} )\n",
    "\n",
    "    # Load flattened images as columns of big array X\n",
    "    X = np.empty((h*w,len(pngs)))\n",
    "    for i,png in enumerate(pngs):\n",
    "        X[:,i] = 255 - np.array(Image.open(png))[:,:,0].reshape(h*w)\n",
    "    X /= X.sum()  # to avoid having huge numbers in our network\n",
    "\n",
    "    # Get the true class numbers of all the images\n",
    "    y = [selection.index(charclass(png)) for png in pngs]  # true classes of images\n",
    "    return X, y, (h,w)"
   ]
  },
  {
   "cell_type": "code",
   "execution_count": null,
   "metadata": {},
   "outputs": [],
   "source": [
    "model = Sequential()\n",
    "model.add( Dense( 10, input_dim=125*100, activation='softmax') ) # 10 is the number of nodes i.e. the number of outputs\n",
    "\n",
    "from tensorflow.keras.optimizers import SGD\n",
    "sgd = SGD(learning_rate = 1 )\n",
    "model.compile( optimizer=sgd, loss='categorical_crossentropy' )\n",
    "\n",
    "#generate the 1-hot encoding of the label data\n",
    "X, Y = preparedata( folder )\n",
    "\n",
    "model.fit(X?, Y, verbose=2)"
   ]
  }
 ],
 "metadata": {
  "kernelspec": {
   "display_name": "Python 3",
   "language": "python",
   "name": "python3"
  },
  "language_info": {
   "codemirror_mode": {
    "name": "ipython",
    "version": 3
   },
   "file_extension": ".py",
   "mimetype": "text/x-python",
   "name": "python",
   "nbconvert_exporter": "python",
   "pygments_lexer": "ipython3",
   "version": "3.6.9"
  }
 },
 "nbformat": 4,
 "nbformat_minor": 2
}
