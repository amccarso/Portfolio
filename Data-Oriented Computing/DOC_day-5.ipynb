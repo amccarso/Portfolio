{
 "cells": [
  {
   "cell_type": "markdown",
   "metadata": {},
   "source": [
    "### Calculate the loss and its gradient with respect to the weights"
   ]
  },
  {
   "cell_type": "code",
   "execution_count": 1,
   "metadata": {},
   "outputs": [],
   "source": [
    "import numpy as np"
   ]
  },
  {
   "cell_type": "code",
   "execution_count": 41,
   "metadata": {},
   "outputs": [],
   "source": [
    "#Softmax_j(S) = sigma_j(S) = ( e^(S_j) / sum(e^(S_k)) )\n",
    "def softmax(S):\n",
    "    expS = np.exp(S)\n",
    "    return expS/expS.sum(axis=0)"
   ]
  },
  {
   "cell_type": "code",
   "execution_count": 49,
   "metadata": {},
   "outputs": [],
   "source": [
    "hw = 4   # 4 pixels in an image\n",
    "n  = 5   # 5 images\n",
    "c  = 3   # 3 classes\n",
    "\n",
    "\n",
    "X  = np.random.rand( hw, n )\n",
    "y  = np.random.choice( np.arange(c), n )\n",
    "\n",
    "WT = np.random.randn( c, hw )\n",
    "\n",
    "#forward pass for the loss itself\n",
    "# @ == np.dot(WT, X)\n",
    "\n",
    "S  = WT@X\n",
    "P  = softmax(S)\n",
    "Py = P[ y, np.arange(n) ]\n",
    "l = -np.log(Py)\n",
    "L = l.sum()\n",
    "\n",
    "dLdl = np.ones_like( l )\n",
    "\n",
    "dLdP = np.ones_like( P )\n",
    "dLdP[ y, np.arange(n) ] = -1/Py\n",
    "\n",
    "dLdS = np.zeros_like( S )\n",
    "for k in range( c ):\n",
    "    dLdS += dLdP[k]*(-P[k]*P)\n",
    "\n",
    "dLdS += dLdP*P\n",
    "\n",
    "dLdWT = dLdS@X.T\n",
    "#print(dLdWT)"
   ]
  },
  {
   "cell_type": "code",
   "execution_count": 80,
   "metadata": {},
   "outputs": [],
   "source": [
    "def loss(WT, X, y):\n",
    "    \n",
    "    # forward pass for the loss itself\n",
    "\n",
    "    S = WT@X\n",
    "    P = softmax(S)\n",
    "    Py = P[ y , np.arange(n) ] # need the yith row of each column i of P\n",
    "    l = -np.log(Py)\n",
    "    L = l.sum()\n",
    "\n",
    "    # back-propagation of the gradient\n",
    "    dLdl = np.ones_like( l )\n",
    "\n",
    "    dLdP = np.zeros_like( P )\n",
    "    dLdP[ y , np.arange(n) ] = -1/Py\n",
    "    #print(y)\n",
    "    #dLdP\n",
    "\n",
    "    dLdS = np.zeros_like( S )\n",
    "    for k in range( c ):\n",
    "        dLdS += dLdP[k]*(-P[k]*P)\n",
    "    dLdS += dLdP*P\n",
    "\n",
    "    dLdWT = dLdS@X.T\n",
    "    #print(dLdWT)\n",
    "    \n",
    "    return L, dLdWT  # loss itself and its gradient\n"
   ]
  },
  {
   "cell_type": "code",
   "execution_count": 81,
   "metadata": {},
   "outputs": [
    {
     "data": {
      "text/plain": [
       "(10.00429886377675,\n",
       " array([[ 0.60673359,  1.28883337,  0.2889544 ,  1.63608426],\n",
       "        [-1.3524243 , -2.15481671, -0.74912237, -2.194329  ],\n",
       "        [ 0.74569071,  0.86598335,  0.46016798,  0.55824475]]))"
      ]
     },
     "execution_count": 81,
     "metadata": {},
     "output_type": "execute_result"
    }
   ],
   "source": [
    "hw = 4   # 4 pixels in an image\n",
    "n  = 5   # 5 images\n",
    "c  = 3   # 3 classes\n",
    "\n",
    "np.random.seed(1177)\n",
    "X  = np.random.rand( hw, n )\n",
    "y  = np.random.choice( np.arange(c), n )\n",
    "\n",
    "WT = np.random.randn( c, hw )\n",
    "\n",
    "loss(WT, X, y)"
   ]
  },
  {
   "cell_type": "code",
   "execution_count": 82,
   "metadata": {},
   "outputs": [],
   "source": [
    "def fd_approx(WT, X, y, j, q):\n",
    "    L0,_ = loss( WT, X, y ) # loss at base point\n",
    "    delta = 1e-8 # small but not too small\n",
    "    WT1 = WT.copy()\n",
    "    WT1[j, q] += delta\n",
    "    L1,_ = loss( WT1, X, y )\n",
    "    return (L1-L0)/delta # approx of j,q component of gradient"
   ]
  },
  {
   "cell_type": "code",
   "execution_count": 83,
   "metadata": {},
   "outputs": [
    {
     "name": "stdout",
     "output_type": "stream",
     "text": [
      "0.55824474702366\n",
      "0.5582446505059124\n"
     ]
    }
   ],
   "source": [
    "L, g = loss(WT, X, y)\n",
    "print(g[2,3])\n",
    "print( fd_approx(WT,X,y,2,3) )"
   ]
  },
  {
   "cell_type": "code",
   "execution_count": 157,
   "metadata": {},
   "outputs": [],
   "source": [
    "from PIL import Image\n",
    "import matplotlib.pyplot as plt\n",
    "from glob import glob"
   ]
  },
  {
   "cell_type": "code",
   "execution_count": 86,
   "metadata": {},
   "outputs": [],
   "source": [
    "def charclass(png):\n",
    "    return png.split('__')[1][:-4]\n",
    "\n",
    "h,w = 125, 100\n",
    "#a legitimate test on some other images\n",
    "pngs = sorted(glob('pngs/*.png'))\n",
    "selection = sorted( {charclass(png) for png in pngs} )\n",
    "\n",
    "X = np.empty((h*w, len(pngs)))\n",
    "for i,png in enumerate(pngs):\n",
    "    X[:,i] = 255-np.array(Image.open(png))[:,:,0].reshape(h*w)\n",
    "X /= X.sum()\n",
    "\n",
    "y = [selection.index(charclass(png)) for png in pngs]"
   ]
  },
  {
   "cell_type": "code",
   "execution_count": 124,
   "metadata": {},
   "outputs": [],
   "source": [
    "n = len(pngs)\n",
    "c = len(selection)\n",
    "hw = h*w\n",
    "WT = np.zeros( (c,hw) )\n",
    "\n",
    "#get loss and its gradient\n",
    "L,gradL = loss( WT, X, y )"
   ]
  },
  {
   "cell_type": "code",
   "execution_count": 125,
   "metadata": {},
   "outputs": [
    {
     "data": {
      "text/plain": [
       "(3486.1138307929855, -8.86531773315573e-05)"
      ]
     },
     "execution_count": 125,
     "metadata": {},
     "output_type": "execute_result"
    }
   ],
   "source": [
    "L, gradL.min()"
   ]
  },
  {
   "cell_type": "code",
   "execution_count": 153,
   "metadata": {},
   "outputs": [
    {
     "data": {
      "text/plain": [
       "4935.934578642727"
      ]
     },
     "execution_count": 153,
     "metadata": {},
     "output_type": "execute_result"
    }
   ],
   "source": [
    "#change the weights by a multiple \"stepsize\" of the negative gradient\n",
    "stepsize = 10000000\n",
    "WT -= stepsize*gradL\n",
    "L, gradL = loss(WT, X, y)\n",
    "L"
   ]
  },
  {
   "cell_type": "code",
   "execution_count": 166,
   "metadata": {},
   "outputs": [
    {
     "data": {
      "image/png": "[encoded data removed]",
      "text/plain": [
       "<Figure size 720x720 with 10 Axes>"
      ]
     },
     "metadata": {
      "needs_background": "light"
     },
     "output_type": "display_data"
    }
   ],
   "source": [
    "plt.figure(figsize=(10,10))\n",
    "for j in range(c):\n",
    "    plt.subplot(1, c, j+1)\n",
    "    plt.imshow( WT[j].reshape((h,w)), cmap='seismic' )\n",
    "    plt.axis('off')"
   ]
  },
  {
   "cell_type": "code",
   "execution_count": null,
   "metadata": {},
   "outputs": [],
   "source": []
  }
 ],
 "metadata": {
  "kernelspec": {
   "display_name": "Python 3",
   "language": "python",
   "name": "python3"
  },
  "language_info": {
   "codemirror_mode": {
    "name": "ipython",
    "version": 3
   },
   "file_extension": ".py",
   "mimetype": "text/x-python",
   "name": "python",
   "nbconvert_exporter": "python",
   "pygments_lexer": "ipython3",
   "version": "3.6.9"
  }
 },
 "nbformat": 4,
 "nbformat_minor": 2
}
