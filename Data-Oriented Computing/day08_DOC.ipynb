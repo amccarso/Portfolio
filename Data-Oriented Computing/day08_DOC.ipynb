{
 "cells": [
  {
   "cell_type": "code",
   "execution_count": 75,
   "metadata": {},
   "outputs": [],
   "source": [
    "doc = '''\n",
    "<myfantasyteam\n",
    "        xmlns=\"http://blue.math.buffalo.edu/463/myfantasyteam\"\n",
    "        version=\"0.1\" >\n",
    "\n",
    "        <TeamName>Buffalo McNastys</TeamName>\n",
    "        <player>\n",
    "                <name>Kyler Murray</name>\n",
    "                <position>QB</position>\n",
    "                <team>Ari</team>\n",
    "        </player>\n",
    "\n",
    "        <player>\n",
    "                <name>James Conner</name>\n",
    "                <position>RB1</position>\n",
    "                <team>Pit</team>\n",
    "        </player>\n",
    "\n",
    "        <player>\n",
    "                <name>Derrick Henry</name>\n",
    "                <position>RB2</position>\n",
    "                <team>Ten</team>\n",
    "        </player>\n",
    "        \n",
    "        <player>\n",
    "                <name>Michael Thomas</name>\n",
    "                <position>WR1</position>\n",
    "                <team>NO</team>\n",
    "        </player>\n",
    "        \n",
    "        <player>\n",
    "                <name>Kenny Golladay</name>\n",
    "                <position>WR2</position>\n",
    "                <team>Det</team>\n",
    "        </player>\n",
    "        \n",
    "        <player>\n",
    "                <name>Austin Hooper</name>\n",
    "                <position>TE</position>\n",
    "                <team>Atl</team>\n",
    "        </player>\n",
    "        \n",
    "        <player>\n",
    "                <name>Sterling Shephard</name>\n",
    "                <position>Flex</position>\n",
    "                <team>NYG</team>\n",
    "        </player>\n",
    "        \n",
    "        <player>\n",
    "                <name>Josh Lambo</name>\n",
    "                <position>K</position>\n",
    "                <team>Jax</team>\n",
    "        </player>\n",
    "        \n",
    "        <defense>Vikings</defense>\n",
    "\n",
    "</myfantasyteam>'''"
   ]
  },
  {
   "cell_type": "code",
   "execution_count": 76,
   "metadata": {},
   "outputs": [],
   "source": [
    "schema = '''<?xml version=\"1.0\"?>\n",
    "<!-- THIS IS ALMOST MY FIRST XML SCHEMA -->\n",
    "\n",
    "<!--    \"http://www.w3.org/2001/XMLSchema\" is a magic phrase, like \"Open, Sesame\".\n",
    "                No connection is being made to that website.\n",
    "\n",
    "                \"http://blue.math.buffalo.edu/463/myfantasyteam\"\n",
    "                The mandated use of a URL here as the namespace name is intended to ensure\n",
    "                that namespace names are unique.\n",
    "-->\n",
    "\n",
    "<schema\n",
    "        xmlns              =\"http://www.w3.org/2001/XMLSchema\"\n",
    "        targetNamespace    =\"http://blue.math.buffalo.edu/463/myfantasyteam\"\n",
    "        >\n",
    "\n",
    "        <element name=\"myfantasyteam\">\n",
    "                <complexType>\n",
    "                        <sequence>\n",
    "                                <element name=\"TeamName\" type=\"string\"/>\n",
    "                                <element name=\"player\" maxOccurs=\"unbounded\">\n",
    "                                        <complexType>\n",
    "                                                <all>\n",
    "                                                        <element name=\"name\" type=\"string\" />\n",
    "                                                        <element name=\"position\" type=\"string\" />\n",
    "                                                        <element name=\"team\" type=\"string\" />\n",
    "                                                </all>\n",
    "                                        </complexType>\n",
    "                                </element>\n",
    "                                <element name=\"defense\" type=\"string\"/>\n",
    "                        </sequence>\n",
    "                        <attribute name=\"version\" type=\"decimal\" use=\"required\" />\n",
    "                </complexType>\n",
    "        </element>\n",
    "\n",
    "\n",
    "</schema>'''"
   ]
  },
  {
   "cell_type": "code",
   "execution_count": 77,
   "metadata": {
    "scrolled": true
   },
   "outputs": [],
   "source": [
    "import xmlschema\n",
    "xmlschema.validate(doc3, schema3)"
   ]
  },
  {
   "cell_type": "code",
   "execution_count": null,
   "metadata": {},
   "outputs": [],
   "source": []
  },
  {
   "cell_type": "markdown",
   "metadata": {},
   "source": [
    "# Regular Expressions"
   ]
  },
  {
   "cell_type": "code",
   "execution_count": 5,
   "metadata": {},
   "outputs": [],
   "source": [
    "import re"
   ]
  },
  {
   "cell_type": "code",
   "execution_count": 6,
   "metadata": {},
   "outputs": [
    {
     "data": {
      "text/plain": [
       "['cat', 'sat', 'mat']"
      ]
     },
     "execution_count": 6,
     "metadata": {},
     "output_type": "execute_result"
    }
   ],
   "source": [
    "re.findall('.at', 'The cat sat on the mat')"
   ]
  },
  {
   "cell_type": "code",
   "execution_count": 7,
   "metadata": {},
   "outputs": [
    {
     "data": {
      "text/plain": [
       "['The cat sat on the mat']"
      ]
     },
     "execution_count": 7,
     "metadata": {},
     "output_type": "execute_result"
    }
   ],
   "source": [
    "re.findall('.*at', 'The cat sat on the mat.')"
   ]
  },
  {
   "cell_type": "code",
   "execution_count": 8,
   "metadata": {},
   "outputs": [
    {
     "data": {
      "text/plain": [
       "['The cat', ' sat', ' on the mat']"
      ]
     },
     "execution_count": 8,
     "metadata": {},
     "output_type": "execute_result"
    }
   ],
   "source": [
    "re.findall('.*?at', 'The cat sat on the mat')"
   ]
  },
  {
   "cell_type": "code",
   "execution_count": 9,
   "metadata": {},
   "outputs": [
    {
     "data": {
      "text/plain": [
       "['cat', 'spat', 'mat']"
      ]
     },
     "execution_count": 9,
     "metadata": {},
     "output_type": "execute_result"
    }
   ],
   "source": [
    "re.findall('[A-Z,a-z]*?at', 'The cat spat on the mat.')"
   ]
  },
  {
   "cell_type": "code",
   "execution_count": 10,
   "metadata": {},
   "outputs": [
    {
     "data": {
      "text/plain": [
       "['spat']"
      ]
     },
     "execution_count": 10,
     "metadata": {},
     "output_type": "execute_result"
    }
   ],
   "source": [
    "re.findall('[A-Z,a-z]{2,10}at','The cat spat on the mat.')"
   ]
  },
  {
   "cell_type": "code",
   "execution_count": 11,
   "metadata": {},
   "outputs": [
    {
     "data": {
      "text/plain": [
       "['c', 'sp', 'm']"
      ]
     },
     "execution_count": 11,
     "metadata": {},
     "output_type": "execute_result"
    }
   ],
   "source": [
    "re.findall('([A-Z,a-z]*?)at', 'The cat spat on the mat.')"
   ]
  },
  {
   "cell_type": "code",
   "execution_count": 12,
   "metadata": {},
   "outputs": [
    {
     "data": {
      "text/plain": [
       "['cat', 'spat', 'the', 'mat']"
      ]
     },
     "execution_count": 12,
     "metadata": {},
     "output_type": "execute_result"
    }
   ],
   "source": [
    "re.findall('[A-Z,a-z]*?at|th.', 'The cat spat on the mat.')"
   ]
  },
  {
   "cell_type": "code",
   "execution_count": 13,
   "metadata": {},
   "outputs": [
    {
     "data": {
      "text/plain": [
       "['3.14159', '2.71']"
      ]
     },
     "execution_count": 13,
     "metadata": {},
     "output_type": "execute_result"
    }
   ],
   "source": [
    "re.findall('\\d*\\.\\d*','3.14159 > 2.71')"
   ]
  },
  {
   "cell_type": "markdown",
   "metadata": {},
   "source": []
  }
 ],
 "metadata": {
  "kernelspec": {
   "display_name": "Python 3",
   "language": "python",
   "name": "python3"
  },
  "language_info": {
   "codemirror_mode": {
    "name": "ipython",
    "version": 3
   },
   "file_extension": ".py",
   "mimetype": "text/x-python",
   "name": "python",
   "nbconvert_exporter": "python",
   "pygments_lexer": "ipython3",
   "version": "3.6.9"
  }
 },
 "nbformat": 4,
 "nbformat_minor": 2
}
